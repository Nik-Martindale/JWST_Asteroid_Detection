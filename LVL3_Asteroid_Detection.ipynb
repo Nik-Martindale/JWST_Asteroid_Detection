{
 "cells": [
  {
   "cell_type": "markdown",
   "id": "9139e634-9824-4d8a-a9a1-5454eec50824",
   "metadata": {},
   "source": [
    "# Generate Asteroid CSV for Calibration Level 3 Data"
   ]
  },
  {
   "cell_type": "markdown",
   "id": "c16a90d0-0cc5-4f0b-bc37-3ebb77544f3b",
   "metadata": {},
   "source": [
    "This pipeline will scrape through a specified dataset within JWST observations to identify what asteroids are present within the images at the moment of their observation. The names of any known asteroid contained in the image bounds, along with useful information regarding the observation parameters will be saved in a CSV."
   ]
  },
  {
   "cell_type": "markdown",
   "id": "0a58e9a5-5e4a-4b0d-bf24-a68039cccec7",
   "metadata": {},
   "source": [
    "## Import Libraries"
   ]
  },
  {
   "cell_type": "code",
   "execution_count": 1,
   "id": "6a942def-b578-41d9-b579-5e415191513f",
   "metadata": {
    "tags": []
   },
   "outputs": [],
   "source": [
    "from astroquery.esa.jwst import Jwst\n",
    "import numpy as np\n",
    "from datetime import datetime\n",
    "\n",
    "from tqdm.notebook import tqdm\n",
    "tqdm.pandas()\n",
    "\n",
    "import pandas as pd\n",
    "from astropy.io import fits\n",
    "import astropy.time as at\n",
    "from astroquery.jplhorizons import Horizons\n",
    "import re\n",
    "import os\n",
    "import sys\n",
    "import time\n",
    "import logging\n",
    "import shapely.wkt\n",
    "from shapely.geometry import Polygon, Point\n",
    "from astropy.wcs import WCS\n",
    "from astropy.coordinates import SkyCoord\n",
    "from astropy.time import Time\n",
    "import astropy.units as u\n",
    "from sbident import SBIdent\n",
    "\n",
    "import warnings\n",
    "warnings.filterwarnings('ignore')"
   ]
  },
  {
   "cell_type": "markdown",
   "id": "14ea298a-817f-4c25-945f-366fdafa9196",
   "metadata": {
    "tags": []
   },
   "source": [
    "## Utility Functions"
   ]
  },
  {
   "cell_type": "code",
   "execution_count": 2,
   "id": "55ff1bc5-f70d-4edf-af68-b782b6918e31",
   "metadata": {
    "tags": []
   },
   "outputs": [],
   "source": [
    "def formatPolygon(polyString):\n",
    "    #Format the archive polygon string to a format that is compatible with the shapely function\n",
    "    \n",
    "    #slice away the polygon charactors 'polygon((' from the start and '))' from the end\n",
    "    coords = polyString[8:-2].split(' ')\n",
    "    \n",
    "    #Add in the fist location at the end to close the loop\n",
    "    coords.append(coords[0])\n",
    "    coords.append(coords[1])\n",
    "    \n",
    "    return f\"POLYGON (({', '.join([coords[i] + ' ' + coords[i+1] for i in range(0, len(coords), 2)])}))\""
   ]
  },
  {
   "cell_type": "code",
   "execution_count": 3,
   "id": "ea667d35-5370-4735-b627-eec318235c87",
   "metadata": {
    "tags": []
   },
   "outputs": [],
   "source": [
    "def replace_values(val):\n",
    "    #Convert binary elements into 'yes' or 'no' string outputs\n",
    "    \n",
    "    return 'yes' if value == '1' else 'no'"
   ]
  },
  {
   "cell_type": "code",
   "execution_count": 4,
   "id": "05beae35-493f-413d-beb7-4dc4577664b0",
   "metadata": {
    "tags": []
   },
   "outputs": [],
   "source": [
    "class HiddenPrints:\n",
    "    #Used for specific functions that have default printout statements that are unnecessary \n",
    "    \n",
    "    def __enter__(self):\n",
    "        self._original_stdout = sys.stdout\n",
    "        sys.stdout = open(os.devnull, 'w')\n",
    "\n",
    "    def __exit__(self, exc_type, exc_val, exc_tb):\n",
    "        sys.stdout.close()\n",
    "        sys.stdout = self._original_stdout"
   ]
  },
  {
   "cell_type": "code",
   "execution_count": 5,
   "id": "19e390bb-e042-4c52-b635-e990550b0a50",
   "metadata": {
    "tags": []
   },
   "outputs": [],
   "source": [
    "def MJDconversion(modifiedJulianDate):\n",
    "    #Convert string from Modified Julian Date to YYYMMDD[H:M:S] format\n",
    "   \n",
    "    return (Time(modifiedJulianDate, format='mjd').iso)"
   ]
  },
  {
   "cell_type": "code",
   "execution_count": 6,
   "id": "8e964cc2-5f6b-4ad9-a16e-9189637afc7f",
   "metadata": {
    "tags": []
   },
   "outputs": [],
   "source": [
    "def isLocatedInImage(targetRA, targetDEC, imagePOLYGON):\n",
    "    #Check if the RA and DEC coordinate exist within the image bound polygon (returns boolean)\n",
    "    \n",
    "    return(imagePOLYGON.contains(Point(targetRA, targetDEC)))"
   ]
  },
  {
   "cell_type": "code",
   "execution_count": 7,
   "id": "d42d047a-648a-4a7c-8c06-14c12c2dc159",
   "metadata": {
    "tags": []
   },
   "outputs": [],
   "source": [
    "def definePolyEdges(polyString):\n",
    "    #Define the image boundaries for the cone search\n",
    "    \n",
    "    #Deconstruct the polygon string into its RA and DEC coordinates \n",
    "    coordinates = polyString.replace(\"POLYGON ((\", \"\").replace(\"))\", \"\").replace(\", \", \" \").split()\n",
    "    coordinates = list(map(float, coordinates))\n",
    "    \n",
    "    #pull RA and DEC values\n",
    "    RA_elements = coordinates[::2]\n",
    "    DEC_elements = coordinates[1::2]\n",
    "    \n",
    "    #identify the boundary for the lower right corner of the cone\n",
    "    low_right_corner = SkyCoord(min(RA_elements), min(DEC_elements), frame='icrs', unit='deg') \n",
    "    \n",
    "    #identify the boundary for the upper left corner of the cone\n",
    "    up_left_corner = SkyCoord(max(RA_elements), max(DEC_elements), frame='icrs', unit='deg')\n",
    "    \n",
    "    return([low_right_corner, up_left_corner])   "
   ]
  },
  {
   "cell_type": "code",
   "execution_count": 8,
   "id": "00feac3a-2001-421e-b468-4130bf6018b0",
   "metadata": {
    "tags": []
   },
   "outputs": [],
   "source": [
    "def JWSTposition(obsTime):\n",
    "    #Determine the position of JWST during the observation time from an Earth perspective. Follows example 3 from  https://github.com/bengebre/sbident/blob/main/examples/sbident-examples.ipynb \n",
    "    \n",
    "    #generate AU to km conversion\n",
    "    au_to_km = (1 * u.au).to(u.km).value\n",
    "    \n",
    "    #probe for the jwst output from jpl horizons, state vector\n",
    "    jwst_output = Horizons(id='JWST',location='Geocentric',epochs=obsTime.jd, id_type='id').vectors(refplane='earth')\n",
    "\n",
    "    # Convert position and velocity from AU to km and km/s respectively\n",
    "    jwst_output_km = jwst_output[['x', 'y', 'z', 'vx', 'vy', 'vz']].to_pandas().to_numpy()\n",
    "    jwst_output_km[:, :3] *= au_to_km  # Convert position (x, y, z) from AU to km\n",
    "    jwst_output_km[:, 3:] /= 86400     # Convert velocity (vx, vy, vz) from AU/day to km/s\n",
    "\n",
    "\n",
    "    #Form the xobs dictionary that is the input for SBIdent location argument\n",
    "    xobs = ','.join([f\"{s:.12e}\" for s in jwst_output_km[0]])\n",
    "    return {'xobs': xobs}"
   ]
  },
  {
   "cell_type": "markdown",
   "id": "0aafb700-6425-43aa-af41-f14ed2346e4c",
   "metadata": {},
   "source": [
    "## Generate ADQL Search"
   ]
  },
  {
   "cell_type": "code",
   "execution_count": 9,
   "id": "8a1040ef-9cc6-4af8-bf7c-6166bf619c9c",
   "metadata": {
    "tags": []
   },
   "outputs": [],
   "source": [
    "def queryArchive(volume, readouts, query_filters):\n",
    "    #Generate an adql query search for the JWST archive to filter the observations and produce a pandas DF containing all useful information\n",
    "    \n",
    "    #Setting up constraints and filters for data selected for the archive return\n",
    "    query_string = f\"SELECT {','.join(readouts)} FROM jwst.{volume} WHERE {' AND '.join(query_filters)}\"\n",
    "    \n",
    "    #Pull data formatted by the display amount, volume and filter \n",
    "    job = Jwst.launch_job(query_string, async_job=True)\n",
    "    panda_result = job.get_results().to_pandas()\n",
    "        \n",
    "    #Sort the dataframe by the proposal ID\n",
    "    return panda_result.sort_values(by=['observationid']).reset_index(drop=True)"
   ]
  },
  {
   "cell_type": "code",
   "execution_count": 10,
   "id": "1cead4df-4a15-464b-84f8-88f214d6c6f8",
   "metadata": {
    "tags": []
   },
   "outputs": [],
   "source": [
    "def query4proposals(volume, readouts, query_filters, proposals):\n",
    "    #Generate an adql query search for the JWST archive to filter the observations and produce a pandas DF containing all useful information\n",
    "    \n",
    "    propIDs = ', '.join([f\"'{props}'\" for props in proposals])\n",
    "    \n",
    "    #determine what level 2 i2d image composites for a given level 3 image\n",
    "    query_filters.append(f\"jwst.{volume}.proposal_id IN ({propIDs})\")\n",
    "    \n",
    "    #Setting up constraints and filters for data selected for the CSV\n",
    "    readout_string = ','.join(readouts)\n",
    "    filter_string = ' AND '.join(query_filters)\n",
    "    query_string = f\"SELECT {readout_string} FROM jwst.{volume} WHERE ({filter_string})\"\n",
    "\n",
    "    #Pull data formatted by the display amount, volume and filter \n",
    "    job = Jwst.launch_job(query_string, async_job=True)\n",
    "    panda_results = job.get_results().to_pandas()\n",
    "    #panda_results = result.to_pandas()\n",
    "    \n",
    "    #Insert additional columns containing the path to the observation fits and the exposure time range (converted from MJD)\n",
    "    panda_results['Instrument'] = panda_results['instrument_name'].str.replace('/IMAGE', '', regex=False)\n",
    "    panda_results['Lower_Time'] = panda_results['time_bounds_lower'].apply(MJDconversion)\n",
    "    panda_results['Middle_Time'] = [\n",
    "        MJDconversion(lower + (upper - lower) / 2)\n",
    "        for lower, upper in zip(panda_results['time_bounds_lower'], panda_results['time_bounds_upper'])\n",
    "        ]\n",
    "    panda_results['Upper_Time'] = panda_results['time_bounds_upper'].apply(MJDconversion)\n",
    "\n",
    "    # Sort and reset index\n",
    "    panda_results.sort_values(by='observationid', inplace=True)\n",
    "    panda_results.reset_index(drop=True, inplace=True)\n",
    "\n",
    "    return(panda_results)"
   ]
  },
  {
   "cell_type": "markdown",
   "id": "dad0849c-1845-40b1-8116-d0e50e9d30c5",
   "metadata": {},
   "source": [
    "## Check Asteroids Flagged by the JPL Horizons Database (From JWST Refference Frame)"
   ]
  },
  {
   "cell_type": "code",
   "execution_count": 11,
   "id": "9e1c460f-aef3-445c-bdfd-5beb388b89d5",
   "metadata": {
    "tags": []
   },
   "outputs": [],
   "source": [
    "def coneSearch(Exptime, Edge1, Edge2):\n",
    "    #Cone search method to identify what asteroids are present in the observation at a specific time bound by the image corners\n",
    "    \n",
    "    #Convert the exposure time string into the observation time to probe the cone search\n",
    "    ObsTime = Time(Exptime)\n",
    "    \n",
    "    #determine the JWST position at the moment of observation\n",
    "    jwstLocation= JWSTposition(ObsTime)\n",
    "\n",
    "    #Apply the small body identification cone search method 'sbid' from https://github.com/bengebre/sbident\n",
    "    sbid = SBIdent(jwstLocation, ObsTime, [Edge1, Edge2]).results\n",
    "    \n",
    "    return(sbid)"
   ]
  },
  {
   "cell_type": "code",
   "execution_count": 12,
   "id": "ff75e285-9688-4e95-9e6f-efb5d60c715b",
   "metadata": {
    "tags": []
   },
   "outputs": [],
   "source": [
    "def jplHorizonsSearch(targetID, startTime, stopTime, polyString):\n",
    "    #Search the JPL Horizons data for a specific target to get orbital values. \n",
    "    #This method is more accurate then the cone search and provides a double check for asteroids (named from the cone search) existing in the image\n",
    "    \n",
    "    #generate polygon variable from the polygon string\n",
    "    poly = shapely.wkt.loads(polyString)\n",
    "    \n",
    "    #define the probe minutes at its lowest setting as to not miss ny additional data\n",
    "    #Note: there is likely a way to toggle this depending on the length of the exposure time as sometimes the exposure tis very long\n",
    "    probeMinutes = 1\n",
    "\n",
    "    #get return from the JPL horizons output regarding the specific target searched\n",
    "    jpl_output = Horizons(\n",
    "        id=targetID, \n",
    "        location='Geocentric@JWST', \n",
    "        epochs={'start': str(startTime), 'stop' : str(stopTime), 'step' : f\"{probeMinutes}m\"}\n",
    "    ) \n",
    "\n",
    "    #get Ephemerides data\n",
    "    jpl_pandas = jpl_output.ephemerides().to_pandas()\n",
    "    \n",
    "    #pull out the RA and DEC lists marking the position of the asteroid at this time\n",
    "    asteroid_positions = zip(jpl_pandas['RA'], jpl_pandas['DEC'])\n",
    "    \n",
    "    #check to see if there are any times during this that the asteroid intercepts with the imaging window\n",
    "    return (any(isLocatedInImage(ra, dec, poly) for ra, dec in asteroid_positions))"
   ]
  },
  {
   "cell_type": "code",
   "execution_count": 13,
   "id": "c1d667ed-4700-4c84-ba6e-94754477e160",
   "metadata": {
    "tags": []
   },
   "outputs": [],
   "source": [
    "def asteroidSearch(polyString, ExpStart, ExpMid, ExpEnd):\n",
    "    #Begin the asteroid search process \n",
    "\n",
    "    #convert the format of the polygon string\n",
    "    poly_string_formatted = formatPolygon(str(polyString))\n",
    " \n",
    "    #define the image bounds from the polygon\n",
    "    poly_corners = definePolyEdges(poly_string_formatted)\n",
    "    \n",
    "    contained_asteroids = []\n",
    "    \n",
    "    #apply the small body identification cone search, using the midway exposure time\n",
    "    #note: unlike the jpl horizons, the sbident cone search only utilizes 1 fixed time\n",
    "    sbid_middle_results = coneSearch(ExpMid, *poly_corners)\n",
    "    \n",
    "    if not sbid_middle_results or len(sbid_middle_results) == 0:\n",
    "        return \"\"  # No asteroids found in the cone search\n",
    "    \n",
    "    \n",
    "    #If there are asteroids in the cone search\n",
    "\n",
    "    sbid_asteroids = sbid_middle_results['Object name']\n",
    "    \n",
    "    #determine the unique names in the lists\n",
    "    unique_asteroids = {\n",
    "            x.split('(')[-1].replace(')', '') \n",
    "            for x in sbid_middle_results['Object name']\n",
    "    }\n",
    "\n",
    "    #Now that we have a rough Idea of which asteroids are located in the greater cone search area\n",
    "    #Apply the more accurate JPL Horizons search to identify asteroids within the image polygon instead of the much larger cone search region \n",
    "    contained_asteroids = [\n",
    "        asteroid for asteroid in unique_asteroids \n",
    "        if jplHorizonsSearch(asteroid, ExpStart, ExpEnd, poly_string_formatted)\n",
    "    ]\n",
    "\n",
    "    return contained_asteroids if contained_asteroids else \"\"                                    "
   ]
  },
  {
   "cell_type": "markdown",
   "id": "f0ee2b93-990a-42f8-89c9-ceb70698bb28",
   "metadata": {},
   "source": [
    "## Main Function"
   ]
  },
  {
   "cell_type": "code",
   "execution_count": 14,
   "id": "4a8efe9a-692e-42cd-abcb-48735b823902",
   "metadata": {
    "tags": []
   },
   "outputs": [],
   "source": [
    "def level3asteroidDetection(username, password, save_loc='LVL3_Asteroids', propRange=[1000,2000], instrumentName = 'MIRI/IMAGE', dataType = 'image', calLVL = 3, volume = 'archive', additionalFilters = []):\n",
    "    \"\"\" This function will examine the level 3 calibration JWST images from the archive volume to determine which known asteroids (from JPL Horizons)\n",
    "    are present within the image bounds. Specific proposals will be checked fro ma provided range \"\"\"\n",
    "    #username = JWST archive login info\n",
    "    #password = JWST archive login info\n",
    "    #save_loc = name of generated folder to contain results\n",
    "    ### Filter Search Parameters ###\n",
    "    #propRange = list containind the starting and ending proposal range to check\n",
    "    #instrumentName = archive instrument name\n",
    "    #datatype = archive data type\n",
    "    #calLVL = archive calibration level\n",
    "    #volume = what volume to do the archive search on\n",
    "    #additionalFilters = list of strings containing additional filters to be used in the archive filtering\n",
    "        \n",
    "    ### Login to the JWST archive ###\n",
    "    #Cosmos Account Credentials, can be removed or changed to use another username or password\n",
    "    with HiddenPrints():\n",
    "        Jwst.login(user=f\"{username}\", password=f\"{password}\")\n",
    "    \n",
    "    \n",
    "    ### Generate Save Location ###\n",
    "    \n",
    "    #logging.info('Checking save_loc exists...')\n",
    "    if not os.path.exists(save_loc):\n",
    "        os.mkdir(save_loc)\n",
    "        print(f'Generating New Save Location {save_loc}')\n",
    "     \n",
    "    \n",
    "    ### Apply Initial Query Search ###\n",
    "       \n",
    "    lowerbound_proposal, upperbound_proposal = propRange\n",
    "    \n",
    "    #apply initial search filters\n",
    "    initQueryFilters = [\n",
    "            f'jwst.{volume}.calibrationlevel = {calLVL}',\n",
    "            f\"jwst.{volume}.dataproducttype = '{dataType}'\",\n",
    "            f\"jwst.{volume}.instrument_name = '{instrumentName}'\",\n",
    "            f\"jwst.{volume}.proposal_id >= '{lowerbound_proposal}'\",\n",
    "            f\"jwst.{volume}.proposal_id <= '{upperbound_proposal}'\"\n",
    "        ] + additionalFilters  # Append additional filters if provided\n",
    "    \n",
    "    #query the archive\n",
    "    try:\n",
    "        with HiddenPrints():\n",
    "            initArchiveDF = queryArchive(volume, ['proposal_id','observationid'], initQueryFilters)\n",
    "            propList = initArchiveDF.to_dict(\"list\")['proposal_id']\n",
    "            uniquePropList = sorted(set(initArchiveDF['proposal_id']))\n",
    "            \n",
    "    except Exception as e:\n",
    "        print(\"Filter did not comply with Archive query expectations\")\n",
    "        print(e)\n",
    "        print(\"Ensure the following format ... 'jwst.{volume}.{filterTitle} {(in)equlity} {filterAmount}'\")\n",
    "\n",
    "    \n",
    "    if not uniquePropList:\n",
    "        #print(f\"No proposals found in the specified range {propRange}\")\n",
    "        return None\n",
    "    \n",
    "    \n",
    "    ### Loop Through Proposals ###\n",
    "        \n",
    "    print(f\"Processing proposals: {uniquePropList}\")\n",
    "\n",
    "    #apply important parameters to return and filter by\n",
    "    queryTopics = ['proposal_id',  'observationid',        'instrument_name',  'energy_bandpassname',\n",
    "                   'target_moving','position_bounds_spoly','time_bounds_lower','time_bounds_upper']\n",
    "    \n",
    "    queryFilters = [\n",
    "        f'jwst.{volume}.calibrationlevel = {calLVL}',\n",
    "        f\"jwst.{volume}.dataproducttype = '{dataType}'\",\n",
    "        f\"jwst.{volume}.instrument_name = '{instrumentName}'\"\n",
    "    ]\n",
    "\n",
    "    #query the archive for the specific proposals\n",
    "    with HiddenPrints():\n",
    "        archiveDF = query4proposals(volume, queryTopics, queryFilters, uniquePropList)\n",
    "\n",
    "\n",
    "    ### loop through the observations in a specific proposal ###\n",
    "    \"\"\"\n",
    "    asteroidCSV = (\n",
    "        archiveDF\n",
    "        .assign(\n",
    "            Known_Asteroids = archiveDF.progress_apply(\n",
    "                lambda row: asteroidSearch(polyString = row['position_bounds_spoly'], ExpStart = row['Lower_Time'], ExpMid = row['Middle_Time'], ExpEnd = row['Upper_Time']), axis = 1\n",
    "            )\n",
    "        )\n",
    "    )  \n",
    "    \"\"\"\n",
    "    archiveDF['Known_Asteroids'] = archiveDF.progress_apply(\n",
    "        lambda row: asteroidSearch(\n",
    "            polyString=row['position_bounds_spoly'],\n",
    "            ExpStart=row['Lower_Time'],\n",
    "            ExpMid=row['Middle_Time'],  \n",
    "            ExpEnd=row['Upper_Time']\n",
    "        ), axis=1\n",
    "    )\n",
    "\n",
    "    ### Complete and format the CSV and publish the output ###\n",
    "\n",
    "    asteroidCSV = (\n",
    "        archiveDF[['proposal_id', 'observationid', 'Instrument', 'energy_bandpassname', \n",
    "                     'target_moving', 'position_bounds_spoly', 'Lower_Time', 'Upper_Time', 'Known_Asteroids']]\n",
    "        .rename(columns={\n",
    "            'proposal_id': 'Proposal', \n",
    "            'observationid': 'Observation', \n",
    "            'Instrument': 'Instrument', \n",
    "            'energy_bandpassname': 'Filter', \n",
    "            'target_moving': 'Moving', \n",
    "            'position_bounds_spoly': 'Polygon', \n",
    "            'Lower_Time': 'Exp Start', \n",
    "            'Upper_Time': 'Exp End', \n",
    "            'Known_Asteroids': 'Asteroids'\n",
    "        })\n",
    "        .assign(Moving=lambda df: df['Moving'].replace({0: 'No', 1: 'Yes'}))\n",
    "        .reset_index(drop=True)\n",
    "    )\n",
    "\n",
    "    #asteroidCSV = asteroidCSV[['proposal_id', 'observationid','Instrument','energy_bandpassname', 'target_moving','position_bounds_spoly','Lower_Time', 'Upper_Time', 'Known_Asteroids']]\n",
    "    #asteroidCSV.reset_index(inplace=True, drop=True)\n",
    "    #asteroidCSV.columns = ['Proposal', 'Observation', 'Instrument', 'Filter', 'Moving', 'Polygon', 'Exp Start', 'Exp End', 'Asteroids']\n",
    "    #asteroidCSV['Moving'] = asteroidCSV['Moving'].apply(replace_values)\n",
    "\n",
    "    return(asteroidCSV)"
   ]
  },
  {
   "cell_type": "markdown",
   "id": "89065deb-7793-440f-825b-e1f388dbd739",
   "metadata": {},
   "source": [
    "## Run"
   ]
  },
  {
   "cell_type": "code",
   "execution_count": null,
   "id": "0c33becd-2608-4bde-b406-38c6dadabb59",
   "metadata": {
    "tags": []
   },
   "outputs": [
    {
     "name": "stdout",
     "output_type": "stream",
     "text": [
      "Processing proposals: ['3034']\n"
     ]
    },
    {
     "data": {
      "application/vnd.jupyter.widget-view+json": {
       "model_id": "e9c16e5006684768b21952ec0ea43786",
       "version_major": 2,
       "version_minor": 0
      },
      "text/plain": [
       "  0%|          | 0/30 [00:00<?, ?it/s]"
      ]
     },
     "metadata": {},
     "output_type": "display_data"
    },
    {
     "name": "stdout",
     "output_type": "stream",
     "text": [
      "Processing proposals: ['3050']\n"
     ]
    },
    {
     "data": {
      "application/vnd.jupyter.widget-view+json": {
       "model_id": "62103ae39def4867a9186ed8b9dd9ef9",
       "version_major": 2,
       "version_minor": 0
      },
      "text/plain": [
       "  0%|          | 0/5 [00:00<?, ?it/s]"
      ]
     },
     "metadata": {},
     "output_type": "display_data"
    },
    {
     "name": "stdout",
     "output_type": "stream",
     "text": [
      "Processing proposals: ['3153']\n"
     ]
    },
    {
     "data": {
      "application/vnd.jupyter.widget-view+json": {
       "model_id": "afb08ffd647a464cb03994457a6b2def",
       "version_major": 2,
       "version_minor": 0
      },
      "text/plain": [
       "  0%|          | 0/27 [00:00<?, ?it/s]"
      ]
     },
     "metadata": {},
     "output_type": "display_data"
    },
    {
     "name": "stdout",
     "output_type": "stream",
     "text": [
      "Processing proposals: ['3177']\n"
     ]
    },
    {
     "data": {
      "application/vnd.jupyter.widget-view+json": {
       "model_id": "1b27b7d6ed57477eaf3a995d69b50507",
       "version_major": 2,
       "version_minor": 0
      },
      "text/plain": [
       "  0%|          | 0/6 [00:00<?, ?it/s]"
      ]
     },
     "metadata": {},
     "output_type": "display_data"
    },
    {
     "name": "stdout",
     "output_type": "stream",
     "text": [
      "Processing proposals: ['3195']\n"
     ]
    },
    {
     "data": {
      "application/vnd.jupyter.widget-view+json": {
       "model_id": "5ed64e529c9946538e83b1dfd89afff4",
       "version_major": 2,
       "version_minor": 0
      },
      "text/plain": [
       "  0%|          | 0/8 [00:00<?, ?it/s]"
      ]
     },
     "metadata": {},
     "output_type": "display_data"
    },
    {
     "name": "stdout",
     "output_type": "stream",
     "text": [
      "Processing proposals: ['3226', '3228']\n"
     ]
    },
    {
     "data": {
      "application/vnd.jupyter.widget-view+json": {
       "model_id": "9ed83810918f47d585dd6fddf212c14e",
       "version_major": 2,
       "version_minor": 0
      },
      "text/plain": [
       "  0%|          | 0/33 [00:00<?, ?it/s]"
      ]
     },
     "metadata": {},
     "output_type": "display_data"
    },
    {
     "name": "stdout",
     "output_type": "stream",
     "text": [
      "Processing proposals: ['3271']\n"
     ]
    },
    {
     "data": {
      "application/vnd.jupyter.widget-view+json": {
       "model_id": "4c09461508564ba680d3ce2f8bba3cc0",
       "version_major": 2,
       "version_minor": 0
      },
      "text/plain": [
       "  0%|          | 0/6 [00:00<?, ?it/s]"
      ]
     },
     "metadata": {},
     "output_type": "display_data"
    },
    {
     "name": "stdout",
     "output_type": "stream",
     "text": [
      "Processing proposals: ['3295']\n"
     ]
    },
    {
     "data": {
      "application/vnd.jupyter.widget-view+json": {
       "model_id": "93dcac31edb34ee39f9e6945f8f1e4d7",
       "version_major": 2,
       "version_minor": 0
      },
      "text/plain": [
       "  0%|          | 0/81 [00:00<?, ?it/s]"
      ]
     },
     "metadata": {},
     "output_type": "display_data"
    },
    {
     "name": "stdout",
     "output_type": "stream",
     "text": [
      "Processing proposals: ['3368']\n"
     ]
    },
    {
     "data": {
      "application/vnd.jupyter.widget-view+json": {
       "model_id": "6b1bc64caec147c582026bed2f9e1dec",
       "version_major": 2,
       "version_minor": 0
      },
      "text/plain": [
       "  0%|          | 0/153 [00:00<?, ?it/s]"
      ]
     },
     "metadata": {},
     "output_type": "display_data"
    },
    {
     "name": "stdout",
     "output_type": "stream",
     "text": [
      "Processing proposals: ['3384']\n"
     ]
    },
    {
     "data": {
      "application/vnd.jupyter.widget-view+json": {
       "model_id": "3fc3913c0351493e9ab72a3968c9d39c",
       "version_major": 2,
       "version_minor": 0
      },
      "text/plain": [
       "  0%|          | 0/5 [00:00<?, ?it/s]"
      ]
     },
     "metadata": {},
     "output_type": "display_data"
    },
    {
     "name": "stdout",
     "output_type": "stream",
     "text": [
      "Processing proposals: ['3429']\n"
     ]
    },
    {
     "data": {
      "application/vnd.jupyter.widget-view+json": {
       "model_id": "86773cd928c040778276f43e9fe5141a",
       "version_major": 2,
       "version_minor": 0
      },
      "text/plain": [
       "  0%|          | 0/28 [00:00<?, ?it/s]"
      ]
     },
     "metadata": {},
     "output_type": "display_data"
    },
    {
     "name": "stdout",
     "output_type": "stream",
     "text": [
      "Processing proposals: ['3435', '3436']\n"
     ]
    },
    {
     "data": {
      "application/vnd.jupyter.widget-view+json": {
       "model_id": "7d7a375971a148868e40094e5ae858e0",
       "version_major": 2,
       "version_minor": 0
      },
      "text/plain": [
       "  0%|          | 0/38 [00:00<?, ?it/s]"
      ]
     },
     "metadata": {},
     "output_type": "display_data"
    },
    {
     "name": "stdout",
     "output_type": "stream",
     "text": [
      "Processing proposals: ['3445', '3449']\n"
     ]
    },
    {
     "data": {
      "application/vnd.jupyter.widget-view+json": {
       "model_id": "4847951b9f604e26a6dbeaed129dba8a",
       "version_major": 2,
       "version_minor": 0
      },
      "text/plain": [
       "  0%|          | 0/27 [00:00<?, ?it/s]"
      ]
     },
     "metadata": {},
     "output_type": "display_data"
    },
    {
     "name": "stdout",
     "output_type": "stream",
     "text": [
      "Processing proposals: ['3477']\n"
     ]
    },
    {
     "data": {
      "application/vnd.jupyter.widget-view+json": {
       "model_id": "078c5796840942eebc50b2c6fe24f397",
       "version_major": 2,
       "version_minor": 0
      },
      "text/plain": [
       "  0%|          | 0/6 [00:00<?, ?it/s]"
      ]
     },
     "metadata": {},
     "output_type": "display_data"
    },
    {
     "name": "stdout",
     "output_type": "stream",
     "text": [
      "Processing proposals: ['3523']\n"
     ]
    },
    {
     "data": {
      "application/vnd.jupyter.widget-view+json": {
       "model_id": "98b5d1abbd0b436d89e6375abd0e2bb8",
       "version_major": 2,
       "version_minor": 0
      },
      "text/plain": [
       "  0%|          | 0/6 [00:00<?, ?it/s]"
      ]
     },
     "metadata": {},
     "output_type": "display_data"
    },
    {
     "name": "stdout",
     "output_type": "stream",
     "text": [
      "Processing proposals: ['3533', '3535']\n"
     ]
    },
    {
     "data": {
      "application/vnd.jupyter.widget-view+json": {
       "model_id": "31cbad6823054443bf2bc6c7c15b1106",
       "version_major": 2,
       "version_minor": 0
      },
      "text/plain": [
       "  0%|          | 0/27 [00:00<?, ?it/s]"
      ]
     },
     "metadata": {},
     "output_type": "display_data"
    },
    {
     "name": "stdout",
     "output_type": "stream",
     "text": [
      "Processing proposals: ['3547']\n"
     ]
    },
    {
     "data": {
      "application/vnd.jupyter.widget-view+json": {
       "model_id": "d3ab5b44760444ebb325d84940dcf34d",
       "version_major": 2,
       "version_minor": 0
      },
      "text/plain": [
       "  0%|          | 0/1 [00:00<?, ?it/s]"
      ]
     },
     "metadata": {},
     "output_type": "display_data"
    },
    {
     "name": "stdout",
     "output_type": "stream",
     "text": [
      "Processing proposals: ['3558']\n"
     ]
    },
    {
     "data": {
      "application/vnd.jupyter.widget-view+json": {
       "model_id": "dd30ac9c57bb4aaf8ab68219cba0d8e2",
       "version_major": 2,
       "version_minor": 0
      },
      "text/plain": [
       "  0%|          | 0/3 [00:00<?, ?it/s]"
      ]
     },
     "metadata": {},
     "output_type": "display_data"
    },
    {
     "name": "stdout",
     "output_type": "stream",
     "text": [
      "Processing proposals: ['3571']\n"
     ]
    },
    {
     "data": {
      "application/vnd.jupyter.widget-view+json": {
       "model_id": "8d1c0d3ce074455bb77a4e1193ef3b80",
       "version_major": 2,
       "version_minor": 0
      },
      "text/plain": [
       "  0%|          | 0/20 [00:00<?, ?it/s]"
      ]
     },
     "metadata": {},
     "output_type": "display_data"
    },
    {
     "name": "stdout",
     "output_type": "stream",
     "text": [
      "Processing proposals: ['3621', '3629']\n"
     ]
    },
    {
     "data": {
      "application/vnd.jupyter.widget-view+json": {
       "model_id": "dc210aec3afd461388a5f5e6023410df",
       "version_major": 2,
       "version_minor": 0
      },
      "text/plain": [
       "  0%|          | 0/9 [00:00<?, ?it/s]"
      ]
     },
     "metadata": {},
     "output_type": "display_data"
    },
    {
     "name": "stdout",
     "output_type": "stream",
     "text": [
      "Processing proposals: ['3671']\n"
     ]
    },
    {
     "data": {
      "application/vnd.jupyter.widget-view+json": {
       "model_id": "6e6b40b2c94646f3bfbad15e99710bcb",
       "version_major": 2,
       "version_minor": 0
      },
      "text/plain": [
       "  0%|          | 0/18 [00:00<?, ?it/s]"
      ]
     },
     "metadata": {},
     "output_type": "display_data"
    },
    {
     "name": "stdout",
     "output_type": "stream",
     "text": [
      "Processing proposals: ['3696']\n"
     ]
    },
    {
     "data": {
      "application/vnd.jupyter.widget-view+json": {
       "model_id": "18671e9fdb784f8586fa916a3e233030",
       "version_major": 2,
       "version_minor": 0
      },
      "text/plain": [
       "  0%|          | 0/24 [00:00<?, ?it/s]"
      ]
     },
     "metadata": {},
     "output_type": "display_data"
    },
    {
     "name": "stdout",
     "output_type": "stream",
     "text": [
      "Processing proposals: ['3730', '3738']\n"
     ]
    },
    {
     "data": {
      "application/vnd.jupyter.widget-view+json": {
       "model_id": "32383f7dd1384a4f8d1848a767b32952",
       "version_major": 2,
       "version_minor": 0
      },
      "text/plain": [
       "  0%|          | 0/8 [00:00<?, ?it/s]"
      ]
     },
     "metadata": {},
     "output_type": "display_data"
    },
    {
     "name": "stdout",
     "output_type": "stream",
     "text": [
      "Processing proposals: ['3743']\n"
     ]
    },
    {
     "data": {
      "application/vnd.jupyter.widget-view+json": {
       "model_id": "988a7dd0f9164ac2b2eb4cb1a35915dd",
       "version_major": 2,
       "version_minor": 0
      },
      "text/plain": [
       "  0%|          | 0/15 [00:00<?, ?it/s]"
      ]
     },
     "metadata": {},
     "output_type": "display_data"
    },
    {
     "name": "stdout",
     "output_type": "stream",
     "text": [
      "Processing proposals: ['3760']\n"
     ]
    },
    {
     "data": {
      "application/vnd.jupyter.widget-view+json": {
       "model_id": "a77f44c88cfb44c7853f6e114d433696",
       "version_major": 2,
       "version_minor": 0
      },
      "text/plain": [
       "  0%|          | 0/5 [00:00<?, ?it/s]"
      ]
     },
     "metadata": {},
     "output_type": "display_data"
    },
    {
     "name": "stdout",
     "output_type": "stream",
     "text": [
      "Processing proposals: ['3772']\n"
     ]
    },
    {
     "data": {
      "application/vnd.jupyter.widget-view+json": {
       "model_id": "3c842addbc1b4f7087bffaf48608cce2",
       "version_major": 2,
       "version_minor": 0
      },
      "text/plain": [
       "  0%|          | 0/4 [00:00<?, ?it/s]"
      ]
     },
     "metadata": {},
     "output_type": "display_data"
    },
    {
     "name": "stdout",
     "output_type": "stream",
     "text": [
      "Processing proposals: ['3786']\n"
     ]
    },
    {
     "data": {
      "application/vnd.jupyter.widget-view+json": {
       "model_id": "e832718993a8469fadf604f2aeae26cf",
       "version_major": 2,
       "version_minor": 0
      },
      "text/plain": [
       "  0%|          | 0/18 [00:00<?, ?it/s]"
      ]
     },
     "metadata": {},
     "output_type": "display_data"
    },
    {
     "name": "stdout",
     "output_type": "stream",
     "text": [
      "Processing proposals: ['3794']\n"
     ]
    },
    {
     "data": {
      "application/vnd.jupyter.widget-view+json": {
       "model_id": "399871235c0240db89b568a9b7ce06f3",
       "version_major": 2,
       "version_minor": 0
      },
      "text/plain": [
       "  0%|          | 0/97 [00:00<?, ?it/s]"
      ]
     },
     "metadata": {},
     "output_type": "display_data"
    }
   ],
   "source": [
    "%%time\n",
    "\n",
    "# Constants and parameters\n",
    "username = 'nmartind'\n",
    "password = 'Mr.Fantastic1999'\n",
    "propStart = 3000\n",
    "propEnd = 4000\n",
    "instrumentName = 'MIRI/IMAGE'\n",
    "save_loc = 'LVL3_Asteroids'\n",
    "propStepSize = 10\n",
    "\n",
    "# List to hold CSV segments\n",
    "csv_lists = []\n",
    "\n",
    "\n",
    "current = propStart\n",
    "\n",
    "while current <= propEnd:\n",
    "    segment_end = min(current+propStepSize-1,propEnd)\n",
    "    \n",
    "    csv_segment = level3asteroidDetection(username, password, propRange = [int(current), int(segment_end)], instrumentName = instrumentName)\n",
    "    \n",
    "    if csv_segment is not None and not csv_segment.empty:\n",
    "        csvName = f'{save_loc}/LVL3_Asteroids_Seg_{current}.csv'\n",
    "        csv_segment.to_csv(csvName, index=False)\n",
    "    \n",
    "    csv_lists.append(csv_segment)\n",
    "    current += propStepSize\n",
    "   \n",
    "if len(csv_lists) > 0:\n",
    "    combined_csv = pd.concat(csv_lists, ignore_index=True)\n",
    "\n",
    "    # Construct file name and save the combined CSV\n",
    "    file_name = f'{save_loc}/LVL3_Asteroids_{instrumentName.split(\"/\")[0]}_{propStart}_{propEnd}.csv'\n",
    "\n",
    "    print(f'Saving to {file_name}')\n",
    "    combined_csv.to_csv(file_name, index=False)\n",
    "    \n",
    "else:\n",
    "    print('No data in that range')"
   ]
  },
  {
   "cell_type": "code",
   "execution_count": 23,
   "id": "4a202607-9b0b-4ff7-9dbf-6c7d75c18d41",
   "metadata": {
    "tags": []
   },
   "outputs": [
    {
     "name": "stdout",
     "output_type": "stream",
     "text": [
      "Processing proposals: ['5014']\n"
     ]
    },
    {
     "data": {
      "application/vnd.jupyter.widget-view+json": {
       "model_id": "d6fb30d142754c14960828b1ae41ed32",
       "version_major": 2,
       "version_minor": 0
      },
      "text/plain": [
       "  0%|          | 0/9 [00:00<?, ?it/s]"
      ]
     },
     "metadata": {},
     "output_type": "display_data"
    },
    {
     "name": "stdout",
     "output_type": "stream",
     "text": [
      "Processing proposals: ['5105']\n"
     ]
    },
    {
     "data": {
      "application/vnd.jupyter.widget-view+json": {
       "model_id": "093d71f8bea548f1ab98421a897d5c66",
       "version_major": 2,
       "version_minor": 0
      },
      "text/plain": [
       "  0%|          | 0/3 [00:00<?, ?it/s]"
      ]
     },
     "metadata": {},
     "output_type": "display_data"
    },
    {
     "name": "stdout",
     "output_type": "stream",
     "text": [
      "Processing proposals: ['5114']\n"
     ]
    },
    {
     "data": {
      "application/vnd.jupyter.widget-view+json": {
       "model_id": "ede4715803c9437a8f4dbed925d47866",
       "version_major": 2,
       "version_minor": 0
      },
      "text/plain": [
       "  0%|          | 0/15 [00:00<?, ?it/s]"
      ]
     },
     "metadata": {},
     "output_type": "display_data"
    },
    {
     "name": "stdout",
     "output_type": "stream",
     "text": [
      "Processing proposals: ['5204']\n"
     ]
    },
    {
     "data": {
      "application/vnd.jupyter.widget-view+json": {
       "model_id": "577c38819cff49e3b0d456514d1c8f66",
       "version_major": 2,
       "version_minor": 0
      },
      "text/plain": [
       "  0%|          | 0/7 [00:00<?, ?it/s]"
      ]
     },
     "metadata": {},
     "output_type": "display_data"
    },
    {
     "name": "stdout",
     "output_type": "stream",
     "text": [
      "Processing proposals: ['5279']\n"
     ]
    },
    {
     "data": {
      "application/vnd.jupyter.widget-view+json": {
       "model_id": "04d21369b2d9495096e732b77e0079a6",
       "version_major": 2,
       "version_minor": 0
      },
      "text/plain": [
       "  0%|          | 0/6 [00:00<?, ?it/s]"
      ]
     },
     "metadata": {},
     "output_type": "display_data"
    },
    {
     "name": "stdout",
     "output_type": "stream",
     "text": [
      "Processing proposals: ['5299']\n"
     ]
    },
    {
     "data": {
      "application/vnd.jupyter.widget-view+json": {
       "model_id": "cabee60e29c04cf0a6543d20bf1967e0",
       "version_major": 2,
       "version_minor": 0
      },
      "text/plain": [
       "  0%|          | 0/6 [00:00<?, ?it/s]"
      ]
     },
     "metadata": {},
     "output_type": "display_data"
    },
    {
     "name": "stdout",
     "output_type": "stream",
     "text": [
      "Processing proposals: ['5365']\n"
     ]
    },
    {
     "data": {
      "application/vnd.jupyter.widget-view+json": {
       "model_id": "495d4dddcdaa44deba5c1ae12b7b8e92",
       "version_major": 2,
       "version_minor": 0
      },
      "text/plain": [
       "  0%|          | 0/3 [00:00<?, ?it/s]"
      ]
     },
     "metadata": {},
     "output_type": "display_data"
    },
    {
     "name": "stdout",
     "output_type": "stream",
     "text": [
      "Processing proposals: ['5407']\n"
     ]
    },
    {
     "data": {
      "application/vnd.jupyter.widget-view+json": {
       "model_id": "44418ae7a4e4437fb99f29b867ad3df2",
       "version_major": 2,
       "version_minor": 0
      },
      "text/plain": [
       "  0%|          | 0/26 [00:00<?, ?it/s]"
      ]
     },
     "metadata": {},
     "output_type": "display_data"
    },
    {
     "name": "stdout",
     "output_type": "stream",
     "text": [
      "Processing proposals: ['5451']\n"
     ]
    },
    {
     "data": {
      "application/vnd.jupyter.widget-view+json": {
       "model_id": "ac37f23ba7354d15abc6ca016e3b1cd7",
       "version_major": 2,
       "version_minor": 0
      },
      "text/plain": [
       "  0%|          | 0/6 [00:00<?, ?it/s]"
      ]
     },
     "metadata": {},
     "output_type": "display_data"
    },
    {
     "name": "stdout",
     "output_type": "stream",
     "text": [
      "Processing proposals: ['5578']\n"
     ]
    },
    {
     "data": {
      "application/vnd.jupyter.widget-view+json": {
       "model_id": "8ea953a9c87245c69313d8ca46ffc4a9",
       "version_major": 2,
       "version_minor": 0
      },
      "text/plain": [
       "  0%|          | 0/2 [00:00<?, ?it/s]"
      ]
     },
     "metadata": {},
     "output_type": "display_data"
    },
    {
     "name": "stdout",
     "output_type": "stream",
     "text": [
      "Processing proposals: ['5627']\n"
     ]
    },
    {
     "data": {
      "application/vnd.jupyter.widget-view+json": {
       "model_id": "37fc167186c84d6296b94ad920c9ff4c",
       "version_major": 2,
       "version_minor": 0
      },
      "text/plain": [
       "  0%|          | 0/6 [00:00<?, ?it/s]"
      ]
     },
     "metadata": {},
     "output_type": "display_data"
    },
    {
     "name": "stdout",
     "output_type": "stream",
     "text": [
      "Processing proposals: ['5709']\n"
     ]
    },
    {
     "data": {
      "application/vnd.jupyter.widget-view+json": {
       "model_id": "649fcdcd2a4848ce8a9f33b802219ed7",
       "version_major": 2,
       "version_minor": 0
      },
      "text/plain": [
       "  0%|          | 0/6 [00:00<?, ?it/s]"
      ]
     },
     "metadata": {},
     "output_type": "display_data"
    },
    {
     "name": "stdout",
     "output_type": "stream",
     "text": [
      "Processing proposals: ['5842']\n"
     ]
    },
    {
     "data": {
      "application/vnd.jupyter.widget-view+json": {
       "model_id": "c7a094e35b0043d6abbb48f56934c2be",
       "version_major": 2,
       "version_minor": 0
      },
      "text/plain": [
       "  0%|          | 0/3 [00:00<?, ?it/s]"
      ]
     },
     "metadata": {},
     "output_type": "display_data"
    },
    {
     "name": "stdout",
     "output_type": "stream",
     "text": [
      "Saving to LVL3_Asteroids/LVL3_Asteroids_MIRI_5000_6000.csv\n",
      "CPU times: user 14.8 s, sys: 697 ms, total: 15.5 s\n",
      "Wall time: 1h 15min 52s\n"
     ]
    }
   ],
   "source": [
    "%%time\n",
    "\n",
    "# Constants and parameters\n",
    "username = 'nmartind'\n",
    "password = 'Mr.Fantastic1999'\n",
    "propStart = 5000\n",
    "propEnd = 6000\n",
    "instrumentName = 'MIRI/IMAGE'\n",
    "save_loc = 'LVL3_Asteroids'\n",
    "propStepSize = 10\n",
    "\n",
    "# List to hold CSV segments\n",
    "csv_lists = []\n",
    "\n",
    "\n",
    "current = propStart\n",
    "\n",
    "while current <= propEnd:\n",
    "    segment_end = min(current+propStepSize-1,propEnd)\n",
    "    \n",
    "    csv_segment = level3asteroidDetection(username, password, propRange = [int(current), int(segment_end)], instrumentName = instrumentName)\n",
    "    \n",
    "    if csv_segment is not None and not csv_segment.empty:\n",
    "        csvName = f'{save_loc}/LVL3_Asteroids_Seg_{current}.csv'\n",
    "        csv_segment.to_csv(csvName, index=False)\n",
    "    \n",
    "    csv_lists.append(csv_segment)\n",
    "    current += propStepSize\n",
    "   \n",
    "if len(csv_lists) > 0:\n",
    "    combined_csv = pd.concat(csv_lists, ignore_index=True)\n",
    "\n",
    "    # Construct file name and save the combined CSV\n",
    "    file_name = f'{save_loc}/LVL3_Asteroids_{instrumentName.split(\"/\")[0]}_{propStart}_{propEnd}.csv'\n",
    "\n",
    "    print(f'Saving to {file_name}')\n",
    "    combined_csv.to_csv(file_name, index=False)\n",
    "    \n",
    "else:\n",
    "    print('No data in that range')"
   ]
  },
  {
   "cell_type": "code",
   "execution_count": 20,
   "id": "bac8044d-f920-4c4a-9ed2-a24549480e79",
   "metadata": {},
   "outputs": [],
   "source": [
    "#print"
   ]
  },
  {
   "cell_type": "code",
   "execution_count": null,
   "id": "4ef910a2-eb9a-4beb-a402-ae37f46e433a",
   "metadata": {},
   "outputs": [],
   "source": []
  },
  {
   "cell_type": "code",
   "execution_count": null,
   "id": "00b61431-5d45-4f43-acb6-3279e0ecc9d3",
   "metadata": {},
   "outputs": [],
   "source": []
  }
 ],
 "metadata": {
  "kernelspec": {
   "display_name": "Nik_Asteroid",
   "language": "python",
   "name": "nik_asteroid"
  },
  "language_info": {
   "codemirror_mode": {
    "name": "ipython",
    "version": 3
   },
   "file_extension": ".py",
   "mimetype": "text/x-python",
   "name": "python",
   "nbconvert_exporter": "python",
   "pygments_lexer": "ipython3",
   "version": "3.9.19"
  }
 },
 "nbformat": 4,
 "nbformat_minor": 5
}
