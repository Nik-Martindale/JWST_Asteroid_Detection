{
 "cells": [
  {
   "cell_type": "markdown",
   "id": "df3e95b0-a99e-4762-9d77-e1487307bc72",
   "metadata": {},
   "source": [
    "# Combine CSV script"
   ]
  },
  {
   "cell_type": "markdown",
   "id": "c5ad9244-fa6e-4d18-9635-6a3795104f64",
   "metadata": {},
   "source": [
    "This can be used to combine CSVs of the same format, this might be useful when sigmenting the runs. It takes all files within a specific folder and then combines them."
   ]
  },
  {
   "cell_type": "markdown",
   "id": "f0d20e0c-2b5d-452c-ba4e-eeaab570f55d",
   "metadata": {},
   "source": [
    "## Import Libraries"
   ]
  },
  {
   "cell_type": "code",
   "execution_count": 45,
   "id": "d12e0e61-4f8d-4d58-b4e1-f7636b50bc56",
   "metadata": {
    "tags": []
   },
   "outputs": [],
   "source": [
    "import pandas as pd\n",
    "import os"
   ]
  },
  {
   "cell_type": "code",
   "execution_count": 46,
   "id": "2461c345-2f43-4d79-ac0a-dfbc80cc9edc",
   "metadata": {
    "tags": []
   },
   "outputs": [],
   "source": [
    "def main(input_folder, output_file):\n",
    "    # List to store dataframes\n",
    "    csv_files = []\n",
    "    \n",
    "    # Iterate over each file in the folder\n",
    "    for filename in os.listdir(input_folder):\n",
    "        if filename.endswith(\".csv\"):\n",
    "            file_path = os.path.join(input_folder, filename)\n",
    "            print(f\"Reading {file_path}...\")\n",
    "            # Read each CSV file into a pandas dataframe\n",
    "            df = pd.read_csv(file_path)\n",
    "            # Append dataframe to the list\n",
    "            csv_files.append(df)\n",
    "    \n",
    "    # Concatenate all dataframes\n",
    "    combined_df = pd.concat(csv_files, ignore_index=True)\n",
    "    combined_df = combined_df.sort_values('Observation', ascending=True)\n",
    "    \n",
    "    # Save combined dataframe to output CSV\n",
    "    combined_df.to_csv(f\"{input_folder}/{output_file}.csv\", index=False)\n",
    "    print(f\"Combined CSV saved to {input_folder}/{output_file}.csv\")"
   ]
  },
  {
   "cell_type": "code",
   "execution_count": 47,
   "id": "b886d8e1-5c75-4dc0-b2a4-7d40479fa9c5",
   "metadata": {
    "tags": []
   },
   "outputs": [
    {
     "name": "stdout",
     "output_type": "stream",
     "text": [
      "Reading Combo/Level2_Asteroid_Search_FINAL.csv...\n",
      "Reading Combo/Level2_Asteroid_Search.csv...\n",
      "Reading Combo/Level2_Asteroid_Search_3000_7000.csv...\n",
      "Combined CSV saved to Combo/combined.csv\n"
     ]
    }
   ],
   "source": [
    "# Specify folder containing CSV files and the output file name\n",
    "input_folder = \"Combo\"  # Replace with your folder path\n",
    "output_file = \"combined\"   # Replace with your desired output file name\n",
    "\n",
    "main(input_folder, output_file)"
   ]
  }
 ],
 "metadata": {
  "kernelspec": {
   "display_name": "Nik_Asteroid",
   "language": "python",
   "name": "nik_asteroid"
  },
  "language_info": {
   "codemirror_mode": {
    "name": "ipython",
    "version": 3
   },
   "file_extension": ".py",
   "mimetype": "text/x-python",
   "name": "python",
   "nbconvert_exporter": "python",
   "pygments_lexer": "ipython3",
   "version": "3.9.19"
  }
 },
 "nbformat": 4,
 "nbformat_minor": 5
}
