{
 "cells": [
  {
   "cell_type": "markdown",
   "id": "18eadfae-8fa1-48df-bf94-498cd2296e9d",
   "metadata": {},
   "source": [
    "# Generate Asteroid CSV for Calibration Level 2 Data"
   ]
  },
  {
   "cell_type": "markdown",
   "id": "982df571-d061-43e5-a705-d2615a577af4",
   "metadata": {},
   "source": [
    "This pipeline will itterate through the previously generated level 3 asteroid csv to find observation that may contain asteroids. It will determine the level 2 constituents (members) and test if the asteroid present in the level 3 data is viewable in the level 2 sensor data."
   ]
  },
  {
   "cell_type": "markdown",
   "id": "1ca155fa-75a5-4374-859c-976da41c0b3d",
   "metadata": {},
   "source": [
    "## Import Libraries"
   ]
  },
  {
   "cell_type": "code",
   "execution_count": 1,
   "id": "0e870ba2-8a59-4258-b3b4-1fe9c409aa5c",
   "metadata": {
    "tags": []
   },
   "outputs": [],
   "source": [
    "from astroquery.esa.jwst import Jwst\n",
    "import numpy as np\n",
    "from datetime import datetime\n",
    "\n",
    "from tqdm.notebook import tqdm\n",
    "tqdm.pandas()\n",
    "\n",
    "import pandas as pd\n",
    "from astropy.io import fits\n",
    "import astropy.time as at\n",
    "from astroquery.jplhorizons import Horizons\n",
    "import re\n",
    "import os\n",
    "import sys\n",
    "import logging\n",
    "import glob\n",
    "import shapely.wkt\n",
    "from shapely.geometry import Polygon, Point\n",
    "from reproject import reproject_interp\n",
    "from astropy.wcs import WCS\n",
    "from astropy.coordinates import SkyCoord\n",
    "import matplotlib.pyplot as plt\n",
    "import math as mt\n",
    "from astropy.time import Time\n",
    "from astroquery.imcce import Skybot\n",
    "import astropy.units as u\n",
    "from astropy.visualization import ZScaleInterval, ImageNormalize,LinearStretch, SqrtStretch, simple_norm\n",
    "from astropy.nddata import Cutout2D\n",
    "from PIL import Image\n",
    "from matplotlib import cm\n",
    "import numpy as np\n",
    "from sbident import SBIdent\n",
    "import time\n",
    "\n",
    "from scipy import ndimage\n",
    "from skimage.filters import threshold_otsu\n",
    "import matplotlib.colors as mcolors\n",
    "\n",
    "import warnings\n",
    "warnings.filterwarnings('ignore')"
   ]
  },
  {
   "cell_type": "markdown",
   "id": "8fc35aec-5fb3-43c2-af50-b7b3f1fd5c5d",
   "metadata": {},
   "source": [
    "## Utility Functions"
   ]
  },
  {
   "cell_type": "code",
   "execution_count": 2,
   "id": "6741d17e-0cd7-4f5f-b8a2-dfbd306f6981",
   "metadata": {
    "tags": []
   },
   "outputs": [],
   "source": [
    "class HiddenPrints:\n",
    "    def __enter__(self):\n",
    "        self._original_stdout = sys.stdout\n",
    "        sys.stdout = open(os.devnull, 'w')\n",
    "\n",
    "    def __exit__(self, exc_type, exc_val, exc_tb):\n",
    "        sys.stdout.close()\n",
    "        sys.stdout = self._original_stdout"
   ]
  },
  {
   "cell_type": "code",
   "execution_count": 3,
   "id": "9a9f89a1-c13b-48f7-93e6-2b14b22361dc",
   "metadata": {
    "tags": []
   },
   "outputs": [],
   "source": [
    "def MJDconversion(modifiedJulianDate):\n",
    "    #Convert string from Modified Julian Date to YYYMMDD[H:M:S] format\n",
    "   \n",
    "    return (Time(modifiedJulianDate, format='mjd').iso)"
   ]
  },
  {
   "cell_type": "code",
   "execution_count": 4,
   "id": "6ad83738-188d-4565-b58e-dd0b403a472a",
   "metadata": {
    "tags": []
   },
   "outputs": [],
   "source": [
    "def isLocatedInImage(targetRA, targetDEC, imagePOLYGON):\n",
    "    #Check if the RA and DEC coordinate exist within the image bound polygon (returns boolean)\n",
    "    \n",
    "    return(imagePOLYGON.contains(Point(targetRA, targetDEC)))"
   ]
  },
  {
   "cell_type": "code",
   "execution_count": 5,
   "id": "1a1164a7-a33a-465e-8eef-b9a44ac7cae5",
   "metadata": {
    "tags": []
   },
   "outputs": [],
   "source": [
    "def pullWCS(imagePath):\n",
    "    #recover data from a fits file\n",
    "    if not os.path.exists(imagePath):\n",
    "            return None, None\n",
    "\n",
    "    with fits.open(imagePath) as hdul: #memmap=True\n",
    "        header = hdul[1].header\n",
    "        data = hdul[1].data\n",
    "        wcs_info = WCS(header)\n",
    "   \n",
    "    return(data, wcs_info)"
   ]
  },
  {
   "cell_type": "code",
   "execution_count": 6,
   "id": "647de2eb-7b7a-49ed-bbbc-786b0d0f12bc",
   "metadata": {
    "tags": []
   },
   "outputs": [],
   "source": [
    "def formatPolygon(polyString):\n",
    "    #Format the archive polygon string to a format that is compatible with the shapely function\n",
    "    \n",
    "    #slice away the polygon charactors 'polygon((' from the start and '))' from the end\n",
    "    coords = polyString[8:-2].split(' ')\n",
    "    \n",
    "    #Add in the fist location at the end to close the loop\n",
    "    coords.append(coords[0])\n",
    "    coords.append(coords[1])\n",
    "    \n",
    "    return f\"POLYGON (({', '.join([coords[i] + ' ' + coords[i+1] for i in range(0, len(coords), 2)])}))\""
   ]
  },
  {
   "cell_type": "code",
   "execution_count": 7,
   "id": "262feed4-609f-4e0c-86e3-de173d6ceda5",
   "metadata": {
    "tags": []
   },
   "outputs": [],
   "source": [
    "def proposal2asteroidDict(propList, asteroidList):\n",
    "    # Create a dictionary where each proposal maps to a set of unique asteroid names\n",
    "    proposal_dict = {}\n",
    "    \n",
    "    # Iterate over the proposals and names simultaneously\n",
    "    for proposal, asteroids in zip(propList, asteroidList):\n",
    "        proposal_dict.setdefault(proposal, set()).update(asteroids)\n",
    "    \n",
    "    # Convert sets back to lists for the final output\n",
    "    return {proposal: list(asteroids) for proposal, asteroids in proposal_dict.items()}\n"
   ]
  },
  {
   "cell_type": "code",
   "execution_count": 8,
   "id": "e24846e2-b34f-46b1-b3b5-fc06bff60154",
   "metadata": {
    "tags": []
   },
   "outputs": [],
   "source": [
    "def nonZeroCheck(imageData, X, Y):\n",
    "    #checks to see if any of the asteroid coordinates overlap with the sensor and thus the asteroid has actually measurable data\n",
    "    # Convert coordinates to integers (floor them)\n",
    "    X_int = np.floor(X).astype(int)\n",
    "    Y_int = np.floor(Y).astype(int)\n",
    "\n",
    "    # Ensure the coordinates are within the bounds of the image\n",
    "    valid_coords = (X_int >= 0) & (X_int < imageData.shape[1]) & (Y_int >= 0) & (Y_int < imageData.shape[0])\n",
    "\n",
    "    # Get pixel values at the valid coordinates\n",
    "    probe_values = imageData[Y_int[valid_coords], X_int[valid_coords]]\n",
    "\n",
    "    # Check if any of the valid pixel values are non-zero and not NaN\n",
    "    return np.any((probe_values != 0) & ~np.isnan(probe_values))"
   ]
  },
  {
   "cell_type": "code",
   "execution_count": 9,
   "id": "56c21c81-2244-4498-a2d5-3b3677e1f5a3",
   "metadata": {
    "tags": []
   },
   "outputs": [],
   "source": [
    "def generateFolder(folderName):\n",
    "    #check if folder exists\n",
    "    if not os.path.exists(folderName):\n",
    "        # Folder doesn't exist, so create it\n",
    "        os.mkdir(folderName)"
   ]
  },
  {
   "cell_type": "markdown",
   "id": "e90f079b-33ac-406d-83cd-32440e00b80d",
   "metadata": {},
   "source": [
    "## Generate ADQL Search"
   ]
  },
  {
   "cell_type": "code",
   "execution_count": 10,
   "id": "dcbbf515-7854-4c03-8975-d17fad52ba0f",
   "metadata": {
    "tags": []
   },
   "outputs": [],
   "source": [
    "def query4imageMembers(obsList):\n",
    "    # Prepare the observation IDs for the query\n",
    "    obsIds = ', '.join([f\"'{obsid}'\" for obsid in obsList])\n",
    "    \n",
    "    # Define the readouts and query filters\n",
    "    readouts = ['members']\n",
    "    query_filters = [\n",
    "        'jwst.archive.calibrationlevel = 3',\n",
    "        f'jwst.archive.observationid IN ({obsIds})'\n",
    "    ]\n",
    "    \n",
    "    # Construct the query string\n",
    "    query_string = f\"SELECT {', '.join(readouts)} FROM jwst.archive WHERE ({' AND '.join(query_filters)})\"\n",
    "    \n",
    "    # Launch the job and fetch the results\n",
    "    job = Jwst.launch_job(query_string, async_job=True)\n",
    "    result = job.get_results()\n",
    "    panda_results = result.to_pandas()\n",
    "\n",
    "    # Extract and process the 'members' column and identify level 2 constituents\n",
    "    membersListProper = panda_results['members'].str.replace('caom:JWST/', '').str.split(' ').explode().unique()\n",
    "    \n",
    "    # Create a dictionary mapping observation IDs to their respective members\n",
    "    obsMemberDict = panda_results['members'].apply(\n",
    "        lambda x: x.replace('caom:JWST/', '').split(' ')\n",
    "    ).to_dict()\n",
    "\n",
    "    # Return unique members and the observation-member dictionary\n",
    "    return (membersListProper.tolist(), obsMemberDict)"
   ]
  },
  {
   "cell_type": "code",
   "execution_count": 11,
   "id": "a537ae90-ffe6-4c79-859e-7f7f12d61840",
   "metadata": {
    "tags": []
   },
   "outputs": [],
   "source": [
    "def level2query(obsList):\n",
    "    #search the archive for outputs from the level 2 members list    \n",
    "    obsIds = ', '.join(f\"'{obsid}'\" for obsid in obsList)\n",
    "    \n",
    "    # Define the readouts and query filters\n",
    "    readouts = [\n",
    "        'proposal_id', 'observationid', 'dataproducttype', 'intent',\n",
    "        'target_moving', 'energy_bandpassname',\n",
    "        'position_bounds_spoly', 'time_bounds_lower', 'time_bounds_upper'\n",
    "    ]\n",
    "    query_filters = [\n",
    "        'jwst.archive.calibrationlevel = 2',\n",
    "        f\"jwst.archive.observationid IN ({obsIds})\"\n",
    "    ]\n",
    "    \n",
    "    # Construct the ADQL query string\n",
    "    query_string = f\"SELECT {', '.join(readouts)} FROM jwst.archive WHERE ({' AND '.join(query_filters)})\"\n",
    "    \n",
    "    # Execute the query and retrieve results\n",
    "    job = Jwst.launch_job(query_string, async_job=True)\n",
    "    result = job.get_results()\n",
    "    df = result.to_pandas()\n",
    "    \n",
    "    # Sort the DataFrame by proposal ID and reset the index\n",
    "    return df.sort_values(by='proposal_id').reset_index(drop=True)"
   ]
  },
  {
   "cell_type": "markdown",
   "id": "97d0e910-18a1-4e8b-bdc4-8f0f94079af9",
   "metadata": {},
   "source": [
    "## Pull Lvl3 Asteroid Data"
   ]
  },
  {
   "cell_type": "code",
   "execution_count": 12,
   "id": "0b8b9e82-2035-4f2e-b6da-5f28107bbb9f",
   "metadata": {
    "tags": []
   },
   "outputs": [],
   "source": [
    "def filterCSV4asteroids(df):    \n",
    "    # Filter rows where the specified column contains a '[' which contain asteroids\n",
    "    \n",
    "    return(df[df['Asteroids'].str.contains(r'\\[', na=False)])"
   ]
  },
  {
   "cell_type": "code",
   "execution_count": 13,
   "id": "dcdfc3a6-c71d-49ab-a852-e2bd47ad78fc",
   "metadata": {
    "tags": []
   },
   "outputs": [],
   "source": [
    "def filterCSVbyProposal(propRange, df):\n",
    "    startingProposal, endingProposal = propRange\n",
    "    \n",
    "    #Filter rows based on the proposal range of interest\n",
    "    filteredDF = df[df['Proposal'].apply(lambda x: startingProposal <= int(x) <= endingProposal)]\n",
    "    \n",
    "    return(filteredDF)"
   ]
  },
  {
   "cell_type": "code",
   "execution_count": 14,
   "id": "42612fef-abf8-4695-a5f7-67e54cc3be41",
   "metadata": {
    "tags": []
   },
   "outputs": [],
   "source": [
    "def pullCSVdata(CSVloc, propRange):\n",
    "    # Pull level 3 CSV data\n",
    "    df = pd.read_csv(CSVloc)\n",
    "    \n",
    "    # Filter for rows with asteroids\n",
    "    dfAsteroids = filterCSV4asteroids(df)\n",
    "    if dfAsteroids.empty:\n",
    "        print(\"Empty Dataframe, No asteroids in CSV\")\n",
    "        return ([], [], [])\n",
    "    \n",
    "    # Filter for proposals within the specified range\n",
    "    dfFiltered = filterCSVbyProposal(propRange, dfAsteroids)\n",
    "    if dfFiltered.empty:\n",
    "        print(f\"Empty Dataframe, No asteroids in that proposal range {propRange}\")\n",
    "        return ([], [], [])\n",
    "    \n",
    "    # Extract relevant columns and process asteroid data in one step\n",
    "    asteroidListGrouped = dfFiltered['Asteroids'].str.strip('[]').str.replace(\"'\", \"\").str.split(', ')\n",
    "    \n",
    "    # Return the filtered data\n",
    "    return dfFiltered['Proposal'].to_list(), dfFiltered['Observation'].to_list(), asteroidListGrouped.tolist()"
   ]
  },
  {
   "cell_type": "markdown",
   "id": "08bb7f7e-2895-4518-9c8d-2ccd944d8717",
   "metadata": {},
   "source": [
    "## Output Image Generation"
   ]
  },
  {
   "cell_type": "code",
   "execution_count": 15,
   "id": "c02baf12-eab9-4d48-bc6b-de8c3018f1b2",
   "metadata": {
    "tags": []
   },
   "outputs": [],
   "source": [
    "def produceOriginalImage(imageData, WCS, obsID, filePath):\n",
    "    # Define the output file path\n",
    "    output_file = f'{filePath}/Original_{obsID}.png'\n",
    "\n",
    "    # Check if the file already exists to avoid unnecessary plotting\n",
    "    if not os.path.exists(output_file):\n",
    "        # Create the figure and axis for plotting\n",
    "        fig, ax = plt.subplots(figsize=(10, 10), subplot_kw={'projection': WCS})\n",
    "\n",
    "        # Set labels and title\n",
    "        ax.set_xlabel('RA')\n",
    "        ax.set_ylabel('DEC')\n",
    "        ax.set_title(f'{obsID} i2d Image')\n",
    "\n",
    "        # Normalize image data\n",
    "        norm = simple_norm(imageData, 'sqrt')\n",
    "\n",
    "        # Plot the image\n",
    "        ax.imshow(imageData, cmap='viridis', norm=norm)\n",
    "\n",
    "        # Save the figure\n",
    "        plt.savefig(output_file)\n",
    "        plt.close(fig)"
   ]
  },
  {
   "cell_type": "code",
   "execution_count": 16,
   "id": "0f3b83b0-1d7b-462e-8dac-6518bd2d161c",
   "metadata": {
    "tags": []
   },
   "outputs": [],
   "source": [
    "def produceOverlayImage(imageData, WCS, obsID, asteroidList, Xlist, Ylist, filePath):\n",
    "    overlay_file = f'{filePath}/Overlay_{obsID}.png'\n",
    "    \n",
    "    if not os.path.exists(overlay_file):\n",
    "        # Set figure size based on the number of asteroids\n",
    "        fig, axes = plt.subplots(1, len(asteroidList) + 1, figsize=(20 + 10 * (len(asteroidList) - 1), 10), \n",
    "                                 subplot_kw={'projection': WCS})\n",
    "        \n",
    "        # First subplot is for the original image\n",
    "        ax1 = axes[0]  \n",
    "        ax1.set_xlabel('RA')\n",
    "        ax1.set_ylabel('DEC')\n",
    "        ax1.set_title(f'{obsID} i2d Image')\n",
    "\n",
    "        # Apply square root normalization for the image\n",
    "        norm = simple_norm(imageData, 'sqrt')\n",
    "        ax1.imshow(imageData, cmap='viridis', norm=norm, aspect='auto', zorder=1)\n",
    "\n",
    "        # Define asteroid-specific colors for plotting\n",
    "        colors = ['orangered', 'maroon', 'firebrick', 'goldenrod', 'tomato', 'chocolate', \n",
    "                  'tab:red', 'tab:orange', 'red', 'orange',  'black', 'yellow']\n",
    "\n",
    "        # Loop through asteroids and overlay positions, each getting their own subplot zoom\n",
    "        for indx, asteroid in enumerate(asteroidList):\n",
    "            ax_ = axes[indx + 1]  # Subsequent subplots for each asteroid\n",
    "            ax_.set_xlabel('RA')\n",
    "            ax_.set_ylabel('DEC')\n",
    "            ax_.set_title(f'{obsID} Asteroid {asteroid}')\n",
    "\n",
    "            ax_.imshow(imageData, cmap='viridis', norm=norm, aspect='auto', zorder=1)\n",
    "\n",
    "            X = Xlist[indx]\n",
    "            Y = Ylist[indx]\n",
    "            extraPixels = 20  # Buffer space around the asteroid position\n",
    "\n",
    "            # Get positions of the asteroid bounds\n",
    "            if len(X) > 1:\n",
    "                P1 = [X[0], Y[0]]\n",
    "                P2 = [X[-1], Y[-1]]\n",
    "            else:\n",
    "                P1 = [X[0], Y[0]]\n",
    "                P2 = [X[0], Y[0]]\n",
    "\n",
    "            # Define the default bounds with extra space \n",
    "            lowerx = round(min(P1[0], P2[0])) - extraPixels\n",
    "            upperx = round(max(P1[0], P2[0])) + extraPixels\n",
    "            lowery = round(min(P1[1], P2[1])) - extraPixels\n",
    "            uppery = round(max(P1[1], P2[1])) + extraPixels\n",
    "\n",
    "            # Plot the bounding box and asteroid positions\n",
    "            ax1.plot([lowerx, upperx, upperx, lowerx, lowerx], \n",
    "                     [lowery, lowery, uppery, uppery, lowery], \n",
    "                     alpha=0.6, c=colors[indx], linewidth=2, zorder=2, label=asteroid)\n",
    "            ax_.scatter(X, Y, s=15, alpha=0.8, c=colors[indx], zorder=2, label=asteroid)\n",
    "            ax_.set_xlim(lowerx, upperx)\n",
    "            ax_.set_ylim(lowery, uppery)\n",
    "\n",
    "        ax1.legend()  # Add legend to the first plot\n",
    "        plt.tight_layout()  # Automatically adjust subplot parameters for a neat layout\n",
    "\n",
    "        # Save the overlay image\n",
    "        plt.savefig(overlay_file)\n",
    "        plt.close()"
   ]
  },
  {
   "cell_type": "code",
   "execution_count": 17,
   "id": "34ddd124-b0ee-4a41-956e-20cfb063c534",
   "metadata": {
    "tags": []
   },
   "outputs": [],
   "source": [
    "def highContrastImage(imageData, WCS, asteroidName, X,Y, path, observation):\n",
    "    #if not os.path.exists(f'{path}/HighContrastZoom_{observation}_{asteroidName}.png'):\n",
    "    \n",
    "    # Define extra padding for the crop\n",
    "    extra_pixels = 22\n",
    "    rows, cols = imageData.shape\n",
    "\n",
    "    # Calculate crop boundaries with bounds checking using numpy.clip\n",
    "    col_start, col_end = np.clip([int(min(X) - extra_pixels), int(max(X) + extra_pixels)], 0, cols - 1)\n",
    "    row_start, row_end = np.clip([int(min(Y) - extra_pixels), int(max(Y) + extra_pixels)], 0, rows - 1)\n",
    "\n",
    "    # Extract cropped region\n",
    "    cropped_image = imageData[row_start:row_end, col_start:col_end]\n",
    "\n",
    "    # Plot the high-contrast zoomed image\n",
    "    plt.figure(figsize=(12, 12))  # Adjusted figure size for better readability\n",
    "    plt.title(f\"{observation} Cutout of Asteroid {asteroidName}\")\n",
    "    plt.xlabel('Pixel Columns')\n",
    "    plt.ylabel('Pixel Rows')\n",
    "\n",
    "    # Apply square root normalization for high contrast\n",
    "    cax = plt.imshow(cropped_image, cmap='viridis')\n",
    "    plt.colorbar(cax)\n",
    "    plt.gca().invert_yaxis()\n",
    "\n",
    "    # Save the figure\n",
    "    plt.savefig(f'{path}/HighContrastZoom_{observation}_{asteroidName}.png')\n",
    "    plt.close()\n",
    "    \n",
    "    # Return the cropped image\n",
    "    return cropped_image"
   ]
  },
  {
   "cell_type": "code",
   "execution_count": 18,
   "id": "77a830e9-a059-4392-aa13-6efdce153af7",
   "metadata": {
    "tags": []
   },
   "outputs": [],
   "source": [
    "def generateSNRimage(imageData, path, observation, asteroidName):\n",
    "    #Generate a signal to noise plot to demonstrate the cutout of the asteroid area\n",
    "    # Using   S/N  = (Average Asteroid Signal - Average Background) / (Standard Deviation of Background)\n",
    "    \n",
    "    # Mask out zero and NaN values\n",
    "    masked_image = np.ma.masked_invalid(np.ma.masked_equal(imageData, 0))\n",
    "\n",
    "    # Extract valid (non-zero and non-NaN) pixel values\n",
    "    valid_pixels = masked_image.compressed()\n",
    "\n",
    "    # Apply Otsu's threshold to separate signal from background\n",
    "    threshold_value = threshold_otsu(valid_pixels)\n",
    "    signal_pixels = valid_pixels[valid_pixels > threshold_value]\n",
    "    background_pixels = valid_pixels[valid_pixels <= threshold_value]\n",
    "\n",
    "    # Calculate mean values of signal and background\n",
    "    mean_signal = np.mean(signal_pixels)\n",
    "    mean_background = np.mean(background_pixels)\n",
    "    std_background = np.std(background_pixels)\n",
    "\n",
    "    # Compute Signal-to-Noise Ratio (SNR)\n",
    "    snr = (mean_signal - mean_background) / std_background\n",
    "\n",
    "    # Create the output visualization\n",
    "    plt.figure(figsize=(30, 10))\n",
    "\n",
    "    # Plot 1: Original image with masked areas\n",
    "    plt.subplot(1, 3, 1)\n",
    "    plt.title('Original Image with Source')\n",
    "    cax1 = plt.imshow(masked_image, cmap='gray', zorder=2)\n",
    "    plt.scatter([0], [0], c='white', label=asteroidName, zorder=1)\n",
    "    plt.legend()\n",
    "    plt.colorbar(cax1)\n",
    "    plt.gca().invert_yaxis()\n",
    "\n",
    "    # Plot 2: Binary mask using Otsu's threshold\n",
    "    plt.subplot(1, 3, 2)\n",
    "    plt.title(f'Mask using Otsu Threshold = {threshold_value:.2f},  S/N = {snr:.2f}')\n",
    "    cax2 = plt.imshow(masked_image > threshold_value, cmap='gray')\n",
    "    plt.colorbar(cax2)\n",
    "    plt.gca().invert_yaxis()\n",
    "\n",
    "    # Plot 3: 1D histogram of pixel values\n",
    "    flattened_data = valid_pixels  # Already cleaned and flattened\n",
    "    hist, bin_edges = np.histogram(flattened_data, bins=50)\n",
    "\n",
    "    plt.subplot(1, 3, 3)\n",
    "    plt.bar(bin_edges[:-1], hist, width=np.diff(bin_edges), edgecolor='black', align='edge', zorder = 2)\n",
    "    plt.title('1D Histogram of Pixel Values')\n",
    "    plt.xlabel('Pixel Value')\n",
    "    plt.ylabel('Frequency')\n",
    "    plt.grid(True,zorder = 1)\n",
    "\n",
    "    # Annotate the histogram with key statistics\n",
    "    plt.axvline(x=mean_background, color='black', linestyle='dashed', label=f'Avg Background = {mean_background:.2f}')\n",
    "    plt.axvline(x=threshold_value, color='green', linestyle='dashed', label=f'Otsu Threshold = {threshold_value:.2f}')\n",
    "    plt.axvline(x=mean_signal, color='red', linestyle='dashed', label=f'Avg Signal = {mean_signal:.2f}')\n",
    "    plt.legend(loc='upper right')\n",
    "\n",
    "    # Save and close the plot\n",
    "    output_path = f\"{path}/SNR_{observation}_{asteroidName}.png\"\n",
    "    plt.savefig(output_path)\n",
    "    plt.close()\n",
    "\n",
    "    return f\"{snr:.3f}\""
   ]
  },
  {
   "cell_type": "markdown",
   "id": "54272f00-5094-44d5-a756-1d2ee08b4418",
   "metadata": {},
   "source": [
    "## Asteroid Analysis"
   ]
  },
  {
   "cell_type": "code",
   "execution_count": 19,
   "id": "f7460f53-fbdb-4aca-bbb0-4cc0a0791d07",
   "metadata": {
    "tags": []
   },
   "outputs": [],
   "source": [
    "def determineAsteroidProperties(asteroidName, expStart, expEnd):\n",
    "    #pull asteroid properties from JPL\n",
    "    \n",
    "    # Query asteroid data from Horizons\n",
    "    asteroidData = Horizons(\n",
    "        id=asteroidName, \n",
    "        location='Geocentric@JWST', \n",
    "        epochs={'start': expStart, 'stop': expEnd, 'step': '1m'}\n",
    "    )\n",
    "    \n",
    "    asteroid_JWST_ephem = asteroidData.ephemerides().to_pandas()\n",
    "    \n",
    "    # Extract midpoint index for calculations\n",
    "    midpoint = len(asteroid_JWST_ephem) // 2\n",
    "    \n",
    "    # Extract and format desired properties\n",
    "    alpha = f\"{asteroid_JWST_ephem['alpha'].iloc[midpoint]:.4f}\" #Sun-Asteroid-JWST angle\n",
    "    sun_to_asteroid = f\"{asteroid_JWST_ephem['r'].iloc[midpoint]:.8f}\"\n",
    "    asteroid_to_JWST = f\"{asteroid_JWST_ephem['delta'].iloc[midpoint]:.8f}\"\n",
    "    \n",
    "    # Uncertainty (RA and DEC errors)\n",
    "    position_uncertainty = asteroid_JWST_ephem['RSS_3sigma'].iloc[midpoint]  # combined uncertainty from RA and DEC\n",
    "\n",
    "    # Category of asteroid based on orbit_class\n",
    "    asteroid_orbit_class, asteroid_diameter, asteroid_albedo = asteroid_jpl_charactoristics(asteroidName)\n",
    "\n",
    "    return (alpha, sun_to_asteroid, asteroid_to_JWST, position_uncertainty, asteroid_orbit_class, asteroid_diameter, asteroid_albedo)"
   ]
  },
  {
   "cell_type": "code",
   "execution_count": 20,
   "id": "9908c249-91bf-4da3-98dc-7976fad195e5",
   "metadata": {
    "tags": []
   },
   "outputs": [],
   "source": [
    "def asteroid_jpl_charactoristics(asteroid_name):\n",
    "    \"\"\"Collected Manually\"\"\"\n",
    "    #orbital classification classes\n",
    "    #MB = Main Belt Asteroid\n",
    "    #IMB = Inner Main Belt Asteroid\n",
    "    #OMB = Outer Main Belt Asteroid\n",
    "    #JT = Jupiter Trojan\n",
    "    #ANEA = Apollo Near Earth Asteroid\n",
    "    #TNO = TransNeptunian Object\n",
    "    #C = Centaur\n",
    "    \n",
    "    #Diameter estimates from JPL (km)\n",
    "    #Geometric Albedo estimates from JPL\n",
    "    \n",
    "    short_form_dict = {\n",
    "        'MB':   'Main-Belt Asteroid',\n",
    "        'JT':   'Jupiter Trojan',\n",
    "        'IMB':  'Inner Main-Belt Asteroid',\n",
    "        'ANEA': 'Apollo Near Earth Asteroid',\n",
    "        'OMB':  'Outer Main-Belt Asteroid',\n",
    "        'TNO':  'TransNeptunian Object',\n",
    "        'C':    'Centaur'\n",
    "    }\n",
    "        \n",
    "    \n",
    "    \n",
    "    asteroid_params_dict = {'2002 CZ164': ['MB','NA','NA'],\n",
    "                            '2010 SE55' : ['MB','NA','NA'],\n",
    "                            '2004 XF41' : ['MB','NA','NA'],\n",
    "                            '1997 RB1'  : ['MB','3.028','0.305'],\n",
    "                            '2019 QB44' : ['JT','NA','NA'],\n",
    "                            '2005 RZ61' : ['MB','NA','NA'],\n",
    "                            '2008 SX186': ['MB','NA','NA'],\n",
    "                            '2014 YE88' : ['IMB','NA','NA'],\n",
    "                            '2008 WE86' : ['MB','NA','NA'],\n",
    "                            '1999 XY157': ['MB','3.743','0.289'],\n",
    "                            '2020 KH20' : ['MB','NA','NA'],\n",
    "                            '2018 HP10' : ['MB','NA','NA'],\n",
    "                            '2022 WQ19' : ['MB','NA','NA'],\n",
    "                            '2000 SK247': ['MB','NA','NA'],\n",
    "                            '2002 UO25' : ['MB','NA','NA'],\n",
    "                            '2018 AK52' : ['MB','NA','NA'],\n",
    "                            '2020 OY111': ['MB','NA','NA'],\n",
    "                            '2012 JS11' : ['ANEA','NA','NA'],\n",
    "                            '2020 SA57' : ['MB','NA','NA'],\n",
    "                            '2017 UA86' : ['MB','NA','NA'],\n",
    "                            '2020 RS115': ['OMB','NA','NA'],\n",
    "                            '2011 UZ194': ['MB','NA','NA'],\n",
    "                            '2016 QG127': ['MB','NA','NA'],\n",
    "                            '1988 RM5'  : ['MB','NA','NA'],\n",
    "                            '2008 WX'   : ['MB','NA','NA'],\n",
    "                            '2008 YF34' : ['MB','NA','NA'],\n",
    "                            '2001 TK17' : ['MB','NA','NA'],\n",
    "                            '2022 WJ22' : ['MB','NA','NA'],\n",
    "                            '2021 UE8'  : ['IMB','NA','NA'],\n",
    "                            '2002 FT2'  : ['MB','6.116','0.068'],\n",
    "                            '2010 RD101': ['MB','NA','NA'],\n",
    "                            '2014 DZ80' : ['MB','NA','NA'],\n",
    "                            '2015 XK95' : ['MB','NA','NA'],\n",
    "                            '2012 VG116': ['MB','NA','NA'],\n",
    "                            '2012 SJ16' : ['MB','NA','NA'],\n",
    "                            '2007 XR66' : ['MB','NA','NA'],\n",
    "                            '1999 NP39' : ['MB','4.367','0.093'],\n",
    "                            '1999 XZ93' : ['MB','4.575','0.368'],\n",
    "                            '1998 BC1'  : ['MB','15.712','0.082'],\n",
    "                            '2003 EL61' : ['TNO','NA','NA'],\n",
    "                            '2001 QO160': ['MB','NA','NA'],\n",
    "                            '2006 DZ86' : ['MB','NA','NA'],\n",
    "                            '1964 VY'   : ['MB','4.408','0.301'],\n",
    "                            '2008 EG37' : ['MB','NA','NA'],\n",
    "                            '1998 QM37' : ['MB','NA','NA'],\n",
    "                            '2000 WR106': ['TNO','900','0.07'],\n",
    "                            '2017 PN6': ['MB','NA','NA'],\n",
    "                            '2016 GT196': ['MB','NA','NA'],\n",
    "                            '1996 YP': ['MB','NA','NA'],\n",
    "                            '2001 VF31': ['MB','NA','NA'],\n",
    "                            '2013 AX137': ['MB','NA','NA'],\n",
    "                            '2023 RK160': ['MB','NA','NA'],\n",
    "                            '2003 AB55': ['MB','2.910','0.052'],\n",
    "                            '2003 QP78': ['MB','2.355','0.046'],\n",
    "                            '2016 WY66': ['MB','NA','NA'],\n",
    "                            '2011 BN173': ['MB','NA','NA'],\n",
    "                            '2023 EL1': ['ANEA','NA','NA'],\n",
    "                            '2011 RK8': ['MB','NA','NA'],\n",
    "                            '2008 SV190': ['MB','NA','NA'],\n",
    "                            '1997 CU26': ['C','NA','NA'],\n",
    "                            '2002 GG166': ['TNO','NA','NA'],\n",
    "                            '1999 OX3': ['TNO','NA','NA'],\n",
    "                            '2000 QC243': ['C','187.5','0.05'],\n",
    "                            '2015 XN511': ['MB','NA','NA'],\n",
    "                            '2014 WX577': ['MB','NA','NA'],\n",
    "                            '2005 SH105': ['MB','NA','NA'],\n",
    "                            '2007 RG378': ['MB','NA','NA'],\n",
    "                            '2022 QF262': ['MB','NA','NA'],\n",
    "                            '1996 NA3': ['MB','NA','NA'],\n",
    "                            '2001 XZ41': ['MB','NA','NA'],\n",
    "                            '2006 VT137': ['MB','NA','NA'],\n",
    "                            '2016 RC17' : ['MB','NA','NA'],\n",
    "                            '2013 LU28' : ['TNO','NA','NA'],\n",
    "                            '2000 QC243': ['C','187.5','0.05'],\n",
    "                            '2000 AY94' : ['MB','NA','NA'],\n",
    "                            '2015 RG201' : ['MB','NA','NA'],\n",
    "                            '2008 FA55' : ['MB','NA','NA'],\n",
    "                            '2003 UM107' : ['MB','NA','NA'],\n",
    "                            '2011 UK16' : ['MB','NA','NA'],\n",
    "                            '2011 UM4' : ['MB','NA','NA'],\n",
    "                            'A907 TC' : ['MB','7.249','0.298'],\n",
    "                            '2008 TW52' : ['MB','NA','NA'],\n",
    "                            '2006 XD33' : ['MB','NA','NA'],\n",
    "                            '2014 OQ381' : ['MB','NA','NA'],\n",
    "                            '2011 BO29' : ['MB','NA','NA'],\n",
    "                            '2021 VQ25' : ['MB','NA','NA'],\n",
    "                            '2014 KY44' : ['IMB','NA','NA'],\n",
    "                            '2007 TN15' : ['MB','NA','NA'],\n",
    "                            '2000 SQ146' : ['MB','2.387','0.34'],\n",
    "                            '2002 GD' : ['MB','NA','NA'],\n",
    "                            '2016 CJ6' : ['MB','NA','NA'],\n",
    "                            '2014 NH18' : ['MB','NA','NA'],\n",
    "                            '2014 WG354' : ['MB','NA','NA']\n",
    "                            \n",
    "                           }\n",
    "    \n",
    "\n",
    "    phys_params = asteroid_params_dict.get(asteroid_name, None)\n",
    "    \n",
    "    if phys_params is None:\n",
    "        classification, diameter, albedo = None, None, None\n",
    "    else:\n",
    "        classification, diameter, albedo = phys_params\n",
    "        \n",
    "    return(short_form_dict.get(classification, None), diameter, albedo)"
   ]
  },
  {
   "cell_type": "markdown",
   "id": "0f0a0ca5-f956-47a4-a543-9abb033f6b9b",
   "metadata": {},
   "source": [
    "## Asteroid Detection"
   ]
  },
  {
   "cell_type": "code",
   "execution_count": 21,
   "id": "05ac5546-e220-40fe-8e59-562bb917fd57",
   "metadata": {
    "tags": []
   },
   "outputs": [],
   "source": [
    "def jplHorizonsSearch(targetID, startTime, stopTime, polyString):\n",
    "    #Search the JPL Horizons data for a specific target to get orbital values. \n",
    "    #This method is more accurate then the cone search and provides a double check for asteroids (named from the cone search) existing in the image\n",
    "    \n",
    "    #generate polygon variable from the polygon string\n",
    "    poly = shapely.wkt.loads(polyString)\n",
    "    \n",
    "    #define the probe minutes at its lowest setting as to not miss ny additional data\n",
    "    #Note: there is likely a way to toggle this depending on the length of the exposure time as sometimes the exposure tis very long\n",
    "    probeMinutes = 1\n",
    "    \n",
    "    #get return from the JPL horizons output regarding the specific target searched\n",
    "    jpl_output = Horizons(\n",
    "        id=targetID, \n",
    "        location='Geocentric@JWST', \n",
    "        epochs={'start': str(startTime), 'stop' : str(stopTime), 'step' : f\"{probeMinutes}m\"}\n",
    "    ) \n",
    "\n",
    "    #get Ephemerides data\n",
    "    jpl_pandas = jpl_output.ephemerides().to_pandas()\n",
    "    \n",
    "    #pull out the RA and DEC lists marking the position of the asteroid at this time\n",
    "    asteroid_positions = zip(jpl_pandas['RA'], jpl_pandas['DEC'])\n",
    "    \n",
    "    #check to see if there are any times during this that the asteroid intercepts with the imaging window\n",
    "    return (jpl_pandas['RA'], jpl_pandas['DEC'], any(isLocatedInImage(ra, dec, poly) for ra, dec in asteroid_positions))"
   ]
  },
  {
   "cell_type": "code",
   "execution_count": 22,
   "id": "6ee30058-f43b-4f39-9b78-d16758e716c7",
   "metadata": {
    "tags": []
   },
   "outputs": [],
   "source": [
    "def asteroidsearch(row, folderName, level3obs, asteroidList):\n",
    "    proposal = row['proposal_id']\n",
    "    observation = row['observationid']\n",
    "    #datatype = row['dataproducttype']\n",
    "    intent = row['intent']\n",
    "    #moving = row['target_moving']\n",
    "    polygonString = row['position_bounds_spoly']\n",
    "    expStartMJD = row['time_bounds_lower']\n",
    "    expEndMJD = row['time_bounds_upper']\n",
    "    \n",
    "    #Generate output folder based on proposal\n",
    "    propPath = f'{folderName}/{proposal}'\n",
    "    \n",
    "    #Generate level 3 and level 2 folders\n",
    "    lvl3path = f'{propPath}/Level3_Products'\n",
    "    \n",
    "    lvl2path = f'{propPath}/Level2_Members'\n",
    "    \n",
    "    #reformat the image polygon\n",
    "    polyStringFmt =  str(formatPolygon(str(polygonString)))\n",
    "    \n",
    "    #convertTime format\n",
    "    expStart = (MJDconversion(expStartMJD))\n",
    "    expEnd   = (MJDconversion(expEndMJD))\n",
    "    \n",
    "    \n",
    "    #there might be a way to use if not os.path.exists(f'{filePath}/Original_{obsID}.png'):\n",
    "    #to see if the observation has already been tested and save on computation time\n",
    "    containedAsteroidNames = []\n",
    "    asteroidsNoData = []\n",
    "    containedAsteroidX = []\n",
    "    containedAsteroidY = []\n",
    "    usefulAsteroids = False\n",
    "    \n",
    "    for asteroid in asteroidList:\n",
    "        raList, decList, containedCheck = jplHorizonsSearch(asteroid, expStart, expEnd, polyStringFmt)\n",
    "        \n",
    "        if containedCheck:\n",
    "            #pull the WCS and image data for the observation\n",
    "            jwst_file = f\"jw0{next(c for c in proposal if c != '0')}\"\n",
    "            dataPath = f'/data/user/jwst_{jwst_file}/jw0{proposal}/{observation}_i2d.fits.gz'\n",
    "            imageData, WCS = pullWCS(dataPath)\n",
    "            \n",
    "            #check that the data exists\n",
    "            if WCS is None:\n",
    "                print(f\"ERROR: Image Data from {dataPath} Not Found\")\n",
    "                asteroidsNoData.append(asteroid)\n",
    "                \n",
    "            else:\n",
    "                #convert RA and DEC to pixel locations\n",
    "                asteroidPixelX, asteroidPixelY = WCS.all_world2pix(raList, decList, 0)\n",
    "                \n",
    "                #perform the non zero check to ensure that the asteroid travels across the sensor and not the dead area\n",
    "                nonZero = nonZeroCheck(imageData, asteroidPixelX, asteroidPixelY)\n",
    "                \n",
    "                if nonZero:\n",
    "                    containedAsteroidNames.append(asteroid)\n",
    "                    containedAsteroidX.append(asteroidPixelX)\n",
    "                    containedAsteroidY.append(asteroidPixelY)\n",
    "                    usefulAsteroids = True\n",
    "    \n",
    "    \n",
    "    if usefulAsteroids:\n",
    "        generateFolder(propPath)\n",
    "        generateFolder(lvl2path)\n",
    "    \n",
    "        produceOverlayImage(imageData, WCS, observation, containedAsteroidNames, containedAsteroidX, containedAsteroidY, lvl2path)\n",
    "        produceOriginalImage(imageData, WCS, observation, lvl2path)\n",
    "\n",
    "        snrList = []\n",
    "        phaseList = []\n",
    "        sun_asteroid_dist = []\n",
    "        asteroid_JWST_dist = []\n",
    "        pos_err_list = []\n",
    "        classification_list = []\n",
    "        diameter_list = []\n",
    "        albedo_list = []\n",
    "        \n",
    "        for indx in range(len(containedAsteroidNames)):\n",
    "            croppedImg = highContrastImage(imageData, WCS, containedAsteroidNames[indx], containedAsteroidX[indx], containedAsteroidY[indx], lvl2path, observation)\n",
    "            \n",
    "            if not isinstance(croppedImg, bool):\n",
    "                snr = generateSNRimage(croppedImg, lvl2path, observation, containedAsteroidNames[indx])\n",
    "                snrList.append(snr)\n",
    "                \n",
    "                phaseAngle, sun2asteroid, asteroid2JWST, pos_err, orbit_classification, diameter, albedo = determineAsteroidProperties(containedAsteroidNames[indx], expStart, expEnd)\n",
    "                \n",
    "                phaseList.append(phaseAngle)\n",
    "                sun_asteroid_dist.append(sun2asteroid)\n",
    "                asteroid_JWST_dist.append(asteroid2JWST)\n",
    "                pos_err_list.append(pos_err)\n",
    "                classification_list.append(orbit_classification)\n",
    "                diameter_list.append(diameter)\n",
    "                albedo_list.append(albedo)\n",
    "                \n",
    "\n",
    "        if len(asteroidsNoData) > 0:  \n",
    "            containedAsteroidNames.extend([a + \"*\" for a in asteroidsNoData])\n",
    "            snrList.extend(['No Data' for a in range(len(asteroidsNoData))])\n",
    "            phaseList.extend(['No Data' for a in range(len(asteroidsNoData))])\n",
    "            sun_asteroid_dist.extend(['No Data' for a in range(len(asteroidsNoData))])\n",
    "            asteroid_JWST_dist.extend(['No Data' for a in range(len(asteroidsNoData))])\n",
    "            pos_err_list.extend(['No Data' for a in range(len(asteroidsNoData))])\n",
    "            classification_list.extend(['No Data' for a in range(len(asteroidsNoData))])          \n",
    "            diameter_list.extend(['No Data' for a in range(len(asteroidsNoData))])  \n",
    "            albedo_list.extend(['No Data' for a in range(len(asteroidsNoData))])  \n",
    "                \n",
    "    else:\n",
    "        if len(asteroidsNoData) > 0:\n",
    "            containedAsteroidNames = [a + \"*\" for a in asteroidsNoData]\n",
    "            snrList = 'No Data'\n",
    "            phaseList = 'No Data'\n",
    "            sun_asteroid_dist = 'No Data'\n",
    "            asteroid_JWST_dist = 'No Data'\n",
    "            pos_err_list = 'No Data'\n",
    "            classification_list = 'No Data'\n",
    "            diameter_list = 'No Data' \n",
    "            albedo_list = 'No Data'\n",
    "            \n",
    "        else:\n",
    "            containedAsteroidNames = ''\n",
    "            snrList = ''\n",
    "            phaseList = ''\n",
    "            sun_asteroid_dist =''\n",
    "            asteroid_JWST_dist =''\n",
    "            pos_err_list = ''\n",
    "            classification_list = ''\n",
    "            diameter_list = '' \n",
    "            albedo_list = ''\n",
    "            \n",
    "    return pd.Series([intent, expStart, expEnd, containedAsteroidNames, classification_list, snrList, phaseList, sun_asteroid_dist, asteroid_JWST_dist, diameter_list, albedo_list, pos_err_list], index=['Image Intent', 'Exposure Start', 'Exposure End', 'Asteroids', 'JPL Classification', 'S/N', 'JPL Phase Angle (Deg)', 'JPL Sun-Asteroid Dist (AU)', 'JPL Asteroid-JWST Dist (AU)', 'JPL Diameter (km)', 'JPL Geo Albedo', 'JPL Pos Uncertainty (Arcsec)'])"
   ]
  },
  {
   "cell_type": "markdown",
   "id": "16dc8308-ce87-46f8-ada4-b21c978d94bc",
   "metadata": {},
   "source": [
    "## Main Function"
   ]
  },
  {
   "cell_type": "code",
   "execution_count": 23,
   "id": "4fb54a9b-4768-4f01-8e11-c36276d62c93",
   "metadata": {
    "tags": []
   },
   "outputs": [],
   "source": [
    "def main(csvName, folderName, propRange, username, password):\n",
    "    #main function for the lvl 2 asteroid detection and saving to the csv\n",
    "    \n",
    "    with HiddenPrints():\n",
    "        Jwst.login(user=f\"{username}\", password=f\"{password}\")\n",
    "        \n",
    "        generateFolder(folderName)\n",
    "    \n",
    "    #pull the useful asteroid rows from the provided lvl 3 csv\n",
    "    proposals, lvl3observations, asteroids = pullCSVdata(csvName, propRange)\n",
    "    \n",
    "    asteroidDict = proposal2asteroidDict(proposals, asteroids)\n",
    "\n",
    "    if proposals and lvl3observations:\n",
    "        uniqueProposals = sorted(list(set(proposals)))\n",
    "        \n",
    "        print(f\"From proposals {uniqueProposals} found {len(lvl3observations)} Observations containing asteroids\")\n",
    "        \n",
    "        #search for the members of the level 3 images \n",
    "        with HiddenPrints():\n",
    "            members, obsMemberDict = query4imageMembers(lvl3observations)\n",
    "        \n",
    "        #find the archive info on all of the unique members\n",
    "        with HiddenPrints():\n",
    "            level2df = level2query(members)\n",
    "        \n",
    "        \n",
    "        #itterate through the dataframe using the row as the input to a search function and add 2 columns to the df\n",
    "        asteroidCSV = (\n",
    "            level2df\n",
    "            .assign(\n",
    "                **level2df.progress_apply(\n",
    "                    lambda row: asteroidsearch(row, folderName, lvl3observations, asteroidDict.get(int(row['proposal_id']))), axis = 1\n",
    "                )\n",
    "            )\n",
    "        )\n",
    "\n",
    "        asteroidCSV = (\n",
    "            asteroidCSV[\n",
    "                ['proposal_id', 'observationid', 'energy_bandpassname', 'target_moving',\n",
    "                 'Image Intent', 'position_bounds_spoly', 'Exposure Start', 'Exposure End', \n",
    "                 'Asteroids', 'JPL Classification', 'S/N', 'JPL Phase Angle (Deg)', 'JPL Sun-Asteroid Dist (AU)', \n",
    "                 'JPL Asteroid-JWST Dist (AU)', 'JPL Diameter (km)', 'JPL Geo Albedo',\n",
    "                 'JPL Pos Uncertainty (Arcsec)']\n",
    "            ]\n",
    "            .rename(columns={\n",
    "                'proposal_id': 'Proposal', \n",
    "                'observationid': 'Observation', \n",
    "                'energy_bandpassname': 'Filter', \n",
    "                'target_moving': 'Moving', \n",
    "                'position_bounds_spoly': 'Polygon', \n",
    "                'Exposure Start': 'Exp Start', \n",
    "                'Exposure End': 'Exp End', \n",
    "            })\n",
    "            .assign(Moving=lambda df: df['Moving'].replace({0: 'No', 1: 'Yes'}))\n",
    "            .sort_values(by='Observation', ascending=True)\n",
    "            .reset_index(drop=True)\n",
    "        )\n",
    "        \n",
    "        #pd.set_option('display.max_rows', None) \n",
    "        #pd.set_option('display.max_columns', None)\n",
    "        #pd.set_option('display.width', None)\n",
    "\n",
    "        #print(f'{folderName}/LVL2_Asteroids_{propRange[0]}_{propRange[1]}.csv')\n",
    "        #csvName = f'{folderName}/LVL2_Asteroids_{propRange[0]}_{propRange[1]}.csv'\n",
    "        #asteroidCSV.to_csv(csvName, index=False)\n",
    "        \n",
    "        return(asteroidCSV)"
   ]
  },
  {
   "cell_type": "markdown",
   "id": "363544fd-4c6d-4255-8677-6b75a637ec52",
   "metadata": {},
   "source": [
    "## Run"
   ]
  },
  {
   "cell_type": "code",
   "execution_count": 24,
   "id": "26c29303-41a4-4102-a3e7-e366c8d24bee",
   "metadata": {},
   "outputs": [
    {
     "name": "stdout",
     "output_type": "stream",
     "text": [
      "Empty Dataframe, No asteroids in that proposal range [1000, 1004]\n",
      "Empty Dataframe, No asteroids in that proposal range [1005, 1009]\n",
      "Empty Dataframe, No asteroids in that proposal range [1010, 1014]\n",
      "Empty Dataframe, No asteroids in that proposal range [1015, 1019]\n",
      "From proposals [1022] found 2 Observations containing asteroids\n"
     ]
    },
    {
     "data": {
      "application/vnd.jupyter.widget-view+json": {
       "model_id": "40ffe0e3d75b4af1b8f600fe547146df",
       "version_major": 2,
       "version_minor": 0
      },
      "text/plain": [
       "  0%|          | 0/2 [00:00<?, ?it/s]"
      ]
     },
     "metadata": {},
     "output_type": "display_data"
    },
    {
     "name": "stdout",
     "output_type": "stream",
     "text": [
      "saved\n",
      "Empty Dataframe, No asteroids in that proposal range [1025, 1029]\n",
      "Empty Dataframe, No asteroids in that proposal range [1030, 1034]\n",
      "Empty Dataframe, No asteroids in that proposal range [1035, 1039]\n",
      "Empty Dataframe, No asteroids in that proposal range [1040, 1044]\n",
      "Empty Dataframe, No asteroids in that proposal range [1045, 1049]\n",
      "From proposals [1051] found 34 Observations containing asteroids\n"
     ]
    },
    {
     "data": {
      "application/vnd.jupyter.widget-view+json": {
       "model_id": "551f23523cc74f77a63696d67fabbb6b",
       "version_major": 2,
       "version_minor": 0
      },
      "text/plain": [
       "  0%|          | 0/102 [00:00<?, ?it/s]"
      ]
     },
     "metadata": {},
     "output_type": "display_data"
    },
    {
     "name": "stdout",
     "output_type": "stream",
     "text": [
      "saved\n",
      "Empty Dataframe, No asteroids in that proposal range [1055, 1059]\n",
      "Empty Dataframe, No asteroids in that proposal range [1060, 1064]\n",
      "Empty Dataframe, No asteroids in that proposal range [1065, 1069]\n",
      "Empty Dataframe, No asteroids in that proposal range [1070, 1074]\n",
      "Empty Dataframe, No asteroids in that proposal range [1075, 1079]\n",
      "Empty Dataframe, No asteroids in that proposal range [1080, 1084]\n",
      "Empty Dataframe, No asteroids in that proposal range [1085, 1089]\n",
      "Empty Dataframe, No asteroids in that proposal range [1090, 1094]\n",
      "Empty Dataframe, No asteroids in that proposal range [1095, 1099]\n",
      "Empty Dataframe, No asteroids in that proposal range [1100, 1104]\n",
      "Empty Dataframe, No asteroids in that proposal range [1105, 1109]\n",
      "Empty Dataframe, No asteroids in that proposal range [1110, 1114]\n",
      "Empty Dataframe, No asteroids in that proposal range [1115, 1119]\n",
      "Empty Dataframe, No asteroids in that proposal range [1120, 1124]\n",
      "Empty Dataframe, No asteroids in that proposal range [1125, 1129]\n",
      "Empty Dataframe, No asteroids in that proposal range [1130, 1134]\n",
      "Empty Dataframe, No asteroids in that proposal range [1135, 1139]\n",
      "Empty Dataframe, No asteroids in that proposal range [1140, 1144]\n",
      "Empty Dataframe, No asteroids in that proposal range [1145, 1149]\n",
      "Empty Dataframe, No asteroids in that proposal range [1150, 1154]\n",
      "Empty Dataframe, No asteroids in that proposal range [1155, 1159]\n",
      "Empty Dataframe, No asteroids in that proposal range [1160, 1164]\n",
      "Empty Dataframe, No asteroids in that proposal range [1165, 1169]\n",
      "Empty Dataframe, No asteroids in that proposal range [1170, 1174]\n",
      "Empty Dataframe, No asteroids in that proposal range [1175, 1179]\n",
      "Empty Dataframe, No asteroids in that proposal range [1180, 1184]\n",
      "Empty Dataframe, No asteroids in that proposal range [1185, 1189]\n",
      "From proposals [1193] found 2 Observations containing asteroids\n"
     ]
    },
    {
     "data": {
      "application/vnd.jupyter.widget-view+json": {
       "model_id": "11c35302e461443195b45dcb1d0a609d",
       "version_major": 2,
       "version_minor": 0
      },
      "text/plain": [
       "  0%|          | 0/8 [00:00<?, ?it/s]"
      ]
     },
     "metadata": {},
     "output_type": "display_data"
    },
    {
     "name": "stdout",
     "output_type": "stream",
     "text": [
      "saved\n",
      "Empty Dataframe, No asteroids in that proposal range [1195, 1199]\n",
      "Empty Dataframe, No asteroids in that proposal range [1200, 1204]\n",
      "Empty Dataframe, No asteroids in that proposal range [1205, 1209]\n",
      "Empty Dataframe, No asteroids in that proposal range [1210, 1214]\n",
      "Empty Dataframe, No asteroids in that proposal range [1215, 1219]\n",
      "Empty Dataframe, No asteroids in that proposal range [1220, 1224]\n",
      "Empty Dataframe, No asteroids in that proposal range [1225, 1229]\n",
      "Empty Dataframe, No asteroids in that proposal range [1230, 1234]\n",
      "Empty Dataframe, No asteroids in that proposal range [1235, 1239]\n",
      "Empty Dataframe, No asteroids in that proposal range [1240, 1244]\n",
      "From proposals [1249] found 1 Observations containing asteroids\n"
     ]
    },
    {
     "data": {
      "application/vnd.jupyter.widget-view+json": {
       "model_id": "5e1eb12a14a9417982ab057a87bffea1",
       "version_major": 2,
       "version_minor": 0
      },
      "text/plain": [
       "  0%|          | 0/3 [00:00<?, ?it/s]"
      ]
     },
     "metadata": {},
     "output_type": "display_data"
    },
    {
     "name": "stdout",
     "output_type": "stream",
     "text": [
      "saved\n",
      "From proposals [1254] found 2 Observations containing asteroids\n"
     ]
    },
    {
     "data": {
      "application/vnd.jupyter.widget-view+json": {
       "model_id": "fc5eef2b77f04de0933d54f22f33b007",
       "version_major": 2,
       "version_minor": 0
      },
      "text/plain": [
       "  0%|          | 0/3 [00:00<?, ?it/s]"
      ]
     },
     "metadata": {},
     "output_type": "display_data"
    },
    {
     "name": "stdout",
     "output_type": "stream",
     "text": [
      "saved\n",
      "Empty Dataframe, No asteroids in that proposal range [1255, 1259]\n",
      "Empty Dataframe, No asteroids in that proposal range [1260, 1264]\n",
      "Empty Dataframe, No asteroids in that proposal range [1265, 1269]\n",
      "From proposals [1273] found 2 Observations containing asteroids\n"
     ]
    },
    {
     "data": {
      "application/vnd.jupyter.widget-view+json": {
       "model_id": "cd72832f5a0f496cb7e8e452ffdf0734",
       "version_major": 2,
       "version_minor": 0
      },
      "text/plain": [
       "  0%|          | 0/8 [00:00<?, ?it/s]"
      ]
     },
     "metadata": {},
     "output_type": "display_data"
    },
    {
     "name": "stdout",
     "output_type": "stream",
     "text": [
      "saved\n",
      "Empty Dataframe, No asteroids in that proposal range [1275, 1279]\n",
      "From proposals [1282] found 7 Observations containing asteroids\n"
     ]
    },
    {
     "data": {
      "application/vnd.jupyter.widget-view+json": {
       "model_id": "cae69e4b796d45b896e689ac86eff6cf",
       "version_major": 2,
       "version_minor": 0
      },
      "text/plain": [
       "  0%|          | 0/85 [00:00<?, ?it/s]"
      ]
     },
     "metadata": {},
     "output_type": "display_data"
    },
    {
     "name": "stdout",
     "output_type": "stream",
     "text": [
      "saved\n",
      "Empty Dataframe, No asteroids in that proposal range [1285, 1289]\n",
      "Empty Dataframe, No asteroids in that proposal range [1290, 1294]\n",
      "Empty Dataframe, No asteroids in that proposal range [1295, 1299]\n",
      "Empty Dataframe, No asteroids in that proposal range [1300, 1304]\n",
      "Empty Dataframe, No asteroids in that proposal range [1305, 1309]\n",
      "Empty Dataframe, No asteroids in that proposal range [1310, 1314]\n",
      "Empty Dataframe, No asteroids in that proposal range [1315, 1319]\n",
      "Empty Dataframe, No asteroids in that proposal range [1320, 1324]\n",
      "Empty Dataframe, No asteroids in that proposal range [1325, 1329]\n",
      "Empty Dataframe, No asteroids in that proposal range [1330, 1334]\n",
      "Empty Dataframe, No asteroids in that proposal range [1335, 1339]\n",
      "Empty Dataframe, No asteroids in that proposal range [1340, 1344]\n",
      "Empty Dataframe, No asteroids in that proposal range [1345, 1349]\n",
      "Empty Dataframe, No asteroids in that proposal range [1350, 1354]\n",
      "Empty Dataframe, No asteroids in that proposal range [1355, 1359]\n",
      "Empty Dataframe, No asteroids in that proposal range [1360, 1364]\n",
      "Empty Dataframe, No asteroids in that proposal range [1365, 1369]\n",
      "Empty Dataframe, No asteroids in that proposal range [1370, 1374]\n",
      "Empty Dataframe, No asteroids in that proposal range [1375, 1379]\n",
      "Empty Dataframe, No asteroids in that proposal range [1380, 1384]\n",
      "Empty Dataframe, No asteroids in that proposal range [1385, 1389]\n",
      "Empty Dataframe, No asteroids in that proposal range [1390, 1394]\n",
      "Empty Dataframe, No asteroids in that proposal range [1395, 1399]\n",
      "Empty Dataframe, No asteroids in that proposal range [1400, 1404]\n",
      "Empty Dataframe, No asteroids in that proposal range [1405, 1409]\n",
      "Empty Dataframe, No asteroids in that proposal range [1410, 1414]\n",
      "Empty Dataframe, No asteroids in that proposal range [1415, 1419]\n",
      "Empty Dataframe, No asteroids in that proposal range [1420, 1424]\n",
      "Empty Dataframe, No asteroids in that proposal range [1425, 1429]\n",
      "Empty Dataframe, No asteroids in that proposal range [1430, 1434]\n",
      "Empty Dataframe, No asteroids in that proposal range [1435, 1439]\n",
      "Empty Dataframe, No asteroids in that proposal range [1440, 1444]\n",
      "From proposals [1449] found 1 Observations containing asteroids\n"
     ]
    },
    {
     "data": {
      "application/vnd.jupyter.widget-view+json": {
       "model_id": "6ef44dddb33d4c59b18f93a1a50ed333",
       "version_major": 2,
       "version_minor": 0
      },
      "text/plain": [
       "  0%|          | 0/3 [00:00<?, ?it/s]"
      ]
     },
     "metadata": {},
     "output_type": "display_data"
    },
    {
     "name": "stdout",
     "output_type": "stream",
     "text": [
      "saved\n",
      "Empty Dataframe, No asteroids in that proposal range [1450, 1454]\n",
      "Empty Dataframe, No asteroids in that proposal range [1455, 1459]\n",
      "Empty Dataframe, No asteroids in that proposal range [1460, 1464]\n",
      "Empty Dataframe, No asteroids in that proposal range [1465, 1469]\n",
      "Empty Dataframe, No asteroids in that proposal range [1470, 1474]\n",
      "Empty Dataframe, No asteroids in that proposal range [1475, 1479]\n",
      "Empty Dataframe, No asteroids in that proposal range [1480, 1484]\n",
      "Empty Dataframe, No asteroids in that proposal range [1485, 1489]\n",
      "Empty Dataframe, No asteroids in that proposal range [1490, 1494]\n",
      "Empty Dataframe, No asteroids in that proposal range [1495, 1499]\n",
      "Empty Dataframe, No asteroids in that proposal range [1500, 1504]\n",
      "Empty Dataframe, No asteroids in that proposal range [1505, 1509]\n",
      "Empty Dataframe, No asteroids in that proposal range [1510, 1514]\n",
      "Empty Dataframe, No asteroids in that proposal range [1515, 1519]\n",
      "From proposals [1522] found 17 Observations containing asteroids\n"
     ]
    },
    {
     "data": {
      "application/vnd.jupyter.widget-view+json": {
       "model_id": "84fb05a273a24f6e9ca39694e511d1fa",
       "version_major": 2,
       "version_minor": 0
      },
      "text/plain": [
       "  0%|          | 0/68 [00:00<?, ?it/s]"
      ]
     },
     "metadata": {},
     "output_type": "display_data"
    },
    {
     "name": "stdout",
     "output_type": "stream",
     "text": [
      "saved\n",
      "Empty Dataframe, No asteroids in that proposal range [1525, 1529]\n",
      "Empty Dataframe, No asteroids in that proposal range [1530, 1534]\n",
      "Empty Dataframe, No asteroids in that proposal range [1535, 1539]\n",
      "Empty Dataframe, No asteroids in that proposal range [1540, 1544]\n",
      "Empty Dataframe, No asteroids in that proposal range [1545, 1549]\n",
      "Empty Dataframe, No asteroids in that proposal range [1550, 1554]\n",
      "Empty Dataframe, No asteroids in that proposal range [1555, 1559]\n",
      "Empty Dataframe, No asteroids in that proposal range [1560, 1564]\n",
      "Empty Dataframe, No asteroids in that proposal range [1565, 1569]\n",
      "Empty Dataframe, No asteroids in that proposal range [1570, 1574]\n",
      "Empty Dataframe, No asteroids in that proposal range [1575, 1579]\n",
      "From proposals [1584] found 1 Observations containing asteroids\n"
     ]
    },
    {
     "data": {
      "application/vnd.jupyter.widget-view+json": {
       "model_id": "b3010431c6e94e13922c33c3cad33d00",
       "version_major": 2,
       "version_minor": 0
      },
      "text/plain": [
       "  0%|          | 0/13 [00:00<?, ?it/s]"
      ]
     },
     "metadata": {},
     "output_type": "display_data"
    },
    {
     "name": "stdout",
     "output_type": "stream",
     "text": [
      "ERROR: Image Data from /data/user/jwst_jw01/jw01584/jw01584016001_02101_00001_mirimage_i2d.fits.gz Not Found\n",
      "ERROR: Image Data from /data/user/jwst_jw01/jw01584/jw01584016001_02101_00001_mirimage_i2d.fits.gz Not Found\n",
      "saved\n",
      "Empty Dataframe, No asteroids in that proposal range [1585, 1589]\n",
      "Empty Dataframe, No asteroids in that proposal range [1590, 1594]\n",
      "Empty Dataframe, No asteroids in that proposal range [1595, 1599]\n",
      "Empty Dataframe, No asteroids in that proposal range [1600, 1604]\n",
      "Empty Dataframe, No asteroids in that proposal range [1605, 1609]\n",
      "Empty Dataframe, No asteroids in that proposal range [1610, 1614]\n",
      "Empty Dataframe, No asteroids in that proposal range [1615, 1619]\n",
      "Empty Dataframe, No asteroids in that proposal range [1620, 1624]\n",
      "Empty Dataframe, No asteroids in that proposal range [1625, 1629]\n",
      "Empty Dataframe, No asteroids in that proposal range [1630, 1634]\n",
      "Empty Dataframe, No asteroids in that proposal range [1635, 1639]\n",
      "From proposals [1640] found 1 Observations containing asteroids\n"
     ]
    },
    {
     "data": {
      "application/vnd.jupyter.widget-view+json": {
       "model_id": "692cede2568b4c9591292b97586f3dc8",
       "version_major": 2,
       "version_minor": 0
      },
      "text/plain": [
       "  0%|          | 0/13 [00:00<?, ?it/s]"
      ]
     },
     "metadata": {},
     "output_type": "display_data"
    },
    {
     "name": "stdout",
     "output_type": "stream",
     "text": [
      "ERROR: Image Data from /data/user/jwst_jw01/jw01640/jw01640003001_02101_00001_mirimage_i2d.fits.gz Not Found\n",
      "ERROR: Image Data from /data/user/jwst_jw01/jw01640/jw01640003001_02101_00001_mirimage_i2d.fits.gz Not Found\n",
      "saved\n",
      "Empty Dataframe, No asteroids in that proposal range [1645, 1649]\n",
      "Empty Dataframe, No asteroids in that proposal range [1650, 1654]\n",
      "From proposals [1658] found 4 Observations containing asteroids\n"
     ]
    },
    {
     "data": {
      "application/vnd.jupyter.widget-view+json": {
       "model_id": "23326d0615884cdfa98eef999c8b05ce",
       "version_major": 2,
       "version_minor": 0
      },
      "text/plain": [
       "  0%|          | 0/8 [00:00<?, ?it/s]"
      ]
     },
     "metadata": {},
     "output_type": "display_data"
    },
    {
     "name": "stdout",
     "output_type": "stream",
     "text": [
      "saved\n",
      "Empty Dataframe, No asteroids in that proposal range [1660, 1664]\n",
      "Empty Dataframe, No asteroids in that proposal range [1665, 1669]\n",
      "From proposals [1670] found 2 Observations containing asteroids\n"
     ]
    },
    {
     "data": {
      "application/vnd.jupyter.widget-view+json": {
       "model_id": "09fcf27eacd446f883683fa07c0d5b5b",
       "version_major": 2,
       "version_minor": 0
      },
      "text/plain": [
       "  0%|          | 0/33 [00:00<?, ?it/s]"
      ]
     },
     "metadata": {},
     "output_type": "display_data"
    },
    {
     "name": "stdout",
     "output_type": "stream",
     "text": [
      "saved\n",
      "Empty Dataframe, No asteroids in that proposal range [1675, 1679]\n",
      "Empty Dataframe, No asteroids in that proposal range [1680, 1684]\n",
      "Empty Dataframe, No asteroids in that proposal range [1685, 1689]\n",
      "Empty Dataframe, No asteroids in that proposal range [1690, 1694]\n",
      "Empty Dataframe, No asteroids in that proposal range [1695, 1699]\n",
      "Empty Dataframe, No asteroids in that proposal range [1700, 1704]\n",
      "Empty Dataframe, No asteroids in that proposal range [1705, 1709]\n",
      "From proposals [1714] found 14 Observations containing asteroids\n"
     ]
    },
    {
     "data": {
      "application/vnd.jupyter.widget-view+json": {
       "model_id": "a7f1b38d69854ec9a827baeb3d75cc39",
       "version_major": 2,
       "version_minor": 0
      },
      "text/plain": [
       "  0%|          | 0/216 [00:00<?, ?it/s]"
      ]
     },
     "metadata": {},
     "output_type": "display_data"
    },
    {
     "name": "stdout",
     "output_type": "stream",
     "text": [
      "saved\n",
      "From proposals [1717] found 2 Observations containing asteroids\n"
     ]
    },
    {
     "data": {
      "application/vnd.jupyter.widget-view+json": {
       "model_id": "14ab6d6a6c4142edb4f38b285412a88c",
       "version_major": 2,
       "version_minor": 0
      },
      "text/plain": [
       "  0%|          | 0/8 [00:00<?, ?it/s]"
      ]
     },
     "metadata": {},
     "output_type": "display_data"
    },
    {
     "name": "stdout",
     "output_type": "stream",
     "text": [
      "saved\n",
      "Empty Dataframe, No asteroids in that proposal range [1720, 1724]\n",
      "From proposals [1727] found 17 Observations containing asteroids\n"
     ]
    },
    {
     "data": {
      "application/vnd.jupyter.widget-view+json": {
       "model_id": "8c45079eb21f470d98529bb1e48274c5",
       "version_major": 2,
       "version_minor": 0
      },
      "text/plain": [
       "  0%|          | 0/128 [00:00<?, ?it/s]"
      ]
     },
     "metadata": {},
     "output_type": "display_data"
    },
    {
     "name": "stdout",
     "output_type": "stream",
     "text": [
      "saved\n",
      "Empty Dataframe, No asteroids in that proposal range [1730, 1734]\n",
      "Empty Dataframe, No asteroids in that proposal range [1735, 1739]\n",
      "Empty Dataframe, No asteroids in that proposal range [1740, 1744]\n",
      "Empty Dataframe, No asteroids in that proposal range [1745, 1749]\n",
      "From proposals [1751] found 1 Observations containing asteroids\n"
     ]
    },
    {
     "data": {
      "application/vnd.jupyter.widget-view+json": {
       "model_id": "e183112a47d6401293b421e895a3b0c9",
       "version_major": 2,
       "version_minor": 0
      },
      "text/plain": [
       "  0%|          | 0/6 [00:00<?, ?it/s]"
      ]
     },
     "metadata": {},
     "output_type": "display_data"
    },
    {
     "name": "stdout",
     "output_type": "stream",
     "text": [
      "saved\n",
      "Empty Dataframe, No asteroids in that proposal range [1755, 1759]\n",
      "From proposals [1764] found 1 Observations containing asteroids\n"
     ]
    },
    {
     "data": {
      "application/vnd.jupyter.widget-view+json": {
       "model_id": "24be84cbd5ee4f6ba145113e9da4a0bb",
       "version_major": 2,
       "version_minor": 0
      },
      "text/plain": [
       "  0%|          | 0/4 [00:00<?, ?it/s]"
      ]
     },
     "metadata": {},
     "output_type": "display_data"
    },
    {
     "name": "stdout",
     "output_type": "stream",
     "text": [
      "saved\n",
      "Empty Dataframe, No asteroids in that proposal range [1765, 1769]\n",
      "Empty Dataframe, No asteroids in that proposal range [1770, 1774]\n",
      "Empty Dataframe, No asteroids in that proposal range [1775, 1779]\n",
      "From proposals [1783] found 6 Observations containing asteroids\n"
     ]
    },
    {
     "data": {
      "application/vnd.jupyter.widget-view+json": {
       "model_id": "60fe3e19ec5f4544ab33879e8d4324e4",
       "version_major": 2,
       "version_minor": 0
      },
      "text/plain": [
       "  0%|          | 0/48 [00:00<?, ?it/s]"
      ]
     },
     "metadata": {},
     "output_type": "display_data"
    },
    {
     "name": "stdout",
     "output_type": "stream",
     "text": [
      "saved\n",
      "Empty Dataframe, No asteroids in that proposal range [1785, 1789]\n",
      "Empty Dataframe, No asteroids in that proposal range [1790, 1794]\n",
      "Empty Dataframe, No asteroids in that proposal range [1795, 1799]\n",
      "From proposals [1802] found 3 Observations containing asteroids\n"
     ]
    },
    {
     "data": {
      "application/vnd.jupyter.widget-view+json": {
       "model_id": "e488ff56a3924494b25c13f30239d6a4",
       "version_major": 2,
       "version_minor": 0
      },
      "text/plain": [
       "  0%|          | 0/48 [00:00<?, ?it/s]"
      ]
     },
     "metadata": {},
     "output_type": "display_data"
    },
    {
     "name": "stdout",
     "output_type": "stream",
     "text": [
      "saved\n",
      "Empty Dataframe, No asteroids in that proposal range [1805, 1809]\n",
      "Empty Dataframe, No asteroids in that proposal range [1810, 1814]\n",
      "Empty Dataframe, No asteroids in that proposal range [1815, 1819]\n",
      "Empty Dataframe, No asteroids in that proposal range [1820, 1824]\n",
      "Empty Dataframe, No asteroids in that proposal range [1825, 1829]\n",
      "Empty Dataframe, No asteroids in that proposal range [1830, 1834]\n",
      "From proposals [1837] found 20 Observations containing asteroids\n"
     ]
    },
    {
     "data": {
      "application/vnd.jupyter.widget-view+json": {
       "model_id": "8ecad3c23798488e80ede5b8a326d928",
       "version_major": 2,
       "version_minor": 0
      },
      "text/plain": [
       "  0%|          | 0/735 [00:00<?, ?it/s]"
      ]
     },
     "metadata": {},
     "output_type": "display_data"
    },
    {
     "name": "stdout",
     "output_type": "stream",
     "text": [
      "saved\n",
      "Empty Dataframe, No asteroids in that proposal range [1840, 1844]\n",
      "Empty Dataframe, No asteroids in that proposal range [1845, 1849]\n",
      "From proposals [1854] found 2 Observations containing asteroids\n"
     ]
    },
    {
     "data": {
      "application/vnd.jupyter.widget-view+json": {
       "model_id": "77082945b96040af928b29d9f109d8e9",
       "version_major": 2,
       "version_minor": 0
      },
      "text/plain": [
       "  0%|          | 0/16 [00:00<?, ?it/s]"
      ]
     },
     "metadata": {},
     "output_type": "display_data"
    },
    {
     "name": "stdout",
     "output_type": "stream",
     "text": [
      "saved\n",
      "Empty Dataframe, No asteroids in that proposal range [1855, 1859]\n",
      "Empty Dataframe, No asteroids in that proposal range [1860, 1864]\n",
      "Empty Dataframe, No asteroids in that proposal range [1865, 1869]\n",
      "Empty Dataframe, No asteroids in that proposal range [1870, 1874]\n",
      "Empty Dataframe, No asteroids in that proposal range [1875, 1879]\n",
      "Empty Dataframe, No asteroids in that proposal range [1880, 1884]\n",
      "Empty Dataframe, No asteroids in that proposal range [1885, 1889]\n",
      "Empty Dataframe, No asteroids in that proposal range [1890, 1894]\n",
      "Empty Dataframe, No asteroids in that proposal range [1895, 1899]\n",
      "Empty Dataframe, No asteroids in that proposal range [1900, 1904]\n",
      "Empty Dataframe, No asteroids in that proposal range [1905, 1909]\n",
      "Empty Dataframe, No asteroids in that proposal range [1910, 1914]\n",
      "Empty Dataframe, No asteroids in that proposal range [1915, 1919]\n",
      "Empty Dataframe, No asteroids in that proposal range [1920, 1924]\n",
      "Empty Dataframe, No asteroids in that proposal range [1925, 1929]\n",
      "Empty Dataframe, No asteroids in that proposal range [1930, 1934]\n",
      "Empty Dataframe, No asteroids in that proposal range [1935, 1939]\n",
      "Empty Dataframe, No asteroids in that proposal range [1940, 1944]\n",
      "Empty Dataframe, No asteroids in that proposal range [1945, 1949]\n",
      "Empty Dataframe, No asteroids in that proposal range [1950, 1954]\n",
      "Empty Dataframe, No asteroids in that proposal range [1955, 1959]\n",
      "Empty Dataframe, No asteroids in that proposal range [1960, 1964]\n",
      "Empty Dataframe, No asteroids in that proposal range [1965, 1969]\n",
      "Empty Dataframe, No asteroids in that proposal range [1970, 1974]\n",
      "Empty Dataframe, No asteroids in that proposal range [1975, 1979]\n",
      "Empty Dataframe, No asteroids in that proposal range [1980, 1984]\n",
      "Empty Dataframe, No asteroids in that proposal range [1985, 1989]\n",
      "Empty Dataframe, No asteroids in that proposal range [1990, 1994]\n",
      "Empty Dataframe, No asteroids in that proposal range [1995, 1999]\n",
      "Empty Dataframe, No asteroids in that proposal range [2000, 2000]\n",
      "Saving to MIRI/LVL2_Asteroids_1000_2000.csv\n",
      "CPU times: user 18min 45s, sys: 3min 19s, total: 22min 4s\n",
      "Wall time: 37min 30s\n"
     ]
    }
   ],
   "source": [
    "%%time\n",
    "\n",
    "# Constants and parameters\n",
    "username = \"nmartind\"\n",
    "password = \"Mr.Fantastic1999\"\n",
    "starting_proposal = 1000\n",
    "ending_proposal = 2000\n",
    "output_folder = \"MIRI\"\n",
    "input_csv = \"LVL3_Asteroids/Prop1000-2000/LVL3_Full.csv\"\n",
    "propStepSize = 5\n",
    "\n",
    "# List to hold CSV segments\n",
    "csv_lists = []\n",
    "\n",
    "current = starting_proposal\n",
    "\n",
    "while current <= ending_proposal:\n",
    "    segment_end = min(current+propStepSize-1,ending_proposal)\n",
    "    \n",
    "    csv_segment = main(input_csv, output_folder, [int(current), int(segment_end)], username, password)\n",
    "\n",
    "    \n",
    "    if csv_segment is not None and not csv_segment.empty:\n",
    "        csvName = f'{output_folder}/LVL2_Asteroids_Seg_{current}.csv'\n",
    "        csv_segment.to_csv(csvName, index=False)\n",
    "        csv_lists.append(csv_segment)\n",
    "        print('saved')\n",
    "        \n",
    "    current += propStepSize   \n",
    "    \n",
    "if len(csv_lists) > 0:\n",
    "    combined_csv = pd.concat(csv_lists, ignore_index=True)\n",
    "\n",
    "    csvName = f'{output_folder}/LVL2_Asteroids_{starting_proposal}_{ending_proposal}.csv'\n",
    "    combined_csv.to_csv(csvName, index=False)\n",
    "\n",
    "    print(f'Saving to {csvName}')\n",
    "    \n",
    "else:\n",
    "    print('No data in that range')"
   ]
  },
  {
   "cell_type": "code",
   "execution_count": 25,
   "id": "21d69e2c-d985-461f-a102-7a03841c5d29",
   "metadata": {
    "tags": []
   },
   "outputs": [
    {
     "name": "stdout",
     "output_type": "stream",
     "text": [
      "Empty Dataframe, No asteroids in that proposal range [2000, 2004]\n",
      "Empty Dataframe, No asteroids in that proposal range [2005, 2009]\n",
      "Empty Dataframe, No asteroids in that proposal range [2010, 2014]\n",
      "From proposals [2016] found 3 Observations containing asteroids\n"
     ]
    },
    {
     "data": {
      "application/vnd.jupyter.widget-view+json": {
       "model_id": "2fce336b11e247a4b11fd42c4282f78f",
       "version_major": 2,
       "version_minor": 0
      },
      "text/plain": [
       "  0%|          | 0/12 [00:00<?, ?it/s]"
      ]
     },
     "metadata": {},
     "output_type": "display_data"
    },
    {
     "name": "stdout",
     "output_type": "stream",
     "text": [
      "saved\n",
      "Empty Dataframe, No asteroids in that proposal range [2020, 2024]\n",
      "From proposals [2025] found 1 Observations containing asteroids\n"
     ]
    },
    {
     "data": {
      "application/vnd.jupyter.widget-view+json": {
       "model_id": "76bd3cf1456b487388f24697b27e4821",
       "version_major": 2,
       "version_minor": 0
      },
      "text/plain": [
       "  0%|          | 0/12 [00:00<?, ?it/s]"
      ]
     },
     "metadata": {},
     "output_type": "display_data"
    },
    {
     "name": "stdout",
     "output_type": "stream",
     "text": [
      "saved\n",
      "Empty Dataframe, No asteroids in that proposal range [2030, 2034]\n",
      "Empty Dataframe, No asteroids in that proposal range [2035, 2039]\n",
      "Empty Dataframe, No asteroids in that proposal range [2040, 2044]\n",
      "From proposals [2046] found 8 Observations containing asteroids\n"
     ]
    },
    {
     "data": {
      "application/vnd.jupyter.widget-view+json": {
       "model_id": "2dff07c27a064692819cba02ccf2e2d6",
       "version_major": 2,
       "version_minor": 0
      },
      "text/plain": [
       "  0%|          | 0/24 [00:00<?, ?it/s]"
      ]
     },
     "metadata": {},
     "output_type": "display_data"
    },
    {
     "name": "stdout",
     "output_type": "stream",
     "text": [
      "saved\n",
      "Empty Dataframe, No asteroids in that proposal range [2050, 2054]\n",
      "Empty Dataframe, No asteroids in that proposal range [2055, 2059]\n",
      "Empty Dataframe, No asteroids in that proposal range [2060, 2064]\n",
      "Empty Dataframe, No asteroids in that proposal range [2065, 2069]\n",
      "Empty Dataframe, No asteroids in that proposal range [2070, 2074]\n",
      "Empty Dataframe, No asteroids in that proposal range [2075, 2079]\n",
      "Empty Dataframe, No asteroids in that proposal range [2080, 2084]\n",
      "Empty Dataframe, No asteroids in that proposal range [2085, 2089]\n",
      "Empty Dataframe, No asteroids in that proposal range [2090, 2094]\n",
      "Empty Dataframe, No asteroids in that proposal range [2095, 2099]\n",
      "Empty Dataframe, No asteroids in that proposal range [2100, 2104]\n",
      "From proposals [2107] found 33 Observations containing asteroids\n"
     ]
    },
    {
     "data": {
      "application/vnd.jupyter.widget-view+json": {
       "model_id": "224e3fee2a3c4cbc80d586aacd111d4e",
       "version_major": 2,
       "version_minor": 0
      },
      "text/plain": [
       "  0%|          | 0/480 [00:00<?, ?it/s]"
      ]
     },
     "metadata": {},
     "output_type": "display_data"
    },
    {
     "name": "stdout",
     "output_type": "stream",
     "text": [
      "saved\n",
      "Empty Dataframe, No asteroids in that proposal range [2110, 2114]\n",
      "Empty Dataframe, No asteroids in that proposal range [2115, 2119]\n",
      "Empty Dataframe, No asteroids in that proposal range [2120, 2124]\n",
      "Empty Dataframe, No asteroids in that proposal range [2125, 2129]\n",
      "Empty Dataframe, No asteroids in that proposal range [2130, 2134]\n",
      "Empty Dataframe, No asteroids in that proposal range [2135, 2139]\n",
      "Empty Dataframe, No asteroids in that proposal range [2140, 2144]\n",
      "Empty Dataframe, No asteroids in that proposal range [2145, 2149]\n",
      "Empty Dataframe, No asteroids in that proposal range [2150, 2154]\n",
      "Empty Dataframe, No asteroids in that proposal range [2155, 2159]\n",
      "Empty Dataframe, No asteroids in that proposal range [2160, 2164]\n",
      "Empty Dataframe, No asteroids in that proposal range [2165, 2169]\n",
      "Empty Dataframe, No asteroids in that proposal range [2170, 2174]\n",
      "Empty Dataframe, No asteroids in that proposal range [2175, 2179]\n",
      "Empty Dataframe, No asteroids in that proposal range [2180, 2184]\n",
      "Empty Dataframe, No asteroids in that proposal range [2185, 2189]\n",
      "Empty Dataframe, No asteroids in that proposal range [2190, 2194]\n",
      "Empty Dataframe, No asteroids in that proposal range [2195, 2199]\n",
      "Empty Dataframe, No asteroids in that proposal range [2200, 2204]\n",
      "Empty Dataframe, No asteroids in that proposal range [2205, 2209]\n",
      "Empty Dataframe, No asteroids in that proposal range [2210, 2214]\n",
      "Empty Dataframe, No asteroids in that proposal range [2215, 2219]\n",
      "From proposals [2221] found 2 Observations containing asteroids\n"
     ]
    },
    {
     "data": {
      "application/vnd.jupyter.widget-view+json": {
       "model_id": "a5fd3d8b9c1c430787b6257935e30ebc",
       "version_major": 2,
       "version_minor": 0
      },
      "text/plain": [
       "  0%|          | 0/120 [00:00<?, ?it/s]"
      ]
     },
     "metadata": {},
     "output_type": "display_data"
    },
    {
     "name": "stdout",
     "output_type": "stream",
     "text": [
      "saved\n",
      "Empty Dataframe, No asteroids in that proposal range [2225, 2229]\n",
      "Empty Dataframe, No asteroids in that proposal range [2230, 2234]\n",
      "Empty Dataframe, No asteroids in that proposal range [2235, 2239]\n",
      "Empty Dataframe, No asteroids in that proposal range [2240, 2244]\n",
      "Empty Dataframe, No asteroids in that proposal range [2245, 2249]\n",
      "Empty Dataframe, No asteroids in that proposal range [2250, 2254]\n",
      "Empty Dataframe, No asteroids in that proposal range [2255, 2259]\n",
      "Empty Dataframe, No asteroids in that proposal range [2260, 2264]\n",
      "Empty Dataframe, No asteroids in that proposal range [2265, 2269]\n",
      "Empty Dataframe, No asteroids in that proposal range [2270, 2274]\n",
      "Empty Dataframe, No asteroids in that proposal range [2275, 2279]\n",
      "Empty Dataframe, No asteroids in that proposal range [2280, 2284]\n",
      "Empty Dataframe, No asteroids in that proposal range [2285, 2289]\n",
      "Empty Dataframe, No asteroids in that proposal range [2290, 2294]\n",
      "Empty Dataframe, No asteroids in that proposal range [2295, 2299]\n",
      "From proposals [2302] found 4 Observations containing asteroids\n"
     ]
    },
    {
     "data": {
      "application/vnd.jupyter.widget-view+json": {
       "model_id": "f5f67d8b9db24b3c93ea620a455088b0",
       "version_major": 2,
       "version_minor": 0
      },
      "text/plain": [
       "  0%|          | 0/16 [00:00<?, ?it/s]"
      ]
     },
     "metadata": {},
     "output_type": "display_data"
    },
    {
     "name": "stdout",
     "output_type": "stream",
     "text": [
      "saved\n",
      "Empty Dataframe, No asteroids in that proposal range [2305, 2309]\n",
      "Empty Dataframe, No asteroids in that proposal range [2310, 2314]\n",
      "Empty Dataframe, No asteroids in that proposal range [2315, 2319]\n",
      "Empty Dataframe, No asteroids in that proposal range [2320, 2324]\n",
      "Empty Dataframe, No asteroids in that proposal range [2325, 2329]\n",
      "Empty Dataframe, No asteroids in that proposal range [2330, 2334]\n",
      "Empty Dataframe, No asteroids in that proposal range [2335, 2339]\n",
      "Empty Dataframe, No asteroids in that proposal range [2340, 2344]\n",
      "Empty Dataframe, No asteroids in that proposal range [2345, 2349]\n",
      "Empty Dataframe, No asteroids in that proposal range [2350, 2354]\n",
      "Empty Dataframe, No asteroids in that proposal range [2355, 2359]\n",
      "Empty Dataframe, No asteroids in that proposal range [2360, 2364]\n",
      "Empty Dataframe, No asteroids in that proposal range [2365, 2369]\n",
      "Empty Dataframe, No asteroids in that proposal range [2370, 2374]\n",
      "Empty Dataframe, No asteroids in that proposal range [2375, 2379]\n",
      "Empty Dataframe, No asteroids in that proposal range [2380, 2384]\n",
      "Empty Dataframe, No asteroids in that proposal range [2385, 2389]\n",
      "Empty Dataframe, No asteroids in that proposal range [2390, 2394]\n",
      "Empty Dataframe, No asteroids in that proposal range [2395, 2399]\n",
      "Empty Dataframe, No asteroids in that proposal range [2400, 2404]\n",
      "Empty Dataframe, No asteroids in that proposal range [2405, 2409]\n",
      "Empty Dataframe, No asteroids in that proposal range [2410, 2414]\n",
      "Empty Dataframe, No asteroids in that proposal range [2415, 2419]\n",
      "Empty Dataframe, No asteroids in that proposal range [2420, 2424]\n",
      "Empty Dataframe, No asteroids in that proposal range [2425, 2429]\n",
      "Empty Dataframe, No asteroids in that proposal range [2430, 2434]\n",
      "Empty Dataframe, No asteroids in that proposal range [2435, 2439]\n",
      "Empty Dataframe, No asteroids in that proposal range [2440, 2444]\n",
      "Empty Dataframe, No asteroids in that proposal range [2445, 2449]\n",
      "Empty Dataframe, No asteroids in that proposal range [2450, 2454]\n",
      "From proposals [2459] found 3 Observations containing asteroids\n"
     ]
    },
    {
     "data": {
      "application/vnd.jupyter.widget-view+json": {
       "model_id": "fb10d4156664414ebc1c1bbc80b45c46",
       "version_major": 2,
       "version_minor": 0
      },
      "text/plain": [
       "  0%|          | 0/13 [00:00<?, ?it/s]"
      ]
     },
     "metadata": {},
     "output_type": "display_data"
    },
    {
     "name": "stdout",
     "output_type": "stream",
     "text": [
      "ERROR: Image Data from /data/user/jwst_jw02/jw02459/jw02459008001_02101_00001_mirimage_i2d.fits.gz Not Found\n",
      "saved\n",
      "Empty Dataframe, No asteroids in that proposal range [2460, 2464]\n",
      "Empty Dataframe, No asteroids in that proposal range [2465, 2469]\n",
      "Empty Dataframe, No asteroids in that proposal range [2470, 2474]\n",
      "Empty Dataframe, No asteroids in that proposal range [2475, 2479]\n",
      "Empty Dataframe, No asteroids in that proposal range [2480, 2484]\n",
      "Empty Dataframe, No asteroids in that proposal range [2485, 2489]\n",
      "Empty Dataframe, No asteroids in that proposal range [2490, 2494]\n",
      "Empty Dataframe, No asteroids in that proposal range [2495, 2499]\n",
      "Empty Dataframe, No asteroids in that proposal range [2500, 2504]\n",
      "Empty Dataframe, No asteroids in that proposal range [2505, 2509]\n",
      "Empty Dataframe, No asteroids in that proposal range [2510, 2514]\n",
      "Empty Dataframe, No asteroids in that proposal range [2515, 2519]\n",
      "Empty Dataframe, No asteroids in that proposal range [2520, 2524]\n",
      "From proposals [2526] found 2 Observations containing asteroids\n"
     ]
    },
    {
     "data": {
      "application/vnd.jupyter.widget-view+json": {
       "model_id": "85222fbe446e48ef83e05c7be23f8078",
       "version_major": 2,
       "version_minor": 0
      },
      "text/plain": [
       "  0%|          | 0/8 [00:00<?, ?it/s]"
      ]
     },
     "metadata": {},
     "output_type": "display_data"
    },
    {
     "name": "stdout",
     "output_type": "stream",
     "text": [
      "ERROR: Image Data from /data/user/jwst_jw02/jw02526/jw02526021001_02101_00004_mirimage_i2d.fits.gz Not Found\n",
      "ERROR: Image Data from /data/user/jwst_jw02/jw02526/jw02526021001_02101_00001_mirimage_i2d.fits.gz Not Found\n",
      "ERROR: Image Data from /data/user/jwst_jw02/jw02526/jw02526021001_02101_00002_mirimage_i2d.fits.gz Not Found\n",
      "saved\n",
      "Empty Dataframe, No asteroids in that proposal range [2530, 2534]\n",
      "Empty Dataframe, No asteroids in that proposal range [2535, 2539]\n",
      "Empty Dataframe, No asteroids in that proposal range [2540, 2544]\n",
      "Empty Dataframe, No asteroids in that proposal range [2545, 2549]\n",
      "Empty Dataframe, No asteroids in that proposal range [2550, 2554]\n",
      "Empty Dataframe, No asteroids in that proposal range [2555, 2559]\n",
      "From proposals [2562] found 3 Observations containing asteroids\n"
     ]
    },
    {
     "data": {
      "application/vnd.jupyter.widget-view+json": {
       "model_id": "ca915f73420c416ea754279f6970bc34",
       "version_major": 2,
       "version_minor": 0
      },
      "text/plain": [
       "  0%|          | 0/12 [00:00<?, ?it/s]"
      ]
     },
     "metadata": {},
     "output_type": "display_data"
    },
    {
     "name": "stdout",
     "output_type": "stream",
     "text": [
      "saved\n",
      "Empty Dataframe, No asteroids in that proposal range [2565, 2569]\n",
      "Empty Dataframe, No asteroids in that proposal range [2570, 2574]\n",
      "Empty Dataframe, No asteroids in that proposal range [2575, 2579]\n",
      "Empty Dataframe, No asteroids in that proposal range [2580, 2584]\n",
      "Empty Dataframe, No asteroids in that proposal range [2585, 2589]\n",
      "Empty Dataframe, No asteroids in that proposal range [2590, 2594]\n",
      "Empty Dataframe, No asteroids in that proposal range [2595, 2599]\n",
      "Empty Dataframe, No asteroids in that proposal range [2600, 2604]\n",
      "Empty Dataframe, No asteroids in that proposal range [2605, 2609]\n",
      "Empty Dataframe, No asteroids in that proposal range [2610, 2614]\n",
      "Empty Dataframe, No asteroids in that proposal range [2615, 2619]\n",
      "Empty Dataframe, No asteroids in that proposal range [2620, 2624]\n",
      "Empty Dataframe, No asteroids in that proposal range [2625, 2629]\n",
      "Empty Dataframe, No asteroids in that proposal range [2630, 2634]\n",
      "Empty Dataframe, No asteroids in that proposal range [2635, 2639]\n",
      "Empty Dataframe, No asteroids in that proposal range [2640, 2644]\n",
      "Empty Dataframe, No asteroids in that proposal range [2645, 2649]\n",
      "Empty Dataframe, No asteroids in that proposal range [2650, 2654]\n",
      "Empty Dataframe, No asteroids in that proposal range [2655, 2659]\n",
      "Empty Dataframe, No asteroids in that proposal range [2660, 2664]\n",
      "Empty Dataframe, No asteroids in that proposal range [2665, 2669]\n",
      "Empty Dataframe, No asteroids in that proposal range [2670, 2674]\n",
      "Empty Dataframe, No asteroids in that proposal range [2675, 2679]\n",
      "Empty Dataframe, No asteroids in that proposal range [2680, 2684]\n",
      "Empty Dataframe, No asteroids in that proposal range [2685, 2689]\n",
      "Empty Dataframe, No asteroids in that proposal range [2690, 2694]\n",
      "Empty Dataframe, No asteroids in that proposal range [2695, 2699]\n",
      "Empty Dataframe, No asteroids in that proposal range [2700, 2704]\n",
      "Empty Dataframe, No asteroids in that proposal range [2705, 2709]\n",
      "Empty Dataframe, No asteroids in that proposal range [2710, 2714]\n",
      "Empty Dataframe, No asteroids in that proposal range [2715, 2719]\n",
      "Empty Dataframe, No asteroids in that proposal range [2720, 2724]\n",
      "Empty Dataframe, No asteroids in that proposal range [2725, 2729]\n",
      "Empty Dataframe, No asteroids in that proposal range [2730, 2734]\n",
      "From proposals [2739] found 3 Observations containing asteroids\n"
     ]
    },
    {
     "data": {
      "application/vnd.jupyter.widget-view+json": {
       "model_id": "5a13d4ce2b7f4be5a75f4ff29c33d7f8",
       "version_major": 2,
       "version_minor": 0
      },
      "text/plain": [
       "  0%|          | 0/48 [00:00<?, ?it/s]"
      ]
     },
     "metadata": {},
     "output_type": "display_data"
    },
    {
     "name": "stdout",
     "output_type": "stream",
     "text": [
      "saved\n",
      "Empty Dataframe, No asteroids in that proposal range [2740, 2744]\n",
      "Empty Dataframe, No asteroids in that proposal range [2745, 2749]\n",
      "Empty Dataframe, No asteroids in that proposal range [2750, 2754]\n",
      "Empty Dataframe, No asteroids in that proposal range [2755, 2759]\n",
      "Empty Dataframe, No asteroids in that proposal range [2760, 2764]\n",
      "Empty Dataframe, No asteroids in that proposal range [2765, 2769]\n",
      "Empty Dataframe, No asteroids in that proposal range [2770, 2774]\n",
      "Empty Dataframe, No asteroids in that proposal range [2775, 2779]\n",
      "Empty Dataframe, No asteroids in that proposal range [2780, 2784]\n",
      "Empty Dataframe, No asteroids in that proposal range [2785, 2789]\n",
      "Empty Dataframe, No asteroids in that proposal range [2790, 2794]\n",
      "Empty Dataframe, No asteroids in that proposal range [2795, 2799]\n",
      "Empty Dataframe, No asteroids in that proposal range [2800, 2804]\n",
      "Empty Dataframe, No asteroids in that proposal range [2805, 2809]\n",
      "Empty Dataframe, No asteroids in that proposal range [2810, 2814]\n",
      "Empty Dataframe, No asteroids in that proposal range [2815, 2819]\n",
      "From proposals [2820] found 8 Observations containing asteroids\n"
     ]
    },
    {
     "data": {
      "application/vnd.jupyter.widget-view+json": {
       "model_id": "d8ad9e542089471789cc063f9518edea",
       "version_major": 2,
       "version_minor": 0
      },
      "text/plain": [
       "  0%|          | 0/35 [00:00<?, ?it/s]"
      ]
     },
     "metadata": {},
     "output_type": "display_data"
    },
    {
     "name": "stdout",
     "output_type": "stream",
     "text": [
      "ERROR: Image Data from /data/user/jwst_jw02/jw02820/jw02820013001_02101_00001_mirimage_i2d.fits.gz Not Found\n",
      "ERROR: Image Data from /data/user/jwst_jw02/jw02820/jw02820013001_02101_00001_mirimage_i2d.fits.gz Not Found\n",
      "ERROR: Image Data from /data/user/jwst_jw02/jw02820/jw02820029001_03102_00001_mirimage_i2d.fits.gz Not Found\n",
      "ERROR: Image Data from /data/user/jwst_jw02/jw02820/jw02820023001_02101_00001_mirimage_i2d.fits.gz Not Found\n",
      "ERROR: Image Data from /data/user/jwst_jw02/jw02820/jw02820029001_03103_00001_mirimage_i2d.fits.gz Not Found\n",
      "ERROR: Image Data from /data/user/jwst_jw02/jw02820/jw02820029001_03101_00001_mirimage_i2d.fits.gz Not Found\n",
      "saved\n",
      "Empty Dataframe, No asteroids in that proposal range [2825, 2829]\n",
      "Empty Dataframe, No asteroids in that proposal range [2830, 2834]\n",
      "Empty Dataframe, No asteroids in that proposal range [2835, 2839]\n",
      "Empty Dataframe, No asteroids in that proposal range [2840, 2844]\n",
      "Empty Dataframe, No asteroids in that proposal range [2845, 2849]\n",
      "Empty Dataframe, No asteroids in that proposal range [2850, 2854]\n",
      "Empty Dataframe, No asteroids in that proposal range [2855, 2859]\n",
      "Empty Dataframe, No asteroids in that proposal range [2860, 2864]\n",
      "Empty Dataframe, No asteroids in that proposal range [2865, 2869]\n",
      "Empty Dataframe, No asteroids in that proposal range [2870, 2874]\n",
      "Empty Dataframe, No asteroids in that proposal range [2875, 2879]\n",
      "Empty Dataframe, No asteroids in that proposal range [2880, 2884]\n",
      "Empty Dataframe, No asteroids in that proposal range [2885, 2889]\n",
      "Empty Dataframe, No asteroids in that proposal range [2890, 2894]\n",
      "Empty Dataframe, No asteroids in that proposal range [2895, 2899]\n",
      "Empty Dataframe, No asteroids in that proposal range [2900, 2904]\n",
      "Empty Dataframe, No asteroids in that proposal range [2905, 2909]\n",
      "Empty Dataframe, No asteroids in that proposal range [2910, 2914]\n",
      "Empty Dataframe, No asteroids in that proposal range [2915, 2919]\n",
      "Empty Dataframe, No asteroids in that proposal range [2920, 2924]\n",
      "Empty Dataframe, No asteroids in that proposal range [2925, 2929]\n",
      "Empty Dataframe, No asteroids in that proposal range [2930, 2934]\n",
      "Empty Dataframe, No asteroids in that proposal range [2935, 2939]\n",
      "Empty Dataframe, No asteroids in that proposal range [2940, 2944]\n",
      "Empty Dataframe, No asteroids in that proposal range [2945, 2949]\n",
      "Empty Dataframe, No asteroids in that proposal range [2950, 2954]\n",
      "Empty Dataframe, No asteroids in that proposal range [2955, 2959]\n",
      "Empty Dataframe, No asteroids in that proposal range [2960, 2964]\n",
      "Empty Dataframe, No asteroids in that proposal range [2965, 2969]\n",
      "From proposals [2970] found 6 Observations containing asteroids\n"
     ]
    },
    {
     "data": {
      "application/vnd.jupyter.widget-view+json": {
       "model_id": "4edab284b8134dcfa41fc5bca6af817a",
       "version_major": 2,
       "version_minor": 0
      },
      "text/plain": [
       "  0%|          | 0/26 [00:00<?, ?it/s]"
      ]
     },
     "metadata": {},
     "output_type": "display_data"
    },
    {
     "name": "stdout",
     "output_type": "stream",
     "text": [
      "ERROR: Image Data from /data/user/jwst_jw02/jw02970/jw02970013001_03106_00001_mirimage_i2d.fits.gz Not Found\n",
      "ERROR: Image Data from /data/user/jwst_jw02/jw02970/jw02970013001_03102_00001_mirimage_i2d.fits.gz Not Found\n",
      "ERROR: Image Data from /data/user/jwst_jw02/jw02970/jw02970013001_03104_00001_mirimage_i2d.fits.gz Not Found\n",
      "ERROR: Image Data from /data/user/jwst_jw02/jw02970/jw02970013001_03102_00002_mirimage_i2d.fits.gz Not Found\n",
      "ERROR: Image Data from /data/user/jwst_jw02/jw02970/jw02970011001_05101_00002_mirimage_i2d.fits.gz Not Found\n",
      "ERROR: Image Data from /data/user/jwst_jw02/jw02970/jw02970011001_09101_00001_mirimage_i2d.fits.gz Not Found\n",
      "ERROR: Image Data from /data/user/jwst_jw02/jw02970/jw02970011001_07101_00004_mirimage_i2d.fits.gz Not Found\n",
      "ERROR: Image Data from /data/user/jwst_jw02/jw02970/jw02970011001_07101_00003_mirimage_i2d.fits.gz Not Found\n",
      "ERROR: Image Data from /data/user/jwst_jw02/jw02970/jw02970013001_03104_00004_mirimage_i2d.fits.gz Not Found\n",
      "ERROR: Image Data from /data/user/jwst_jw02/jw02970/jw02970013001_03104_00002_mirimage_i2d.fits.gz Not Found\n",
      "ERROR: Image Data from /data/user/jwst_jw02/jw02970/jw02970013001_03106_00002_mirimage_i2d.fits.gz Not Found\n",
      "ERROR: Image Data from /data/user/jwst_jw02/jw02970/jw02970011001_09101_00003_mirimage_i2d.fits.gz Not Found\n",
      "ERROR: Image Data from /data/user/jwst_jw02/jw02970/jw02970013001_03102_00003_mirimage_i2d.fits.gz Not Found\n",
      "ERROR: Image Data from /data/user/jwst_jw02/jw02970/jw02970013001_03106_00003_mirimage_i2d.fits.gz Not Found\n",
      "ERROR: Image Data from /data/user/jwst_jw02/jw02970/jw02970011001_05101_00001_mirimage_i2d.fits.gz Not Found\n",
      "ERROR: Image Data from /data/user/jwst_jw02/jw02970/jw02970011001_02101_00001_mirimage_i2d.fits.gz Not Found\n",
      "ERROR: Image Data from /data/user/jwst_jw02/jw02970/jw02970013001_02101_00001_mirimage_i2d.fits.gz Not Found\n",
      "ERROR: Image Data from /data/user/jwst_jw02/jw02970/jw02970011001_07101_00002_mirimage_i2d.fits.gz Not Found\n",
      "ERROR: Image Data from /data/user/jwst_jw02/jw02970/jw02970013001_03106_00004_mirimage_i2d.fits.gz Not Found\n",
      "ERROR: Image Data from /data/user/jwst_jw02/jw02970/jw02970013001_03104_00003_mirimage_i2d.fits.gz Not Found\n",
      "ERROR: Image Data from /data/user/jwst_jw02/jw02970/jw02970013001_03102_00004_mirimage_i2d.fits.gz Not Found\n",
      "ERROR: Image Data from /data/user/jwst_jw02/jw02970/jw02970011001_05101_00004_mirimage_i2d.fits.gz Not Found\n",
      "ERROR: Image Data from /data/user/jwst_jw02/jw02970/jw02970011001_07101_00001_mirimage_i2d.fits.gz Not Found\n",
      "ERROR: Image Data from /data/user/jwst_jw02/jw02970/jw02970011001_09101_00004_mirimage_i2d.fits.gz Not Found\n",
      "ERROR: Image Data from /data/user/jwst_jw02/jw02970/jw02970011001_05101_00003_mirimage_i2d.fits.gz Not Found\n",
      "ERROR: Image Data from /data/user/jwst_jw02/jw02970/jw02970011001_09101_00002_mirimage_i2d.fits.gz Not Found\n",
      "saved\n",
      "Empty Dataframe, No asteroids in that proposal range [2975, 2979]\n",
      "Empty Dataframe, No asteroids in that proposal range [2980, 2984]\n",
      "From proposals [2987] found 2 Observations containing asteroids\n"
     ]
    },
    {
     "data": {
      "application/vnd.jupyter.widget-view+json": {
       "model_id": "c0b02e5ef21f4b6e8fdfc7ad174d3b1e",
       "version_major": 2,
       "version_minor": 0
      },
      "text/plain": [
       "  0%|          | 0/256 [00:00<?, ?it/s]"
      ]
     },
     "metadata": {},
     "output_type": "display_data"
    },
    {
     "name": "stdout",
     "output_type": "stream",
     "text": [
      "saved\n",
      "Empty Dataframe, No asteroids in that proposal range [2990, 2994]\n",
      "Empty Dataframe, No asteroids in that proposal range [2995, 2999]\n",
      "Empty Dataframe, No asteroids in that proposal range [3000, 3000]\n",
      "Saving to MIRI/LVL2_Asteroids_2000_3000.csv\n",
      "CPU times: user 6min 41s, sys: 1min 29s, total: 8min 11s\n",
      "Wall time: 12min 36s\n"
     ]
    }
   ],
   "source": [
    "%%time\n",
    "\n",
    "# Constants and parameters\n",
    "username = \"nmartind\"\n",
    "password = \"Mr.Fantastic1999\"\n",
    "starting_proposal = 2000\n",
    "ending_proposal = 3000\n",
    "output_folder = \"MIRI\"\n",
    "input_csv = \"LVL3_Asteroids/Prop2000-3000/LVL3_Full.csv\"\n",
    "propStepSize = 5\n",
    "\n",
    "# List to hold CSV segments\n",
    "csv_lists = []\n",
    "\n",
    "current = starting_proposal\n",
    "\n",
    "while current <= ending_proposal:\n",
    "    segment_end = min(current+propStepSize-1,ending_proposal)\n",
    "    \n",
    "    csv_segment = main(input_csv, output_folder, [int(current), int(segment_end)], username, password)\n",
    "\n",
    "    \n",
    "    if csv_segment is not None and not csv_segment.empty:\n",
    "        csvName = f'{output_folder}/LVL2_Asteroids_Seg_{current}.csv'\n",
    "        csv_segment.to_csv(csvName, index=False)\n",
    "        csv_lists.append(csv_segment)\n",
    "        print('saved')\n",
    "        \n",
    "    current += propStepSize   \n",
    "    \n",
    "if len(csv_lists) > 0:\n",
    "    combined_csv = pd.concat(csv_lists, ignore_index=True)\n",
    "\n",
    "    csvName = f'{output_folder}/LVL2_Asteroids_{starting_proposal}_{ending_proposal}.csv'\n",
    "    combined_csv.to_csv(csvName, index=False)\n",
    "\n",
    "    print(f'Saving to {csvName}')\n",
    "    \n",
    "else:\n",
    "    print('No data in that range')"
   ]
  },
  {
   "cell_type": "code",
   "execution_count": 26,
   "id": "2842dcac-a020-4931-bba4-3a29f8b96aa8",
   "metadata": {},
   "outputs": [
    {
     "name": "stdout",
     "output_type": "stream",
     "text": [
      "Empty Dataframe, No asteroids in that proposal range [3000, 3004]\n",
      "Empty Dataframe, No asteroids in that proposal range [3005, 3009]\n",
      "Empty Dataframe, No asteroids in that proposal range [3010, 3014]\n",
      "Empty Dataframe, No asteroids in that proposal range [3015, 3019]\n",
      "Empty Dataframe, No asteroids in that proposal range [3020, 3024]\n",
      "Empty Dataframe, No asteroids in that proposal range [3025, 3029]\n",
      "From proposals [3034] found 4 Observations containing asteroids\n"
     ]
    },
    {
     "data": {
      "application/vnd.jupyter.widget-view+json": {
       "model_id": "7d6f8a9ee0c84f418e781ce59a21f72e",
       "version_major": 2,
       "version_minor": 0
      },
      "text/plain": [
       "  0%|          | 0/52 [00:00<?, ?it/s]"
      ]
     },
     "metadata": {},
     "output_type": "display_data"
    },
    {
     "name": "stdout",
     "output_type": "stream",
     "text": [
      "ERROR: Image Data from /data/user/jwst_jw03/jw03034/jw03034023001_03102_00003_mirimage_i2d.fits.gz Not Found\n",
      "ERROR: Image Data from /data/user/jwst_jw03/jw03034/jw03034020001_03104_00003_mirimage_i2d.fits.gz Not Found\n",
      "ERROR: Image Data from /data/user/jwst_jw03/jw03034/jw03034002001_03106_00003_mirimage_i2d.fits.gz Not Found\n",
      "ERROR: Image Data from /data/user/jwst_jw03/jw03034/jw03034020001_03104_00002_mirimage_i2d.fits.gz Not Found\n",
      "ERROR: Image Data from /data/user/jwst_jw03/jw03034/jw03034020001_03102_00001_mirimage_i2d.fits.gz Not Found\n",
      "ERROR: Image Data from /data/user/jwst_jw03/jw03034/jw03034020001_03104_00004_mirimage_i2d.fits.gz Not Found\n",
      "ERROR: Image Data from /data/user/jwst_jw03/jw03034/jw03034020001_03102_00003_mirimage_i2d.fits.gz Not Found\n",
      "ERROR: Image Data from /data/user/jwst_jw03/jw03034/jw03034002001_03104_00003_mirimage_i2d.fits.gz Not Found\n",
      "ERROR: Image Data from /data/user/jwst_jw03/jw03034/jw03034020001_03102_00004_mirimage_i2d.fits.gz Not Found\n",
      "ERROR: Image Data from /data/user/jwst_jw03/jw03034/jw03034002001_03106_00001_mirimage_i2d.fits.gz Not Found\n",
      "ERROR: Image Data from /data/user/jwst_jw03/jw03034/jw03034020001_03102_00002_mirimage_i2d.fits.gz Not Found\n",
      "ERROR: Image Data from /data/user/jwst_jw03/jw03034/jw03034023001_03102_00002_mirimage_i2d.fits.gz Not Found\n",
      "ERROR: Image Data from /data/user/jwst_jw03/jw03034/jw03034020001_02101_00001_mirimage_i2d.fits.gz Not Found\n",
      "ERROR: Image Data from /data/user/jwst_jw03/jw03034/jw03034023001_03102_00001_mirimage_i2d.fits.gz Not Found\n",
      "ERROR: Image Data from /data/user/jwst_jw03/jw03034/jw03034010001_09101_00004_mirimage_i2d.fits.gz Not Found\n",
      "ERROR: Image Data from /data/user/jwst_jw03/jw03034/jw03034020001_03106_00002_mirimage_i2d.fits.gz Not Found\n",
      "ERROR: Image Data from /data/user/jwst_jw03/jw03034/jw03034020001_03106_00003_mirimage_i2d.fits.gz Not Found\n",
      "ERROR: Image Data from /data/user/jwst_jw03/jw03034/jw03034002001_03106_00002_mirimage_i2d.fits.gz Not Found\n",
      "ERROR: Image Data from /data/user/jwst_jw03/jw03034/jw03034020001_03106_00001_mirimage_i2d.fits.gz Not Found\n",
      "ERROR: Image Data from /data/user/jwst_jw03/jw03034/jw03034002001_03106_00004_mirimage_i2d.fits.gz Not Found\n",
      "ERROR: Image Data from /data/user/jwst_jw03/jw03034/jw03034010001_02101_00001_mirimage_i2d.fits.gz Not Found\n",
      "ERROR: Image Data from /data/user/jwst_jw03/jw03034/jw03034020001_03106_00004_mirimage_i2d.fits.gz Not Found\n",
      "ERROR: Image Data from /data/user/jwst_jw03/jw03034/jw03034020001_03104_00001_mirimage_i2d.fits.gz Not Found\n",
      "saved\n",
      "Empty Dataframe, No asteroids in that proposal range [3035, 3039]\n",
      "Empty Dataframe, No asteroids in that proposal range [3040, 3044]\n",
      "Empty Dataframe, No asteroids in that proposal range [3045, 3049]\n",
      "Empty Dataframe, No asteroids in that proposal range [3050, 3054]\n",
      "Empty Dataframe, No asteroids in that proposal range [3055, 3059]\n",
      "Empty Dataframe, No asteroids in that proposal range [3060, 3064]\n",
      "Empty Dataframe, No asteroids in that proposal range [3065, 3069]\n",
      "Empty Dataframe, No asteroids in that proposal range [3070, 3074]\n",
      "Empty Dataframe, No asteroids in that proposal range [3075, 3079]\n",
      "Empty Dataframe, No asteroids in that proposal range [3080, 3084]\n",
      "Empty Dataframe, No asteroids in that proposal range [3085, 3089]\n",
      "Empty Dataframe, No asteroids in that proposal range [3090, 3094]\n",
      "Empty Dataframe, No asteroids in that proposal range [3095, 3099]\n",
      "Empty Dataframe, No asteroids in that proposal range [3100, 3104]\n",
      "Empty Dataframe, No asteroids in that proposal range [3105, 3109]\n",
      "Empty Dataframe, No asteroids in that proposal range [3110, 3114]\n",
      "Empty Dataframe, No asteroids in that proposal range [3115, 3119]\n",
      "Empty Dataframe, No asteroids in that proposal range [3120, 3124]\n",
      "Empty Dataframe, No asteroids in that proposal range [3125, 3129]\n",
      "Empty Dataframe, No asteroids in that proposal range [3130, 3134]\n",
      "Empty Dataframe, No asteroids in that proposal range [3135, 3139]\n",
      "Empty Dataframe, No asteroids in that proposal range [3140, 3144]\n",
      "Empty Dataframe, No asteroids in that proposal range [3145, 3149]\n",
      "Empty Dataframe, No asteroids in that proposal range [3150, 3154]\n",
      "Empty Dataframe, No asteroids in that proposal range [3155, 3159]\n",
      "Empty Dataframe, No asteroids in that proposal range [3160, 3164]\n",
      "Empty Dataframe, No asteroids in that proposal range [3165, 3169]\n",
      "Empty Dataframe, No asteroids in that proposal range [3170, 3174]\n",
      "Empty Dataframe, No asteroids in that proposal range [3175, 3179]\n",
      "Empty Dataframe, No asteroids in that proposal range [3180, 3184]\n",
      "Empty Dataframe, No asteroids in that proposal range [3185, 3189]\n",
      "Empty Dataframe, No asteroids in that proposal range [3190, 3194]\n",
      "Empty Dataframe, No asteroids in that proposal range [3195, 3199]\n",
      "Empty Dataframe, No asteroids in that proposal range [3200, 3204]\n",
      "Empty Dataframe, No asteroids in that proposal range [3205, 3209]\n",
      "Empty Dataframe, No asteroids in that proposal range [3210, 3214]\n",
      "Empty Dataframe, No asteroids in that proposal range [3215, 3219]\n",
      "Empty Dataframe, No asteroids in that proposal range [3220, 3224]\n",
      "From proposals [3228] found 4 Observations containing asteroids\n"
     ]
    },
    {
     "data": {
      "application/vnd.jupyter.widget-view+json": {
       "model_id": "8ef9559cdaa04ba89d93b1880d75c8dd",
       "version_major": 2,
       "version_minor": 0
      },
      "text/plain": [
       "  0%|          | 0/52 [00:00<?, ?it/s]"
      ]
     },
     "metadata": {},
     "output_type": "display_data"
    },
    {
     "name": "stdout",
     "output_type": "stream",
     "text": [
      "ERROR: Image Data from /data/user/jwst_jw03/jw03228/jw03228113001_08101_00002_mirimage_i2d.fits.gz Not Found\n",
      "ERROR: Image Data from /data/user/jwst_jw03/jw03228/jw03228003001_03104_00001_mirimage_i2d.fits.gz Not Found\n",
      "ERROR: Image Data from /data/user/jwst_jw03/jw03228/jw03228003001_03102_00001_mirimage_i2d.fits.gz Not Found\n",
      "ERROR: Image Data from /data/user/jwst_jw03/jw03228/jw03228113001_08101_00004_mirimage_i2d.fits.gz Not Found\n",
      "ERROR: Image Data from /data/user/jwst_jw03/jw03228/jw03228003001_03102_00003_mirimage_i2d.fits.gz Not Found\n",
      "ERROR: Image Data from /data/user/jwst_jw03/jw03228/jw03228004001_03104_00002_mirimage_i2d.fits.gz Not Found\n",
      "ERROR: Image Data from /data/user/jwst_jw03/jw03228/jw03228121001_06101_00003_mirimage_i2d.fits.gz Not Found\n",
      "ERROR: Image Data from /data/user/jwst_jw03/jw03228/jw03228121001_06101_00004_mirimage_i2d.fits.gz Not Found\n",
      "ERROR: Image Data from /data/user/jwst_jw03/jw03228/jw03228004001_03106_00001_mirimage_i2d.fits.gz Not Found\n",
      "ERROR: Image Data from /data/user/jwst_jw03/jw03228/jw03228003001_02101_00001_mirimage_i2d.fits.gz Not Found\n",
      "ERROR: Image Data from /data/user/jwst_jw03/jw03228/jw03228113001_06101_00002_mirimage_i2d.fits.gz Not Found\n",
      "ERROR: Image Data from /data/user/jwst_jw03/jw03228/jw03228121001_08101_00004_mirimage_i2d.fits.gz Not Found\n",
      "ERROR: Image Data from /data/user/jwst_jw03/jw03228/jw03228004001_03104_00003_mirimage_i2d.fits.gz Not Found\n",
      "ERROR: Image Data from /data/user/jwst_jw03/jw03228/jw03228004001_03106_00002_mirimage_i2d.fits.gz Not Found\n",
      "ERROR: Image Data from /data/user/jwst_jw03/jw03228/jw03228121001_06101_00002_mirimage_i2d.fits.gz Not Found\n",
      "ERROR: Image Data from /data/user/jwst_jw03/jw03228/jw03228121001_06101_00001_mirimage_i2d.fits.gz Not Found\n",
      "ERROR: Image Data from /data/user/jwst_jw03/jw03228/jw03228004001_03104_00001_mirimage_i2d.fits.gz Not Found\n",
      "ERROR: Image Data from /data/user/jwst_jw03/jw03228/jw03228003001_03106_00003_mirimage_i2d.fits.gz Not Found\n",
      "ERROR: Image Data from /data/user/jwst_jw03/jw03228/jw03228003001_03106_00004_mirimage_i2d.fits.gz Not Found\n",
      "ERROR: Image Data from /data/user/jwst_jw03/jw03228/jw03228003001_03102_00004_mirimage_i2d.fits.gz Not Found\n",
      "ERROR: Image Data from /data/user/jwst_jw03/jw03228/jw03228003001_03106_00001_mirimage_i2d.fits.gz Not Found\n",
      "ERROR: Image Data from /data/user/jwst_jw03/jw03228/jw03228113001_08101_00003_mirimage_i2d.fits.gz Not Found\n",
      "ERROR: Image Data from /data/user/jwst_jw03/jw03228/jw03228004001_03102_00002_mirimage_i2d.fits.gz Not Found\n",
      "ERROR: Image Data from /data/user/jwst_jw03/jw03228/jw03228121001_08101_00003_mirimage_i2d.fits.gz Not Found\n",
      "ERROR: Image Data from /data/user/jwst_jw03/jw03228/jw03228121001_04101_00004_mirimage_i2d.fits.gz Not Found\n",
      "ERROR: Image Data from /data/user/jwst_jw03/jw03228/jw03228004001_03102_00003_mirimage_i2d.fits.gz Not Found\n",
      "ERROR: Image Data from /data/user/jwst_jw03/jw03228/jw03228003001_03102_00002_mirimage_i2d.fits.gz Not Found\n",
      "ERROR: Image Data from /data/user/jwst_jw03/jw03228/jw03228004001_03102_00004_mirimage_i2d.fits.gz Not Found\n",
      "ERROR: Image Data from /data/user/jwst_jw03/jw03228/jw03228004001_03106_00004_mirimage_i2d.fits.gz Not Found\n",
      "ERROR: Image Data from /data/user/jwst_jw03/jw03228/jw03228003001_03106_00002_mirimage_i2d.fits.gz Not Found\n",
      "ERROR: Image Data from /data/user/jwst_jw03/jw03228/jw03228004001_03104_00004_mirimage_i2d.fits.gz Not Found\n",
      "ERROR: Image Data from /data/user/jwst_jw03/jw03228/jw03228004001_03106_00003_mirimage_i2d.fits.gz Not Found\n",
      "ERROR: Image Data from /data/user/jwst_jw03/jw03228/jw03228003001_03104_00004_mirimage_i2d.fits.gz Not Found\n",
      "ERROR: Image Data from /data/user/jwst_jw03/jw03228/jw03228113001_06101_00001_mirimage_i2d.fits.gz Not Found\n",
      "ERROR: Image Data from /data/user/jwst_jw03/jw03228/jw03228003001_03104_00003_mirimage_i2d.fits.gz Not Found\n",
      "ERROR: Image Data from /data/user/jwst_jw03/jw03228/jw03228113001_06101_00003_mirimage_i2d.fits.gz Not Found\n",
      "ERROR: Image Data from /data/user/jwst_jw03/jw03228/jw03228121001_08101_00002_mirimage_i2d.fits.gz Not Found\n",
      "ERROR: Image Data from /data/user/jwst_jw03/jw03228/jw03228003001_03104_00002_mirimage_i2d.fits.gz Not Found\n",
      "ERROR: Image Data from /data/user/jwst_jw03/jw03228/jw03228004001_02101_00001_mirimage_i2d.fits.gz Not Found\n",
      "ERROR: Image Data from /data/user/jwst_jw03/jw03228/jw03228113001_08101_00001_mirimage_i2d.fits.gz Not Found\n",
      "ERROR: Image Data from /data/user/jwst_jw03/jw03228/jw03228121001_08101_00001_mirimage_i2d.fits.gz Not Found\n",
      "ERROR: Image Data from /data/user/jwst_jw03/jw03228/jw03228004001_03102_00001_mirimage_i2d.fits.gz Not Found\n",
      "ERROR: Image Data from /data/user/jwst_jw03/jw03228/jw03228113001_06101_00004_mirimage_i2d.fits.gz Not Found\n",
      "saved\n",
      "Empty Dataframe, No asteroids in that proposal range [3230, 3234]\n",
      "Empty Dataframe, No asteroids in that proposal range [3235, 3239]\n",
      "Empty Dataframe, No asteroids in that proposal range [3240, 3244]\n",
      "Empty Dataframe, No asteroids in that proposal range [3245, 3249]\n",
      "Empty Dataframe, No asteroids in that proposal range [3250, 3254]\n",
      "Empty Dataframe, No asteroids in that proposal range [3255, 3259]\n",
      "Empty Dataframe, No asteroids in that proposal range [3260, 3264]\n",
      "Empty Dataframe, No asteroids in that proposal range [3265, 3269]\n",
      "From proposals [3271] found 1 Observations containing asteroids\n"
     ]
    },
    {
     "data": {
      "application/vnd.jupyter.widget-view+json": {
       "model_id": "914258b3f972465c8ecac3a108dda408",
       "version_major": 2,
       "version_minor": 0
      },
      "text/plain": [
       "  0%|          | 0/4 [00:00<?, ?it/s]"
      ]
     },
     "metadata": {},
     "output_type": "display_data"
    },
    {
     "name": "stdout",
     "output_type": "stream",
     "text": [
      "ERROR: Image Data from /data/user/jwst_jw03/jw03271/jw03271010001_02101_00003_mirimage_i2d.fits.gz Not Found\n",
      "ERROR: Image Data from /data/user/jwst_jw03/jw03271/jw03271010001_02101_00002_mirimage_i2d.fits.gz Not Found\n",
      "ERROR: Image Data from /data/user/jwst_jw03/jw03271/jw03271010001_02101_00001_mirimage_i2d.fits.gz Not Found\n",
      "ERROR: Image Data from /data/user/jwst_jw03/jw03271/jw03271010001_02101_00004_mirimage_i2d.fits.gz Not Found\n",
      "saved\n",
      "Empty Dataframe, No asteroids in that proposal range [3275, 3279]\n",
      "Empty Dataframe, No asteroids in that proposal range [3280, 3284]\n",
      "Empty Dataframe, No asteroids in that proposal range [3285, 3289]\n",
      "Empty Dataframe, No asteroids in that proposal range [3290, 3294]\n",
      "Empty Dataframe, No asteroids in that proposal range [3295, 3299]\n",
      "Empty Dataframe, No asteroids in that proposal range [3300, 3304]\n",
      "Empty Dataframe, No asteroids in that proposal range [3305, 3309]\n",
      "Empty Dataframe, No asteroids in that proposal range [3310, 3314]\n",
      "Empty Dataframe, No asteroids in that proposal range [3315, 3319]\n",
      "Empty Dataframe, No asteroids in that proposal range [3320, 3324]\n",
      "Empty Dataframe, No asteroids in that proposal range [3325, 3329]\n",
      "Empty Dataframe, No asteroids in that proposal range [3330, 3334]\n",
      "Empty Dataframe, No asteroids in that proposal range [3335, 3339]\n",
      "Empty Dataframe, No asteroids in that proposal range [3340, 3344]\n",
      "Empty Dataframe, No asteroids in that proposal range [3345, 3349]\n",
      "Empty Dataframe, No asteroids in that proposal range [3350, 3354]\n",
      "Empty Dataframe, No asteroids in that proposal range [3355, 3359]\n",
      "Empty Dataframe, No asteroids in that proposal range [3360, 3364]\n",
      "Empty Dataframe, No asteroids in that proposal range [3365, 3369]\n",
      "Empty Dataframe, No asteroids in that proposal range [3370, 3374]\n",
      "Empty Dataframe, No asteroids in that proposal range [3375, 3379]\n",
      "Empty Dataframe, No asteroids in that proposal range [3380, 3384]\n",
      "Empty Dataframe, No asteroids in that proposal range [3385, 3389]\n",
      "Empty Dataframe, No asteroids in that proposal range [3390, 3394]\n",
      "Empty Dataframe, No asteroids in that proposal range [3395, 3399]\n",
      "Empty Dataframe, No asteroids in that proposal range [3400, 3404]\n",
      "Empty Dataframe, No asteroids in that proposal range [3405, 3409]\n",
      "Empty Dataframe, No asteroids in that proposal range [3410, 3414]\n",
      "Empty Dataframe, No asteroids in that proposal range [3415, 3419]\n",
      "Empty Dataframe, No asteroids in that proposal range [3420, 3424]\n",
      "Empty Dataframe, No asteroids in that proposal range [3425, 3429]\n",
      "Empty Dataframe, No asteroids in that proposal range [3430, 3434]\n",
      "Empty Dataframe, No asteroids in that proposal range [3435, 3439]\n",
      "Empty Dataframe, No asteroids in that proposal range [3440, 3444]\n",
      "From proposals [3445] found 1 Observations containing asteroids\n"
     ]
    },
    {
     "data": {
      "application/vnd.jupyter.widget-view+json": {
       "model_id": "42d2b4dc566a4e9ca9f5f74033476dfa",
       "version_major": 2,
       "version_minor": 0
      },
      "text/plain": [
       "  0%|          | 0/4 [00:00<?, ?it/s]"
      ]
     },
     "metadata": {},
     "output_type": "display_data"
    },
    {
     "name": "stdout",
     "output_type": "stream",
     "text": [
      "saved\n",
      "Empty Dataframe, No asteroids in that proposal range [3450, 3454]\n",
      "Empty Dataframe, No asteroids in that proposal range [3455, 3459]\n",
      "Empty Dataframe, No asteroids in that proposal range [3460, 3464]\n",
      "Empty Dataframe, No asteroids in that proposal range [3465, 3469]\n",
      "Empty Dataframe, No asteroids in that proposal range [3470, 3474]\n",
      "Empty Dataframe, No asteroids in that proposal range [3475, 3479]\n",
      "Empty Dataframe, No asteroids in that proposal range [3480, 3484]\n",
      "Empty Dataframe, No asteroids in that proposal range [3485, 3489]\n",
      "Empty Dataframe, No asteroids in that proposal range [3490, 3494]\n",
      "Empty Dataframe, No asteroids in that proposal range [3495, 3499]\n",
      "Empty Dataframe, No asteroids in that proposal range [3500, 3504]\n",
      "Empty Dataframe, No asteroids in that proposal range [3505, 3509]\n",
      "Empty Dataframe, No asteroids in that proposal range [3510, 3514]\n",
      "Empty Dataframe, No asteroids in that proposal range [3515, 3519]\n",
      "Empty Dataframe, No asteroids in that proposal range [3520, 3524]\n",
      "Empty Dataframe, No asteroids in that proposal range [3525, 3529]\n",
      "Empty Dataframe, No asteroids in that proposal range [3530, 3534]\n",
      "Empty Dataframe, No asteroids in that proposal range [3535, 3539]\n",
      "Empty Dataframe, No asteroids in that proposal range [3540, 3544]\n",
      "Empty Dataframe, No asteroids in that proposal range [3545, 3549]\n",
      "Empty Dataframe, No asteroids in that proposal range [3550, 3554]\n",
      "Empty Dataframe, No asteroids in that proposal range [3555, 3559]\n",
      "Empty Dataframe, No asteroids in that proposal range [3560, 3564]\n",
      "Empty Dataframe, No asteroids in that proposal range [3565, 3569]\n",
      "Empty Dataframe, No asteroids in that proposal range [3570, 3574]\n",
      "Empty Dataframe, No asteroids in that proposal range [3575, 3579]\n",
      "Empty Dataframe, No asteroids in that proposal range [3580, 3584]\n",
      "Empty Dataframe, No asteroids in that proposal range [3585, 3589]\n",
      "Empty Dataframe, No asteroids in that proposal range [3590, 3594]\n",
      "Empty Dataframe, No asteroids in that proposal range [3595, 3599]\n",
      "Empty Dataframe, No asteroids in that proposal range [3600, 3604]\n",
      "Empty Dataframe, No asteroids in that proposal range [3605, 3609]\n",
      "Empty Dataframe, No asteroids in that proposal range [3610, 3614]\n",
      "Empty Dataframe, No asteroids in that proposal range [3615, 3619]\n",
      "Empty Dataframe, No asteroids in that proposal range [3620, 3624]\n",
      "Empty Dataframe, No asteroids in that proposal range [3625, 3629]\n",
      "Empty Dataframe, No asteroids in that proposal range [3630, 3634]\n",
      "Empty Dataframe, No asteroids in that proposal range [3635, 3639]\n",
      "Empty Dataframe, No asteroids in that proposal range [3640, 3644]\n",
      "Empty Dataframe, No asteroids in that proposal range [3645, 3649]\n",
      "Empty Dataframe, No asteroids in that proposal range [3650, 3654]\n",
      "Empty Dataframe, No asteroids in that proposal range [3655, 3659]\n",
      "Empty Dataframe, No asteroids in that proposal range [3660, 3664]\n",
      "Empty Dataframe, No asteroids in that proposal range [3665, 3669]\n",
      "Empty Dataframe, No asteroids in that proposal range [3670, 3674]\n",
      "Empty Dataframe, No asteroids in that proposal range [3675, 3679]\n",
      "Empty Dataframe, No asteroids in that proposal range [3680, 3684]\n",
      "Empty Dataframe, No asteroids in that proposal range [3685, 3689]\n",
      "Empty Dataframe, No asteroids in that proposal range [3690, 3694]\n",
      "From proposals [3696] found 1 Observations containing asteroids\n"
     ]
    },
    {
     "data": {
      "application/vnd.jupyter.widget-view+json": {
       "model_id": "72448cb8057e435d91c7dda8098bbb29",
       "version_major": 2,
       "version_minor": 0
      },
      "text/plain": [
       "  0%|          | 0/4 [00:00<?, ?it/s]"
      ]
     },
     "metadata": {},
     "output_type": "display_data"
    },
    {
     "name": "stdout",
     "output_type": "stream",
     "text": [
      "saved\n",
      "Empty Dataframe, No asteroids in that proposal range [3700, 3704]\n",
      "From proposals [3707] found 38 Observations containing asteroids\n"
     ]
    },
    {
     "data": {
      "application/vnd.jupyter.widget-view+json": {
       "model_id": "871d20c5f016418da2a3a101a2a6942a",
       "version_major": 2,
       "version_minor": 0
      },
      "text/plain": [
       "  0%|          | 0/384 [00:00<?, ?it/s]"
      ]
     },
     "metadata": {},
     "output_type": "display_data"
    },
    {
     "name": "stdout",
     "output_type": "stream",
     "text": [
      "saved\n",
      "Empty Dataframe, No asteroids in that proposal range [3710, 3714]\n",
      "Empty Dataframe, No asteroids in that proposal range [3715, 3719]\n",
      "Empty Dataframe, No asteroids in that proposal range [3720, 3724]\n",
      "Empty Dataframe, No asteroids in that proposal range [3725, 3729]\n",
      "Empty Dataframe, No asteroids in that proposal range [3730, 3734]\n",
      "Empty Dataframe, No asteroids in that proposal range [3735, 3739]\n",
      "Empty Dataframe, No asteroids in that proposal range [3740, 3744]\n",
      "Empty Dataframe, No asteroids in that proposal range [3745, 3749]\n",
      "Empty Dataframe, No asteroids in that proposal range [3750, 3754]\n",
      "Empty Dataframe, No asteroids in that proposal range [3755, 3759]\n",
      "Empty Dataframe, No asteroids in that proposal range [3760, 3764]\n",
      "Empty Dataframe, No asteroids in that proposal range [3765, 3769]\n",
      "Empty Dataframe, No asteroids in that proposal range [3770, 3774]\n",
      "Empty Dataframe, No asteroids in that proposal range [3775, 3779]\n",
      "Empty Dataframe, No asteroids in that proposal range [3780, 3784]\n",
      "Empty Dataframe, No asteroids in that proposal range [3785, 3789]\n",
      "Empty Dataframe, No asteroids in that proposal range [3790, 3794]\n",
      "Empty Dataframe, No asteroids in that proposal range [3795, 3799]\n",
      "Empty Dataframe, No asteroids in that proposal range [3800, 3804]\n",
      "Empty Dataframe, No asteroids in that proposal range [3805, 3809]\n",
      "Empty Dataframe, No asteroids in that proposal range [3810, 3814]\n",
      "Empty Dataframe, No asteroids in that proposal range [3815, 3819]\n",
      "Empty Dataframe, No asteroids in that proposal range [3820, 3824]\n",
      "Empty Dataframe, No asteroids in that proposal range [3825, 3829]\n",
      "Empty Dataframe, No asteroids in that proposal range [3830, 3834]\n",
      "Empty Dataframe, No asteroids in that proposal range [3835, 3839]\n",
      "Empty Dataframe, No asteroids in that proposal range [3840, 3844]\n",
      "Empty Dataframe, No asteroids in that proposal range [3845, 3849]\n",
      "Empty Dataframe, No asteroids in that proposal range [3850, 3854]\n",
      "Empty Dataframe, No asteroids in that proposal range [3855, 3859]\n",
      "Empty Dataframe, No asteroids in that proposal range [3860, 3864]\n",
      "Empty Dataframe, No asteroids in that proposal range [3865, 3869]\n",
      "Empty Dataframe, No asteroids in that proposal range [3870, 3874]\n",
      "Empty Dataframe, No asteroids in that proposal range [3875, 3879]\n",
      "Empty Dataframe, No asteroids in that proposal range [3880, 3884]\n",
      "From proposals [3886] found 2 Observations containing asteroids\n"
     ]
    },
    {
     "data": {
      "application/vnd.jupyter.widget-view+json": {
       "model_id": "9f735b62ddd7400798d0d8f79ba4bd62",
       "version_major": 2,
       "version_minor": 0
      },
      "text/plain": [
       "  0%|          | 0/26 [00:00<?, ?it/s]"
      ]
     },
     "metadata": {},
     "output_type": "display_data"
    },
    {
     "name": "stdout",
     "output_type": "stream",
     "text": [
      "ERROR: Image Data from /data/user/jwst_jw03/jw03886/jw03886001001_09101_00003_mirimage_i2d.fits.gz Not Found\n",
      "ERROR: Image Data from /data/user/jwst_jw03/jw03886/jw03886001001_05101_00001_mirimage_i2d.fits.gz Not Found\n",
      "ERROR: Image Data from /data/user/jwst_jw03/jw03886/jw03886001001_07101_00001_mirimage_i2d.fits.gz Not Found\n",
      "ERROR: Image Data from /data/user/jwst_jw03/jw03886/jw03886001001_05101_00004_mirimage_i2d.fits.gz Not Found\n",
      "ERROR: Image Data from /data/user/jwst_jw03/jw03886/jw03886001001_07101_00002_mirimage_i2d.fits.gz Not Found\n",
      "ERROR: Image Data from /data/user/jwst_jw03/jw03886/jw03886018001_03106_00002_mirimage_i2d.fits.gz Not Found\n",
      "ERROR: Image Data from /data/user/jwst_jw03/jw03886/jw03886018001_03104_00003_mirimage_i2d.fits.gz Not Found\n",
      "ERROR: Image Data from /data/user/jwst_jw03/jw03886/jw03886018001_03102_00003_mirimage_i2d.fits.gz Not Found\n",
      "ERROR: Image Data from /data/user/jwst_jw03/jw03886/jw03886018001_03106_00001_mirimage_i2d.fits.gz Not Found\n",
      "ERROR: Image Data from /data/user/jwst_jw03/jw03886/jw03886001001_07101_00003_mirimage_i2d.fits.gz Not Found\n",
      "ERROR: Image Data from /data/user/jwst_jw03/jw03886/jw03886001001_05101_00003_mirimage_i2d.fits.gz Not Found\n",
      "ERROR: Image Data from /data/user/jwst_jw03/jw03886/jw03886018001_03104_00004_mirimage_i2d.fits.gz Not Found\n",
      "ERROR: Image Data from /data/user/jwst_jw03/jw03886/jw03886001001_02101_00001_mirimage_i2d.fits.gz Not Found\n",
      "ERROR: Image Data from /data/user/jwst_jw03/jw03886/jw03886018001_03104_00002_mirimage_i2d.fits.gz Not Found\n",
      "ERROR: Image Data from /data/user/jwst_jw03/jw03886/jw03886018001_03104_00001_mirimage_i2d.fits.gz Not Found\n",
      "ERROR: Image Data from /data/user/jwst_jw03/jw03886/jw03886001001_09101_00002_mirimage_i2d.fits.gz Not Found\n",
      "ERROR: Image Data from /data/user/jwst_jw03/jw03886/jw03886001001_05101_00002_mirimage_i2d.fits.gz Not Found\n",
      "ERROR: Image Data from /data/user/jwst_jw03/jw03886/jw03886001001_09101_00001_mirimage_i2d.fits.gz Not Found\n",
      "ERROR: Image Data from /data/user/jwst_jw03/jw03886/jw03886001001_09101_00004_mirimage_i2d.fits.gz Not Found\n",
      "ERROR: Image Data from /data/user/jwst_jw03/jw03886/jw03886018001_03102_00001_mirimage_i2d.fits.gz Not Found\n",
      "ERROR: Image Data from /data/user/jwst_jw03/jw03886/jw03886001001_07101_00004_mirimage_i2d.fits.gz Not Found\n",
      "ERROR: Image Data from /data/user/jwst_jw03/jw03886/jw03886018001_03106_00004_mirimage_i2d.fits.gz Not Found\n",
      "ERROR: Image Data from /data/user/jwst_jw03/jw03886/jw03886018001_03106_00003_mirimage_i2d.fits.gz Not Found\n",
      "ERROR: Image Data from /data/user/jwst_jw03/jw03886/jw03886018001_03102_00004_mirimage_i2d.fits.gz Not Found\n",
      "ERROR: Image Data from /data/user/jwst_jw03/jw03886/jw03886018001_03102_00002_mirimage_i2d.fits.gz Not Found\n",
      "saved\n",
      "Empty Dataframe, No asteroids in that proposal range [3890, 3894]\n",
      "Empty Dataframe, No asteroids in that proposal range [3895, 3899]\n",
      "Empty Dataframe, No asteroids in that proposal range [3900, 3904]\n",
      "Empty Dataframe, No asteroids in that proposal range [3905, 3909]\n",
      "Empty Dataframe, No asteroids in that proposal range [3910, 3914]\n",
      "Empty Dataframe, No asteroids in that proposal range [3915, 3919]\n",
      "Empty Dataframe, No asteroids in that proposal range [3920, 3924]\n",
      "Empty Dataframe, No asteroids in that proposal range [3925, 3929]\n",
      "Empty Dataframe, No asteroids in that proposal range [3930, 3934]\n",
      "Empty Dataframe, No asteroids in that proposal range [3935, 3939]\n",
      "Empty Dataframe, No asteroids in that proposal range [3940, 3944]\n",
      "Empty Dataframe, No asteroids in that proposal range [3945, 3949]\n",
      "From proposals [3954] found 1 Observations containing asteroids\n"
     ]
    },
    {
     "data": {
      "application/vnd.jupyter.widget-view+json": {
       "model_id": "2d62f4ddf9c74ccbae0a034adb2c67b2",
       "version_major": 2,
       "version_minor": 0
      },
      "text/plain": [
       "  0%|          | 0/4 [00:00<?, ?it/s]"
      ]
     },
     "metadata": {},
     "output_type": "display_data"
    },
    {
     "name": "stdout",
     "output_type": "stream",
     "text": [
      "ERROR: Image Data from /data/user/jwst_jw03/jw03954/jw03954017001_02101_00001_mirimage_i2d.fits.gz Not Found\n",
      "ERROR: Image Data from /data/user/jwst_jw03/jw03954/jw03954017001_02101_00002_mirimage_i2d.fits.gz Not Found\n",
      "ERROR: Image Data from /data/user/jwst_jw03/jw03954/jw03954017001_02101_00004_mirimage_i2d.fits.gz Not Found\n",
      "ERROR: Image Data from /data/user/jwst_jw03/jw03954/jw03954017001_02101_00003_mirimage_i2d.fits.gz Not Found\n",
      "saved\n",
      "Empty Dataframe, No asteroids in that proposal range [3955, 3959]\n",
      "Empty Dataframe, No asteroids in that proposal range [3960, 3964]\n",
      "Empty Dataframe, No asteroids in that proposal range [3965, 3969]\n",
      "Empty Dataframe, No asteroids in that proposal range [3970, 3974]\n",
      "Empty Dataframe, No asteroids in that proposal range [3975, 3979]\n",
      "Empty Dataframe, No asteroids in that proposal range [3980, 3984]\n",
      "Empty Dataframe, No asteroids in that proposal range [3985, 3989]\n",
      "Empty Dataframe, No asteroids in that proposal range [3990, 3994]\n",
      "Empty Dataframe, No asteroids in that proposal range [3995, 3999]\n",
      "Empty Dataframe, No asteroids in that proposal range [4000, 4000]\n",
      "Saving to MIRI/LVL2_Asteroids_3000_4000.csv\n",
      "CPU times: user 6min 51s, sys: 32.3 s, total: 7min 23s\n",
      "Wall time: 15min 38s\n"
     ]
    }
   ],
   "source": [
    "%%time\n",
    "\n",
    "# Constants and parameters\n",
    "username = \"nmartind\"\n",
    "password = \"Mr.Fantastic1999\"\n",
    "starting_proposal = 3000\n",
    "ending_proposal = 4000\n",
    "output_folder = \"MIRI\"\n",
    "input_csv = \"LVL3_Asteroids/Prop3000-4000/LVL3_Full.csv\"\n",
    "propStepSize = 5\n",
    "\n",
    "# List to hold CSV segments\n",
    "csv_lists = []\n",
    "\n",
    "current = starting_proposal\n",
    "\n",
    "while current <= ending_proposal:\n",
    "    segment_end = min(current+propStepSize-1,ending_proposal)\n",
    "    \n",
    "    csv_segment = main(input_csv, output_folder, [int(current), int(segment_end)], username, password)\n",
    "\n",
    "    \n",
    "    if csv_segment is not None and not csv_segment.empty:\n",
    "        csvName = f'{output_folder}/LVL2_Asteroids_Seg_{current}.csv'\n",
    "        csv_segment.to_csv(csvName, index=False)\n",
    "        csv_lists.append(csv_segment)\n",
    "        print('saved')\n",
    "        \n",
    "    current += propStepSize   \n",
    "    \n",
    "if len(csv_lists) > 0:\n",
    "    combined_csv = pd.concat(csv_lists, ignore_index=True)\n",
    "\n",
    "    csvName = f'{output_folder}/LVL2_Asteroids_{starting_proposal}_{ending_proposal}.csv'\n",
    "    combined_csv.to_csv(csvName, index=False)\n",
    "\n",
    "    print(f'Saving to {csvName}')\n",
    "    \n",
    "else:\n",
    "    print('No data in that range')"
   ]
  },
  {
   "cell_type": "code",
   "execution_count": 27,
   "id": "1d663e0b-f9e2-48c5-a660-39c7a5f909a3",
   "metadata": {},
   "outputs": [
    {
     "name": "stdout",
     "output_type": "stream",
     "text": [
      "Empty Dataframe, No asteroids in that proposal range [4000, 4004]\n",
      "Empty Dataframe, No asteroids in that proposal range [4005, 4009]\n",
      "Empty Dataframe, No asteroids in that proposal range [4010, 4014]\n",
      "Empty Dataframe, No asteroids in that proposal range [4015, 4019]\n",
      "Empty Dataframe, No asteroids in that proposal range [4020, 4024]\n",
      "Empty Dataframe, No asteroids in that proposal range [4025, 4029]\n",
      "Empty Dataframe, No asteroids in that proposal range [4030, 4034]\n",
      "Empty Dataframe, No asteroids in that proposal range [4035, 4039]\n",
      "Empty Dataframe, No asteroids in that proposal range [4040, 4044]\n",
      "Empty Dataframe, No asteroids in that proposal range [4045, 4049]\n",
      "Empty Dataframe, No asteroids in that proposal range [4050, 4054]\n",
      "Empty Dataframe, No asteroids in that proposal range [4055, 4059]\n",
      "Empty Dataframe, No asteroids in that proposal range [4060, 4064]\n",
      "Empty Dataframe, No asteroids in that proposal range [4065, 4069]\n",
      "Empty Dataframe, No asteroids in that proposal range [4070, 4074]\n",
      "Empty Dataframe, No asteroids in that proposal range [4075, 4079]\n",
      "Empty Dataframe, No asteroids in that proposal range [4080, 4084]\n",
      "Empty Dataframe, No asteroids in that proposal range [4085, 4089]\n",
      "Empty Dataframe, No asteroids in that proposal range [4090, 4094]\n",
      "Empty Dataframe, No asteroids in that proposal range [4095, 4099]\n",
      "Empty Dataframe, No asteroids in that proposal range [4100, 4104]\n",
      "Empty Dataframe, No asteroids in that proposal range [4105, 4109]\n",
      "Empty Dataframe, No asteroids in that proposal range [4110, 4114]\n",
      "Empty Dataframe, No asteroids in that proposal range [4115, 4119]\n",
      "Empty Dataframe, No asteroids in that proposal range [4120, 4124]\n",
      "Empty Dataframe, No asteroids in that proposal range [4125, 4129]\n",
      "Empty Dataframe, No asteroids in that proposal range [4130, 4134]\n",
      "Empty Dataframe, No asteroids in that proposal range [4135, 4139]\n",
      "Empty Dataframe, No asteroids in that proposal range [4140, 4144]\n",
      "Empty Dataframe, No asteroids in that proposal range [4145, 4149]\n",
      "Empty Dataframe, No asteroids in that proposal range [4150, 4154]\n",
      "Empty Dataframe, No asteroids in that proposal range [4155, 4159]\n",
      "Empty Dataframe, No asteroids in that proposal range [4160, 4164]\n",
      "Empty Dataframe, No asteroids in that proposal range [4165, 4169]\n",
      "Empty Dataframe, No asteroids in that proposal range [4170, 4174]\n",
      "Empty Dataframe, No asteroids in that proposal range [4175, 4179]\n",
      "Empty Dataframe, No asteroids in that proposal range [4180, 4184]\n",
      "Empty Dataframe, No asteroids in that proposal range [4185, 4189]\n",
      "Empty Dataframe, No asteroids in that proposal range [4190, 4194]\n",
      "Empty Dataframe, No asteroids in that proposal range [4195, 4199]\n",
      "Empty Dataframe, No asteroids in that proposal range [4200, 4204]\n",
      "Empty Dataframe, No asteroids in that proposal range [4205, 4209]\n",
      "Empty Dataframe, No asteroids in that proposal range [4210, 4214]\n",
      "Empty Dataframe, No asteroids in that proposal range [4215, 4219]\n",
      "Empty Dataframe, No asteroids in that proposal range [4220, 4224]\n",
      "Empty Dataframe, No asteroids in that proposal range [4225, 4229]\n",
      "Empty Dataframe, No asteroids in that proposal range [4230, 4234]\n",
      "Empty Dataframe, No asteroids in that proposal range [4235, 4239]\n",
      "Empty Dataframe, No asteroids in that proposal range [4240, 4244]\n",
      "Empty Dataframe, No asteroids in that proposal range [4245, 4249]\n",
      "Empty Dataframe, No asteroids in that proposal range [4250, 4254]\n",
      "From proposals [4256] found 2 Observations containing asteroids\n"
     ]
    },
    {
     "data": {
      "application/vnd.jupyter.widget-view+json": {
       "model_id": "4aa68d840d964593b81535f48294e47e",
       "version_major": 2,
       "version_minor": 0
      },
      "text/plain": [
       "  0%|          | 0/16 [00:00<?, ?it/s]"
      ]
     },
     "metadata": {},
     "output_type": "display_data"
    },
    {
     "name": "stdout",
     "output_type": "stream",
     "text": [
      "saved\n",
      "Empty Dataframe, No asteroids in that proposal range [4260, 4264]\n",
      "Empty Dataframe, No asteroids in that proposal range [4265, 4269]\n",
      "Empty Dataframe, No asteroids in that proposal range [4270, 4274]\n",
      "From proposals [4278] found 3 Observations containing asteroids\n"
     ]
    },
    {
     "data": {
      "application/vnd.jupyter.widget-view+json": {
       "model_id": "476c6b6b824745d289ae839e6cf842ae",
       "version_major": 2,
       "version_minor": 0
      },
      "text/plain": [
       "  0%|          | 0/6 [00:00<?, ?it/s]"
      ]
     },
     "metadata": {},
     "output_type": "display_data"
    },
    {
     "name": "stdout",
     "output_type": "stream",
     "text": [
      "ERROR: Image Data from /data/user/jwst_jw04/jw04278/jw04278014001_04101_00002_mirimage_i2d.fits.gz Not Found\n",
      "ERROR: Image Data from /data/user/jwst_jw04/jw04278/jw04278014001_06101_00002_mirimage_i2d.fits.gz Not Found\n",
      "ERROR: Image Data from /data/user/jwst_jw04/jw04278/jw04278014001_02101_00002_mirimage_i2d.fits.gz Not Found\n",
      "ERROR: Image Data from /data/user/jwst_jw04/jw04278/jw04278014001_06101_00001_mirimage_i2d.fits.gz Not Found\n",
      "ERROR: Image Data from /data/user/jwst_jw04/jw04278/jw04278014001_02101_00001_mirimage_i2d.fits.gz Not Found\n",
      "ERROR: Image Data from /data/user/jwst_jw04/jw04278/jw04278014001_04101_00001_mirimage_i2d.fits.gz Not Found\n",
      "saved\n",
      "Empty Dataframe, No asteroids in that proposal range [4280, 4284]\n",
      "Empty Dataframe, No asteroids in that proposal range [4285, 4289]\n",
      "From proposals [4290] found 1 Observations containing asteroids\n"
     ]
    },
    {
     "data": {
      "application/vnd.jupyter.widget-view+json": {
       "model_id": "7c5d2938520146b59319f3e93989a493",
       "version_major": 2,
       "version_minor": 0
      },
      "text/plain": [
       "  0%|          | 0/4 [00:00<?, ?it/s]"
      ]
     },
     "metadata": {},
     "output_type": "display_data"
    },
    {
     "name": "stdout",
     "output_type": "stream",
     "text": [
      "saved\n",
      "Empty Dataframe, No asteroids in that proposal range [4295, 4299]\n",
      "Empty Dataframe, No asteroids in that proposal range [4300, 4304]\n",
      "Empty Dataframe, No asteroids in that proposal range [4305, 4309]\n",
      "Empty Dataframe, No asteroids in that proposal range [4310, 4314]\n",
      "Empty Dataframe, No asteroids in that proposal range [4315, 4319]\n",
      "Empty Dataframe, No asteroids in that proposal range [4320, 4324]\n",
      "Empty Dataframe, No asteroids in that proposal range [4325, 4329]\n",
      "Empty Dataframe, No asteroids in that proposal range [4330, 4334]\n",
      "Empty Dataframe, No asteroids in that proposal range [4335, 4339]\n",
      "Empty Dataframe, No asteroids in that proposal range [4340, 4344]\n",
      "Empty Dataframe, No asteroids in that proposal range [4345, 4349]\n",
      "Empty Dataframe, No asteroids in that proposal range [4350, 4354]\n",
      "Empty Dataframe, No asteroids in that proposal range [4355, 4359]\n",
      "Empty Dataframe, No asteroids in that proposal range [4360, 4364]\n",
      "Empty Dataframe, No asteroids in that proposal range [4365, 4369]\n",
      "Empty Dataframe, No asteroids in that proposal range [4370, 4374]\n",
      "Empty Dataframe, No asteroids in that proposal range [4375, 4379]\n",
      "Empty Dataframe, No asteroids in that proposal range [4380, 4384]\n",
      "Empty Dataframe, No asteroids in that proposal range [4385, 4389]\n",
      "Empty Dataframe, No asteroids in that proposal range [4390, 4394]\n",
      "Empty Dataframe, No asteroids in that proposal range [4395, 4399]\n",
      "Empty Dataframe, No asteroids in that proposal range [4400, 4404]\n",
      "Empty Dataframe, No asteroids in that proposal range [4405, 4409]\n",
      "Empty Dataframe, No asteroids in that proposal range [4410, 4414]\n",
      "Empty Dataframe, No asteroids in that proposal range [4415, 4419]\n",
      "Empty Dataframe, No asteroids in that proposal range [4420, 4424]\n",
      "Empty Dataframe, No asteroids in that proposal range [4425, 4429]\n",
      "Empty Dataframe, No asteroids in that proposal range [4430, 4434]\n",
      "Empty Dataframe, No asteroids in that proposal range [4435, 4439]\n",
      "Empty Dataframe, No asteroids in that proposal range [4440, 4444]\n",
      "Empty Dataframe, No asteroids in that proposal range [4445, 4449]\n",
      "Empty Dataframe, No asteroids in that proposal range [4450, 4454]\n",
      "Empty Dataframe, No asteroids in that proposal range [4455, 4459]\n",
      "Empty Dataframe, No asteroids in that proposal range [4460, 4464]\n",
      "Empty Dataframe, No asteroids in that proposal range [4465, 4469]\n",
      "Empty Dataframe, No asteroids in that proposal range [4470, 4474]\n",
      "Empty Dataframe, No asteroids in that proposal range [4475, 4479]\n",
      "Empty Dataframe, No asteroids in that proposal range [4480, 4484]\n",
      "Empty Dataframe, No asteroids in that proposal range [4485, 4489]\n",
      "Empty Dataframe, No asteroids in that proposal range [4490, 4494]\n",
      "Empty Dataframe, No asteroids in that proposal range [4495, 4499]\n",
      "Empty Dataframe, No asteroids in that proposal range [4500, 4504]\n",
      "Empty Dataframe, No asteroids in that proposal range [4505, 4509]\n",
      "Empty Dataframe, No asteroids in that proposal range [4510, 4514]\n",
      "From proposals [4516] found 3 Observations containing asteroids\n"
     ]
    },
    {
     "data": {
      "application/vnd.jupyter.widget-view+json": {
       "model_id": "c7815aa13a894c8a98607a6674f0620e",
       "version_major": 2,
       "version_minor": 0
      },
      "text/plain": [
       "  0%|          | 0/13 [00:00<?, ?it/s]"
      ]
     },
     "metadata": {},
     "output_type": "display_data"
    },
    {
     "name": "stdout",
     "output_type": "stream",
     "text": [
      "ERROR: Image Data from /data/user/jwst_jw04/jw04516/jw04516009001_02101_00001_mirimage_i2d.fits.gz Not Found\n",
      "saved\n",
      "Empty Dataframe, No asteroids in that proposal range [4520, 4524]\n",
      "Empty Dataframe, No asteroids in that proposal range [4525, 4529]\n",
      "Empty Dataframe, No asteroids in that proposal range [4530, 4534]\n",
      "Empty Dataframe, No asteroids in that proposal range [4535, 4539]\n",
      "Empty Dataframe, No asteroids in that proposal range [4540, 4544]\n",
      "Empty Dataframe, No asteroids in that proposal range [4545, 4549]\n",
      "Empty Dataframe, No asteroids in that proposal range [4550, 4554]\n",
      "Empty Dataframe, No asteroids in that proposal range [4555, 4559]\n",
      "Empty Dataframe, No asteroids in that proposal range [4560, 4564]\n",
      "Empty Dataframe, No asteroids in that proposal range [4565, 4569]\n",
      "Empty Dataframe, No asteroids in that proposal range [4570, 4574]\n",
      "Empty Dataframe, No asteroids in that proposal range [4575, 4579]\n",
      "Empty Dataframe, No asteroids in that proposal range [4580, 4584]\n",
      "Empty Dataframe, No asteroids in that proposal range [4585, 4589]\n",
      "Empty Dataframe, No asteroids in that proposal range [4590, 4594]\n",
      "Empty Dataframe, No asteroids in that proposal range [4595, 4599]\n",
      "Empty Dataframe, No asteroids in that proposal range [4600, 4604]\n",
      "Empty Dataframe, No asteroids in that proposal range [4605, 4609]\n",
      "Empty Dataframe, No asteroids in that proposal range [4610, 4614]\n",
      "Empty Dataframe, No asteroids in that proposal range [4615, 4619]\n",
      "Empty Dataframe, No asteroids in that proposal range [4620, 4624]\n",
      "Empty Dataframe, No asteroids in that proposal range [4625, 4629]\n",
      "Empty Dataframe, No asteroids in that proposal range [4630, 4634]\n",
      "Empty Dataframe, No asteroids in that proposal range [4635, 4639]\n",
      "Empty Dataframe, No asteroids in that proposal range [4640, 4644]\n",
      "Empty Dataframe, No asteroids in that proposal range [4645, 4649]\n",
      "Empty Dataframe, No asteroids in that proposal range [4650, 4654]\n",
      "Empty Dataframe, No asteroids in that proposal range [4655, 4659]\n",
      "Empty Dataframe, No asteroids in that proposal range [4660, 4664]\n",
      "Empty Dataframe, No asteroids in that proposal range [4665, 4669]\n",
      "Empty Dataframe, No asteroids in that proposal range [4670, 4674]\n",
      "Empty Dataframe, No asteroids in that proposal range [4675, 4679]\n",
      "Empty Dataframe, No asteroids in that proposal range [4680, 4684]\n",
      "Empty Dataframe, No asteroids in that proposal range [4685, 4689]\n",
      "Empty Dataframe, No asteroids in that proposal range [4690, 4694]\n",
      "Empty Dataframe, No asteroids in that proposal range [4695, 4699]\n",
      "Empty Dataframe, No asteroids in that proposal range [4700, 4704]\n",
      "Empty Dataframe, No asteroids in that proposal range [4705, 4709]\n",
      "Empty Dataframe, No asteroids in that proposal range [4710, 4714]\n",
      "Empty Dataframe, No asteroids in that proposal range [4715, 4719]\n",
      "Empty Dataframe, No asteroids in that proposal range [4720, 4724]\n",
      "From proposals [4727] found 1 Observations containing asteroids\n"
     ]
    },
    {
     "data": {
      "application/vnd.jupyter.widget-view+json": {
       "model_id": "1e39a5200b8240778911b30ee9a25302",
       "version_major": 2,
       "version_minor": 0
      },
      "text/plain": [
       "  0%|          | 0/13 [00:00<?, ?it/s]"
      ]
     },
     "metadata": {},
     "output_type": "display_data"
    },
    {
     "name": "stdout",
     "output_type": "stream",
     "text": [
      "ERROR: Image Data from /data/user/jwst_jw04/jw04727/jw04727008001_04104_00001_mirimage_i2d.fits.gz Not Found\n",
      "ERROR: Image Data from /data/user/jwst_jw04/jw04727/jw04727008001_02101_00001_mirimage_i2d.fits.gz Not Found\n",
      "ERROR: Image Data from /data/user/jwst_jw04/jw04727/jw04727008001_04102_00003_mirimage_i2d.fits.gz Not Found\n",
      "ERROR: Image Data from /data/user/jwst_jw04/jw04727/jw04727008001_04102_00002_mirimage_i2d.fits.gz Not Found\n",
      "ERROR: Image Data from /data/user/jwst_jw04/jw04727/jw04727008001_04102_00001_mirimage_i2d.fits.gz Not Found\n",
      "saved\n",
      "Empty Dataframe, No asteroids in that proposal range [4730, 4734]\n",
      "Empty Dataframe, No asteroids in that proposal range [4735, 4739]\n",
      "Empty Dataframe, No asteroids in that proposal range [4740, 4744]\n",
      "Empty Dataframe, No asteroids in that proposal range [4745, 4749]\n",
      "Empty Dataframe, No asteroids in that proposal range [4750, 4754]\n",
      "Empty Dataframe, No asteroids in that proposal range [4755, 4759]\n",
      "Empty Dataframe, No asteroids in that proposal range [4760, 4764]\n",
      "Empty Dataframe, No asteroids in that proposal range [4765, 4769]\n",
      "Empty Dataframe, No asteroids in that proposal range [4770, 4774]\n",
      "Empty Dataframe, No asteroids in that proposal range [4775, 4779]\n",
      "Empty Dataframe, No asteroids in that proposal range [4780, 4784]\n",
      "Empty Dataframe, No asteroids in that proposal range [4785, 4789]\n",
      "Empty Dataframe, No asteroids in that proposal range [4790, 4794]\n",
      "Empty Dataframe, No asteroids in that proposal range [4795, 4799]\n",
      "Empty Dataframe, No asteroids in that proposal range [4800, 4804]\n",
      "Empty Dataframe, No asteroids in that proposal range [4805, 4809]\n",
      "Empty Dataframe, No asteroids in that proposal range [4810, 4814]\n",
      "Empty Dataframe, No asteroids in that proposal range [4815, 4819]\n",
      "Empty Dataframe, No asteroids in that proposal range [4820, 4824]\n",
      "Empty Dataframe, No asteroids in that proposal range [4825, 4829]\n",
      "Empty Dataframe, No asteroids in that proposal range [4830, 4834]\n",
      "Empty Dataframe, No asteroids in that proposal range [4835, 4839]\n",
      "Empty Dataframe, No asteroids in that proposal range [4840, 4844]\n",
      "Empty Dataframe, No asteroids in that proposal range [4845, 4849]\n",
      "Empty Dataframe, No asteroids in that proposal range [4850, 4854]\n",
      "Empty Dataframe, No asteroids in that proposal range [4855, 4859]\n",
      "Empty Dataframe, No asteroids in that proposal range [4860, 4864]\n",
      "Empty Dataframe, No asteroids in that proposal range [4865, 4869]\n",
      "Empty Dataframe, No asteroids in that proposal range [4870, 4874]\n",
      "Empty Dataframe, No asteroids in that proposal range [4875, 4879]\n",
      "Empty Dataframe, No asteroids in that proposal range [4880, 4884]\n",
      "Empty Dataframe, No asteroids in that proposal range [4885, 4889]\n",
      "Empty Dataframe, No asteroids in that proposal range [4890, 4894]\n",
      "Empty Dataframe, No asteroids in that proposal range [4895, 4899]\n",
      "Empty Dataframe, No asteroids in that proposal range [4900, 4904]\n",
      "Empty Dataframe, No asteroids in that proposal range [4905, 4909]\n",
      "Empty Dataframe, No asteroids in that proposal range [4910, 4914]\n",
      "Empty Dataframe, No asteroids in that proposal range [4915, 4919]\n",
      "Empty Dataframe, No asteroids in that proposal range [4920, 4924]\n",
      "Empty Dataframe, No asteroids in that proposal range [4925, 4929]\n",
      "Empty Dataframe, No asteroids in that proposal range [4930, 4934]\n",
      "Empty Dataframe, No asteroids in that proposal range [4935, 4939]\n",
      "Empty Dataframe, No asteroids in that proposal range [4940, 4944]\n",
      "Empty Dataframe, No asteroids in that proposal range [4945, 4949]\n",
      "Empty Dataframe, No asteroids in that proposal range [4950, 4954]\n",
      "Empty Dataframe, No asteroids in that proposal range [4955, 4959]\n",
      "Empty Dataframe, No asteroids in that proposal range [4960, 4964]\n",
      "Empty Dataframe, No asteroids in that proposal range [4965, 4969]\n",
      "Empty Dataframe, No asteroids in that proposal range [4970, 4974]\n",
      "Empty Dataframe, No asteroids in that proposal range [4975, 4979]\n",
      "Empty Dataframe, No asteroids in that proposal range [4980, 4984]\n",
      "Empty Dataframe, No asteroids in that proposal range [4985, 4989]\n",
      "Empty Dataframe, No asteroids in that proposal range [4990, 4994]\n",
      "Empty Dataframe, No asteroids in that proposal range [4995, 4999]\n",
      "Empty Dataframe, No asteroids in that proposal range [5000, 5000]\n",
      "Saving to MIRI/LVL2_Asteroids_4000_5000.csv\n",
      "CPU times: user 20.6 s, sys: 6.16 s, total: 26.7 s\n",
      "Wall time: 1min 7s\n"
     ]
    }
   ],
   "source": [
    "%%time\n",
    "\n",
    "# Constants and parameters\n",
    "username = \"nmartind\"\n",
    "password = \"Mr.Fantastic1999\"\n",
    "starting_proposal = 4000\n",
    "ending_proposal = 5000\n",
    "output_folder = \"MIRI\"\n",
    "input_csv = \"LVL3_Asteroids/Prop4000-5000/LVL3_Full.csv\"\n",
    "propStepSize = 5\n",
    "\n",
    "# List to hold CSV segments\n",
    "csv_lists = []\n",
    "\n",
    "current = starting_proposal\n",
    "\n",
    "while current <= ending_proposal:\n",
    "    segment_end = min(current+propStepSize-1,ending_proposal)\n",
    "    \n",
    "    csv_segment = main(input_csv, output_folder, [int(current), int(segment_end)], username, password)\n",
    "\n",
    "    \n",
    "    if csv_segment is not None and not csv_segment.empty:\n",
    "        csvName = f'{output_folder}/LVL2_Asteroids_Seg_{current}.csv'\n",
    "        csv_segment.to_csv(csvName, index=False)\n",
    "        csv_lists.append(csv_segment)\n",
    "        print('saved')\n",
    "        \n",
    "    current += propStepSize   \n",
    "    \n",
    "if len(csv_lists) > 0:\n",
    "    combined_csv = pd.concat(csv_lists, ignore_index=True)\n",
    "\n",
    "    csvName = f'{output_folder}/LVL2_Asteroids_{starting_proposal}_{ending_proposal}.csv'\n",
    "    combined_csv.to_csv(csvName, index=False)\n",
    "\n",
    "    print(f'Saving to {csvName}')\n",
    "    \n",
    "else:\n",
    "    print('No data in that range')"
   ]
  },
  {
   "cell_type": "code",
   "execution_count": null,
   "id": "e77ff084-1165-4c3f-aef0-c764b7cb5d01",
   "metadata": {},
   "outputs": [],
   "source": []
  },
  {
   "cell_type": "code",
   "execution_count": null,
   "id": "ca71c862-4b64-4751-a185-45bc9147dea3",
   "metadata": {},
   "outputs": [],
   "source": []
  }
 ],
 "metadata": {
  "kernelspec": {
   "display_name": "Nik_Asteroid",
   "language": "python",
   "name": "nik_asteroid"
  },
  "language_info": {
   "codemirror_mode": {
    "name": "ipython",
    "version": 3
   },
   "file_extension": ".py",
   "mimetype": "text/x-python",
   "name": "python",
   "nbconvert_exporter": "python",
   "pygments_lexer": "ipython3",
   "version": "3.9.19"
  }
 },
 "nbformat": 4,
 "nbformat_minor": 5
}
